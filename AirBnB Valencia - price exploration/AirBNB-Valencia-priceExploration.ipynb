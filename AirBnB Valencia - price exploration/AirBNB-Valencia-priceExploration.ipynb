{
 "cells": [
  {
   "cell_type": "markdown",
   "metadata": {},
   "source": [
    "# AirBnB rentals in Valencia\n",
    "\n",
    "Dataset: http://insideairbnb.com/get-the-data.html | Valencia, Valencia, Spain | listings.csv.gz"
   ]
  },
  {
   "cell_type": "code",
   "execution_count": 1,
   "metadata": {},
   "outputs": [],
   "source": [
    "import pandas as pd\n",
    "import matplotlib.pyplot as plt\n",
    "import numpy as np\n",
    "import seaborn as sns\n",
    "import ast\n",
    "%matplotlib inline"
   ]
  },
  {
   "cell_type": "code",
   "execution_count": 2,
   "metadata": {},
   "outputs": [],
   "source": [
    "listings = pd.read_csv('ValenciaListings.csv')"
   ]
  },
  {
   "cell_type": "code",
   "execution_count": 3,
   "metadata": {},
   "outputs": [
    {
     "data": {
      "text/html": [
       "<div>\n",
       "<style scoped>\n",
       "    .dataframe tbody tr th:only-of-type {\n",
       "        vertical-align: middle;\n",
       "    }\n",
       "\n",
       "    .dataframe tbody tr th {\n",
       "        vertical-align: top;\n",
       "    }\n",
       "\n",
       "    .dataframe thead th {\n",
       "        text-align: right;\n",
       "    }\n",
       "</style>\n",
       "<table border=\"1\" class=\"dataframe\">\n",
       "  <thead>\n",
       "    <tr style=\"text-align: right;\">\n",
       "      <th></th>\n",
       "      <th>id</th>\n",
       "      <th>listing_url</th>\n",
       "      <th>scrape_id</th>\n",
       "      <th>last_scraped</th>\n",
       "      <th>name</th>\n",
       "      <th>description</th>\n",
       "      <th>neighborhood_overview</th>\n",
       "      <th>picture_url</th>\n",
       "      <th>host_id</th>\n",
       "      <th>host_url</th>\n",
       "      <th>...</th>\n",
       "      <th>review_scores_communication</th>\n",
       "      <th>review_scores_location</th>\n",
       "      <th>review_scores_value</th>\n",
       "      <th>license</th>\n",
       "      <th>instant_bookable</th>\n",
       "      <th>calculated_host_listings_count</th>\n",
       "      <th>calculated_host_listings_count_entire_homes</th>\n",
       "      <th>calculated_host_listings_count_private_rooms</th>\n",
       "      <th>calculated_host_listings_count_shared_rooms</th>\n",
       "      <th>reviews_per_month</th>\n",
       "    </tr>\n",
       "  </thead>\n",
       "  <tbody>\n",
       "    <tr>\n",
       "      <th>0</th>\n",
       "      <td>48154</td>\n",
       "      <td>https://www.airbnb.com/rooms/48154</td>\n",
       "      <td>20210921151226</td>\n",
       "      <td>2021-09-21</td>\n",
       "      <td>beautiful apartment wifi</td>\n",
       "      <td>&lt;b&gt;The space&lt;/b&gt;&lt;br /&gt;Hello everybody and than...</td>\n",
       "      <td>NaN</td>\n",
       "      <td>https://a0.muscache.com/pictures/1109085/9c0d4...</td>\n",
       "      <td>219476</td>\n",
       "      <td>https://www.airbnb.com/users/show/219476</td>\n",
       "      <td>...</td>\n",
       "      <td>4.71</td>\n",
       "      <td>4.42</td>\n",
       "      <td>4.51</td>\n",
       "      <td>VT-41540-V</td>\n",
       "      <td>f</td>\n",
       "      <td>2</td>\n",
       "      <td>2</td>\n",
       "      <td>0</td>\n",
       "      <td>0</td>\n",
       "      <td>0.86</td>\n",
       "    </tr>\n",
       "    <tr>\n",
       "      <th>1</th>\n",
       "      <td>55692</td>\n",
       "      <td>https://www.airbnb.com/rooms/55692</td>\n",
       "      <td>20210921151226</td>\n",
       "      <td>2021-09-21</td>\n",
       "      <td>Delight in city center</td>\n",
       "      <td>A great place to stay and visit Valencia.&lt;br /...</td>\n",
       "      <td>NaN</td>\n",
       "      <td>https://a0.muscache.com/pictures/329316/a5d6a7...</td>\n",
       "      <td>120649</td>\n",
       "      <td>https://www.airbnb.com/users/show/120649</td>\n",
       "      <td>...</td>\n",
       "      <td>5.00</td>\n",
       "      <td>5.00</td>\n",
       "      <td>5.00</td>\n",
       "      <td>NaN</td>\n",
       "      <td>f</td>\n",
       "      <td>1</td>\n",
       "      <td>1</td>\n",
       "      <td>0</td>\n",
       "      <td>0</td>\n",
       "      <td>0.01</td>\n",
       "    </tr>\n",
       "    <tr>\n",
       "      <th>2</th>\n",
       "      <td>95393</td>\n",
       "      <td>https://www.airbnb.com/rooms/95393</td>\n",
       "      <td>20210921151226</td>\n",
       "      <td>2021-09-21</td>\n",
       "      <td>Modern and bright Duplex 3 Bedrooms Center Wi-Fi</td>\n",
       "      <td>This is \"Edificio Palomar Apartments\", I will ...</td>\n",
       "      <td>It is just 10 min walking distance to the Cath...</td>\n",
       "      <td>https://a0.muscache.com/pictures/931683/64aebc...</td>\n",
       "      <td>508042</td>\n",
       "      <td>https://www.airbnb.com/users/show/508042</td>\n",
       "      <td>...</td>\n",
       "      <td>4.77</td>\n",
       "      <td>4.78</td>\n",
       "      <td>4.70</td>\n",
       "      <td>31815</td>\n",
       "      <td>f</td>\n",
       "      <td>6</td>\n",
       "      <td>6</td>\n",
       "      <td>0</td>\n",
       "      <td>0</td>\n",
       "      <td>1.00</td>\n",
       "    </tr>\n",
       "    <tr>\n",
       "      <th>3</th>\n",
       "      <td>100347</td>\n",
       "      <td>https://www.airbnb.com/rooms/100347</td>\n",
       "      <td>20210921151226</td>\n",
       "      <td>2021-09-21</td>\n",
       "      <td>3BDR full Home at Sorolla station and Metro Jesús</td>\n",
       "      <td>Te va a encantar mi espacio por la ubicación y...</td>\n",
       "      <td>Barrio de Jesús, cercano al centro, zona conso...</td>\n",
       "      <td>https://a0.muscache.com/pictures/b0bb18e8-1f24...</td>\n",
       "      <td>1451371</td>\n",
       "      <td>https://www.airbnb.com/users/show/1451371</td>\n",
       "      <td>...</td>\n",
       "      <td>4.89</td>\n",
       "      <td>4.80</td>\n",
       "      <td>4.65</td>\n",
       "      <td>NaN</td>\n",
       "      <td>f</td>\n",
       "      <td>1</td>\n",
       "      <td>1</td>\n",
       "      <td>0</td>\n",
       "      <td>0</td>\n",
       "      <td>2.89</td>\n",
       "    </tr>\n",
       "    <tr>\n",
       "      <th>4</th>\n",
       "      <td>102524</td>\n",
       "      <td>https://www.airbnb.com/rooms/102524</td>\n",
       "      <td>20210921151226</td>\n",
       "      <td>2021-09-21</td>\n",
       "      <td>EXCLUSIVE VILLA WITH POOL &amp; 5 SUITES ON THE BEACH</td>\n",
       "      <td>DO NOT PARTY OR STAG/HEN PARTIES! THE RESERVAT...</td>\n",
       "      <td>Best restaurantes bars and clubs and chill out...</td>\n",
       "      <td>https://a0.muscache.com/pictures/d2019707-1596...</td>\n",
       "      <td>535881</td>\n",
       "      <td>https://www.airbnb.com/users/show/535881</td>\n",
       "      <td>...</td>\n",
       "      <td>4.59</td>\n",
       "      <td>4.76</td>\n",
       "      <td>4.36</td>\n",
       "      <td>VT-36438-V</td>\n",
       "      <td>f</td>\n",
       "      <td>7</td>\n",
       "      <td>6</td>\n",
       "      <td>1</td>\n",
       "      <td>0</td>\n",
       "      <td>1.33</td>\n",
       "    </tr>\n",
       "  </tbody>\n",
       "</table>\n",
       "<p>5 rows × 74 columns</p>\n",
       "</div>"
      ],
      "text/plain": [
       "       id                          listing_url       scrape_id last_scraped  \\\n",
       "0   48154   https://www.airbnb.com/rooms/48154  20210921151226   2021-09-21   \n",
       "1   55692   https://www.airbnb.com/rooms/55692  20210921151226   2021-09-21   \n",
       "2   95393   https://www.airbnb.com/rooms/95393  20210921151226   2021-09-21   \n",
       "3  100347  https://www.airbnb.com/rooms/100347  20210921151226   2021-09-21   \n",
       "4  102524  https://www.airbnb.com/rooms/102524  20210921151226   2021-09-21   \n",
       "\n",
       "                                                name  \\\n",
       "0                           beautiful apartment wifi   \n",
       "1                             Delight in city center   \n",
       "2   Modern and bright Duplex 3 Bedrooms Center Wi-Fi   \n",
       "3  3BDR full Home at Sorolla station and Metro Jesús   \n",
       "4  EXCLUSIVE VILLA WITH POOL & 5 SUITES ON THE BEACH   \n",
       "\n",
       "                                         description  \\\n",
       "0  <b>The space</b><br />Hello everybody and than...   \n",
       "1  A great place to stay and visit Valencia.<br /...   \n",
       "2  This is \"Edificio Palomar Apartments\", I will ...   \n",
       "3  Te va a encantar mi espacio por la ubicación y...   \n",
       "4  DO NOT PARTY OR STAG/HEN PARTIES! THE RESERVAT...   \n",
       "\n",
       "                               neighborhood_overview  \\\n",
       "0                                                NaN   \n",
       "1                                                NaN   \n",
       "2  It is just 10 min walking distance to the Cath...   \n",
       "3  Barrio de Jesús, cercano al centro, zona conso...   \n",
       "4  Best restaurantes bars and clubs and chill out...   \n",
       "\n",
       "                                         picture_url  host_id  \\\n",
       "0  https://a0.muscache.com/pictures/1109085/9c0d4...   219476   \n",
       "1  https://a0.muscache.com/pictures/329316/a5d6a7...   120649   \n",
       "2  https://a0.muscache.com/pictures/931683/64aebc...   508042   \n",
       "3  https://a0.muscache.com/pictures/b0bb18e8-1f24...  1451371   \n",
       "4  https://a0.muscache.com/pictures/d2019707-1596...   535881   \n",
       "\n",
       "                                    host_url  ... review_scores_communication  \\\n",
       "0   https://www.airbnb.com/users/show/219476  ...                        4.71   \n",
       "1   https://www.airbnb.com/users/show/120649  ...                        5.00   \n",
       "2   https://www.airbnb.com/users/show/508042  ...                        4.77   \n",
       "3  https://www.airbnb.com/users/show/1451371  ...                        4.89   \n",
       "4   https://www.airbnb.com/users/show/535881  ...                        4.59   \n",
       "\n",
       "  review_scores_location review_scores_value     license instant_bookable  \\\n",
       "0                   4.42                4.51  VT-41540-V                f   \n",
       "1                   5.00                5.00         NaN                f   \n",
       "2                   4.78                4.70       31815                f   \n",
       "3                   4.80                4.65         NaN                f   \n",
       "4                   4.76                4.36  VT-36438-V                f   \n",
       "\n",
       "  calculated_host_listings_count calculated_host_listings_count_entire_homes  \\\n",
       "0                              2                                           2   \n",
       "1                              1                                           1   \n",
       "2                              6                                           6   \n",
       "3                              1                                           1   \n",
       "4                              7                                           6   \n",
       "\n",
       "  calculated_host_listings_count_private_rooms  \\\n",
       "0                                            0   \n",
       "1                                            0   \n",
       "2                                            0   \n",
       "3                                            0   \n",
       "4                                            1   \n",
       "\n",
       "  calculated_host_listings_count_shared_rooms reviews_per_month  \n",
       "0                                           0              0.86  \n",
       "1                                           0              0.01  \n",
       "2                                           0              1.00  \n",
       "3                                           0              2.89  \n",
       "4                                           0              1.33  \n",
       "\n",
       "[5 rows x 74 columns]"
      ]
     },
     "execution_count": 3,
     "metadata": {},
     "output_type": "execute_result"
    }
   ],
   "source": [
    "listings.head()"
   ]
  },
  {
   "cell_type": "code",
   "execution_count": 4,
   "metadata": {},
   "outputs": [
    {
     "data": {
      "text/plain": [
       "(5545, 74)"
      ]
     },
     "execution_count": 4,
     "metadata": {},
     "output_type": "execute_result"
    }
   ],
   "source": [
    "listings.shape"
   ]
  },
  {
   "cell_type": "code",
   "execution_count": 5,
   "metadata": {},
   "outputs": [],
   "source": [
    "pd.set_option('display.max_columns', 500)"
   ]
  },
  {
   "cell_type": "markdown",
   "metadata": {},
   "source": [
    "## Cleaning data"
   ]
  },
  {
   "cell_type": "markdown",
   "metadata": {},
   "source": [
    "### Column filtering\n",
    "\n",
    "Leaving only those that will logically be of use for ruther analysis"
   ]
  },
  {
   "cell_type": "code",
   "execution_count": 6,
   "metadata": {},
   "outputs": [
    {
     "data": {
      "text/html": [
       "<div>\n",
       "<style scoped>\n",
       "    .dataframe tbody tr th:only-of-type {\n",
       "        vertical-align: middle;\n",
       "    }\n",
       "\n",
       "    .dataframe tbody tr th {\n",
       "        vertical-align: top;\n",
       "    }\n",
       "\n",
       "    .dataframe thead th {\n",
       "        text-align: right;\n",
       "    }\n",
       "</style>\n",
       "<table border=\"1\" class=\"dataframe\">\n",
       "  <thead>\n",
       "    <tr style=\"text-align: right;\">\n",
       "      <th></th>\n",
       "      <th>id</th>\n",
       "      <th>listing_url</th>\n",
       "      <th>host_since</th>\n",
       "      <th>host_response_time</th>\n",
       "      <th>host_response_rate</th>\n",
       "      <th>host_is_superhost</th>\n",
       "      <th>host_has_profile_pic</th>\n",
       "      <th>neighbourhood_group_cleansed</th>\n",
       "      <th>latitude</th>\n",
       "      <th>longitude</th>\n",
       "      <th>property_type</th>\n",
       "      <th>room_type</th>\n",
       "      <th>accommodates</th>\n",
       "      <th>bathrooms</th>\n",
       "      <th>bedrooms</th>\n",
       "      <th>beds</th>\n",
       "      <th>amenities</th>\n",
       "      <th>price</th>\n",
       "      <th>has_availability</th>\n",
       "      <th>availability_30</th>\n",
       "      <th>availability_60</th>\n",
       "      <th>availability_90</th>\n",
       "      <th>availability_365</th>\n",
       "      <th>number_of_reviews</th>\n",
       "      <th>review_scores_rating</th>\n",
       "      <th>review_scores_accuracy</th>\n",
       "      <th>review_scores_cleanliness</th>\n",
       "      <th>review_scores_checkin</th>\n",
       "      <th>review_scores_communication</th>\n",
       "      <th>review_scores_location</th>\n",
       "      <th>review_scores_value</th>\n",
       "      <th>instant_bookable</th>\n",
       "    </tr>\n",
       "  </thead>\n",
       "  <tbody>\n",
       "    <tr>\n",
       "      <th>0</th>\n",
       "      <td>48154</td>\n",
       "      <td>https://www.airbnb.com/rooms/48154</td>\n",
       "      <td>2010-09-01</td>\n",
       "      <td>within an hour</td>\n",
       "      <td>100%</td>\n",
       "      <td>f</td>\n",
       "      <td>t</td>\n",
       "      <td>LA SAIDIA</td>\n",
       "      <td>39.48375</td>\n",
       "      <td>-0.37502</td>\n",
       "      <td>Entire rental unit</td>\n",
       "      <td>Entire home/apt</td>\n",
       "      <td>4</td>\n",
       "      <td>NaN</td>\n",
       "      <td>2.0</td>\n",
       "      <td>2.0</td>\n",
       "      <td>[\"TV\", \"Free street parking\", \"Iron\", \"Air con...</td>\n",
       "      <td>$70.00</td>\n",
       "      <td>t</td>\n",
       "      <td>26</td>\n",
       "      <td>56</td>\n",
       "      <td>86</td>\n",
       "      <td>361</td>\n",
       "      <td>110</td>\n",
       "      <td>4.57</td>\n",
       "      <td>4.64</td>\n",
       "      <td>4.59</td>\n",
       "      <td>4.83</td>\n",
       "      <td>4.71</td>\n",
       "      <td>4.42</td>\n",
       "      <td>4.51</td>\n",
       "      <td>f</td>\n",
       "    </tr>\n",
       "    <tr>\n",
       "      <th>1</th>\n",
       "      <td>55692</td>\n",
       "      <td>https://www.airbnb.com/rooms/55692</td>\n",
       "      <td>2010-05-08</td>\n",
       "      <td>NaN</td>\n",
       "      <td>NaN</td>\n",
       "      <td>f</td>\n",
       "      <td>t</td>\n",
       "      <td>CIUTAT VELLA</td>\n",
       "      <td>39.47658</td>\n",
       "      <td>-0.37654</td>\n",
       "      <td>Entire rental unit</td>\n",
       "      <td>Entire home/apt</td>\n",
       "      <td>3</td>\n",
       "      <td>NaN</td>\n",
       "      <td>1.0</td>\n",
       "      <td>1.0</td>\n",
       "      <td>[\"TV\", \"Iron\", \"Kitchen\", \"Long term stays all...</td>\n",
       "      <td>$100.00</td>\n",
       "      <td>t</td>\n",
       "      <td>0</td>\n",
       "      <td>0</td>\n",
       "      <td>0</td>\n",
       "      <td>82</td>\n",
       "      <td>1</td>\n",
       "      <td>5.00</td>\n",
       "      <td>5.00</td>\n",
       "      <td>5.00</td>\n",
       "      <td>5.00</td>\n",
       "      <td>5.00</td>\n",
       "      <td>5.00</td>\n",
       "      <td>5.00</td>\n",
       "      <td>f</td>\n",
       "    </tr>\n",
       "    <tr>\n",
       "      <th>2</th>\n",
       "      <td>95393</td>\n",
       "      <td>https://www.airbnb.com/rooms/95393</td>\n",
       "      <td>2011-04-14</td>\n",
       "      <td>within a few hours</td>\n",
       "      <td>100%</td>\n",
       "      <td>f</td>\n",
       "      <td>t</td>\n",
       "      <td>CIUTAT VELLA</td>\n",
       "      <td>39.47685</td>\n",
       "      <td>-0.38181</td>\n",
       "      <td>Entire rental unit</td>\n",
       "      <td>Entire home/apt</td>\n",
       "      <td>6</td>\n",
       "      <td>NaN</td>\n",
       "      <td>3.0</td>\n",
       "      <td>6.0</td>\n",
       "      <td>[\"Stove\", \"TV\", \"Iron\", \"Dishwasher\", \"Oven\", ...</td>\n",
       "      <td>$141.00</td>\n",
       "      <td>t</td>\n",
       "      <td>15</td>\n",
       "      <td>34</td>\n",
       "      <td>64</td>\n",
       "      <td>231</td>\n",
       "      <td>100</td>\n",
       "      <td>4.79</td>\n",
       "      <td>4.77</td>\n",
       "      <td>4.93</td>\n",
       "      <td>4.90</td>\n",
       "      <td>4.77</td>\n",
       "      <td>4.78</td>\n",
       "      <td>4.70</td>\n",
       "      <td>f</td>\n",
       "    </tr>\n",
       "    <tr>\n",
       "      <th>3</th>\n",
       "      <td>100347</td>\n",
       "      <td>https://www.airbnb.com/rooms/100347</td>\n",
       "      <td>2011-11-28</td>\n",
       "      <td>NaN</td>\n",
       "      <td>NaN</td>\n",
       "      <td>t</td>\n",
       "      <td>t</td>\n",
       "      <td>EXTRAMURS</td>\n",
       "      <td>39.45965</td>\n",
       "      <td>-0.38453</td>\n",
       "      <td>Entire rental unit</td>\n",
       "      <td>Entire home/apt</td>\n",
       "      <td>6</td>\n",
       "      <td>NaN</td>\n",
       "      <td>3.0</td>\n",
       "      <td>3.0</td>\n",
       "      <td>[\"Stove\", \"Free street parking\", \"Iron\", \"Dish...</td>\n",
       "      <td>$106.00</td>\n",
       "      <td>t</td>\n",
       "      <td>0</td>\n",
       "      <td>0</td>\n",
       "      <td>0</td>\n",
       "      <td>0</td>\n",
       "      <td>133</td>\n",
       "      <td>4.62</td>\n",
       "      <td>4.81</td>\n",
       "      <td>4.58</td>\n",
       "      <td>4.86</td>\n",
       "      <td>4.89</td>\n",
       "      <td>4.80</td>\n",
       "      <td>4.65</td>\n",
       "      <td>f</td>\n",
       "    </tr>\n",
       "    <tr>\n",
       "      <th>4</th>\n",
       "      <td>102524</td>\n",
       "      <td>https://www.airbnb.com/rooms/102524</td>\n",
       "      <td>2011-04-26</td>\n",
       "      <td>within an hour</td>\n",
       "      <td>100%</td>\n",
       "      <td>f</td>\n",
       "      <td>t</td>\n",
       "      <td>POBLATS MARITIMS</td>\n",
       "      <td>39.47343</td>\n",
       "      <td>-0.32901</td>\n",
       "      <td>Entire villa</td>\n",
       "      <td>Entire home/apt</td>\n",
       "      <td>16</td>\n",
       "      <td>NaN</td>\n",
       "      <td>5.0</td>\n",
       "      <td>20.0</td>\n",
       "      <td>[\"Stove\", \"Private pool\", \"TV\", \"Free street p...</td>\n",
       "      <td>$321.00</td>\n",
       "      <td>t</td>\n",
       "      <td>12</td>\n",
       "      <td>28</td>\n",
       "      <td>53</td>\n",
       "      <td>247</td>\n",
       "      <td>138</td>\n",
       "      <td>4.54</td>\n",
       "      <td>4.46</td>\n",
       "      <td>4.18</td>\n",
       "      <td>4.65</td>\n",
       "      <td>4.59</td>\n",
       "      <td>4.76</td>\n",
       "      <td>4.36</td>\n",
       "      <td>f</td>\n",
       "    </tr>\n",
       "  </tbody>\n",
       "</table>\n",
       "</div>"
      ],
      "text/plain": [
       "       id                          listing_url  host_since  \\\n",
       "0   48154   https://www.airbnb.com/rooms/48154  2010-09-01   \n",
       "1   55692   https://www.airbnb.com/rooms/55692  2010-05-08   \n",
       "2   95393   https://www.airbnb.com/rooms/95393  2011-04-14   \n",
       "3  100347  https://www.airbnb.com/rooms/100347  2011-11-28   \n",
       "4  102524  https://www.airbnb.com/rooms/102524  2011-04-26   \n",
       "\n",
       "   host_response_time host_response_rate host_is_superhost  \\\n",
       "0      within an hour               100%                 f   \n",
       "1                 NaN                NaN                 f   \n",
       "2  within a few hours               100%                 f   \n",
       "3                 NaN                NaN                 t   \n",
       "4      within an hour               100%                 f   \n",
       "\n",
       "  host_has_profile_pic neighbourhood_group_cleansed  latitude  longitude  \\\n",
       "0                    t                    LA SAIDIA  39.48375   -0.37502   \n",
       "1                    t                 CIUTAT VELLA  39.47658   -0.37654   \n",
       "2                    t                 CIUTAT VELLA  39.47685   -0.38181   \n",
       "3                    t                    EXTRAMURS  39.45965   -0.38453   \n",
       "4                    t             POBLATS MARITIMS  39.47343   -0.32901   \n",
       "\n",
       "        property_type        room_type  accommodates  bathrooms  bedrooms  \\\n",
       "0  Entire rental unit  Entire home/apt             4        NaN       2.0   \n",
       "1  Entire rental unit  Entire home/apt             3        NaN       1.0   \n",
       "2  Entire rental unit  Entire home/apt             6        NaN       3.0   \n",
       "3  Entire rental unit  Entire home/apt             6        NaN       3.0   \n",
       "4        Entire villa  Entire home/apt            16        NaN       5.0   \n",
       "\n",
       "   beds                                          amenities    price  \\\n",
       "0   2.0  [\"TV\", \"Free street parking\", \"Iron\", \"Air con...   $70.00   \n",
       "1   1.0  [\"TV\", \"Iron\", \"Kitchen\", \"Long term stays all...  $100.00   \n",
       "2   6.0  [\"Stove\", \"TV\", \"Iron\", \"Dishwasher\", \"Oven\", ...  $141.00   \n",
       "3   3.0  [\"Stove\", \"Free street parking\", \"Iron\", \"Dish...  $106.00   \n",
       "4  20.0  [\"Stove\", \"Private pool\", \"TV\", \"Free street p...  $321.00   \n",
       "\n",
       "  has_availability  availability_30  availability_60  availability_90  \\\n",
       "0                t               26               56               86   \n",
       "1                t                0                0                0   \n",
       "2                t               15               34               64   \n",
       "3                t                0                0                0   \n",
       "4                t               12               28               53   \n",
       "\n",
       "   availability_365  number_of_reviews  review_scores_rating  \\\n",
       "0               361                110                  4.57   \n",
       "1                82                  1                  5.00   \n",
       "2               231                100                  4.79   \n",
       "3                 0                133                  4.62   \n",
       "4               247                138                  4.54   \n",
       "\n",
       "   review_scores_accuracy  review_scores_cleanliness  review_scores_checkin  \\\n",
       "0                    4.64                       4.59                   4.83   \n",
       "1                    5.00                       5.00                   5.00   \n",
       "2                    4.77                       4.93                   4.90   \n",
       "3                    4.81                       4.58                   4.86   \n",
       "4                    4.46                       4.18                   4.65   \n",
       "\n",
       "   review_scores_communication  review_scores_location  review_scores_value  \\\n",
       "0                         4.71                    4.42                 4.51   \n",
       "1                         5.00                    5.00                 5.00   \n",
       "2                         4.77                    4.78                 4.70   \n",
       "3                         4.89                    4.80                 4.65   \n",
       "4                         4.59                    4.76                 4.36   \n",
       "\n",
       "  instant_bookable  \n",
       "0                f  \n",
       "1                f  \n",
       "2                f  \n",
       "3                f  \n",
       "4                f  "
      ]
     },
     "execution_count": 6,
     "metadata": {},
     "output_type": "execute_result"
    }
   ],
   "source": [
    "useful_columns = ['id', 'listing_url', 'host_since', 'host_response_time', 'host_response_rate', 'host_is_superhost', 'host_has_profile_pic',\n",
    "                 'neighbourhood_group_cleansed', 'latitude', 'longitude', 'property_type', 'room_type', 'accommodates', 'bathrooms', 'bedrooms', 'beds', 'amenities', 'price',\n",
    "                  'has_availability', 'availability_30', 'availability_60', 'availability_90', 'availability_365', 'number_of_reviews',\n",
    "                  'review_scores_rating', 'review_scores_accuracy', 'review_scores_cleanliness', 'review_scores_checkin', 'review_scores_communication', 'review_scores_location',\n",
    "                  'review_scores_value', 'instant_bookable']\n",
    "\n",
    "listings = listings[useful_columns]\n",
    "listings.head()"
   ]
  },
  {
   "cell_type": "markdown",
   "metadata": {},
   "source": [
    "### Check duplicates"
   ]
  },
  {
   "cell_type": "code",
   "execution_count": 7,
   "metadata": {},
   "outputs": [
    {
     "data": {
      "text/plain": [
       "1.0"
      ]
     },
     "execution_count": 7,
     "metadata": {},
     "output_type": "execute_result"
    }
   ],
   "source": [
    "listings.drop_duplicates().shape[0] / listings.shape[0]"
   ]
  },
  {
   "cell_type": "markdown",
   "metadata": {},
   "source": [
    "### Handling missing data and recodning types"
   ]
  },
  {
   "cell_type": "code",
   "execution_count": 8,
   "metadata": {},
   "outputs": [],
   "source": [
    "# Removing all rows where there is no price\n",
    "listings = listings.dropna(subset=['price'], axis=0)\n",
    "\n",
    "# Recoding price to float\n",
    "listings['price'] = listings['price'].apply(lambda x: float(x.replace('$','').replace(',','')))"
   ]
  },
  {
   "cell_type": "code",
   "execution_count": 9,
   "metadata": {},
   "outputs": [
    {
     "data": {
      "text/plain": [
       "id                              0.000000\n",
       "listing_url                     0.000000\n",
       "host_since                      0.003246\n",
       "host_response_time              0.149324\n",
       "host_response_rate              0.149324\n",
       "host_is_superhost               0.003246\n",
       "host_has_profile_pic            0.003246\n",
       "neighbourhood_group_cleansed    0.000000\n",
       "latitude                        0.000000\n",
       "longitude                       0.000000\n",
       "property_type                   0.000000\n",
       "room_type                       0.000000\n",
       "accommodates                    0.000000\n",
       "bathrooms                       1.000000\n",
       "bedrooms                        0.053562\n",
       "beds                            0.011722\n",
       "amenities                       0.000000\n",
       "price                           0.000000\n",
       "has_availability                0.000000\n",
       "availability_30                 0.000000\n",
       "availability_60                 0.000000\n",
       "availability_90                 0.000000\n",
       "availability_365                0.000000\n",
       "number_of_reviews               0.000000\n",
       "review_scores_rating            0.150586\n",
       "review_scores_accuracy          0.156718\n",
       "review_scores_cleanliness       0.156718\n",
       "review_scores_checkin           0.156718\n",
       "review_scores_communication     0.156718\n",
       "review_scores_location          0.156898\n",
       "review_scores_value             0.156718\n",
       "instant_bookable                0.000000\n",
       "dtype: float64"
      ]
     },
     "execution_count": 9,
     "metadata": {},
     "output_type": "execute_result"
    }
   ],
   "source": [
    "# Verifying scale of missing values per column\n",
    "listings.isna().sum() / listings.shape[0]"
   ]
  },
  {
   "cell_type": "code",
   "execution_count": 10,
   "metadata": {},
   "outputs": [
    {
     "data": {
      "text/plain": [
       "(5545, 32)"
      ]
     },
     "execution_count": 10,
     "metadata": {},
     "output_type": "execute_result"
    }
   ],
   "source": [
    "listings.shape"
   ]
  },
  {
   "cell_type": "code",
   "execution_count": 11,
   "metadata": {},
   "outputs": [],
   "source": [
    "# Dropping whole column bathrooms, since it is null only.\n",
    "listings_clean = listings.drop(['bathrooms'], axis=1)\n",
    "\n",
    "listings_clean = listings_clean.dropna(axis=0, how='any', subset=['bedrooms','beds'])"
   ]
  },
  {
   "cell_type": "code",
   "execution_count": 12,
   "metadata": {},
   "outputs": [
    {
     "data": {
      "text/plain": [
       "(5190, 31)"
      ]
     },
     "execution_count": 12,
     "metadata": {},
     "output_type": "execute_result"
    }
   ],
   "source": [
    "listings_clean.shape"
   ]
  },
  {
   "cell_type": "code",
   "execution_count": 13,
   "metadata": {},
   "outputs": [
    {
     "name": "stdout",
     "output_type": "stream",
     "text": [
      "<class 'pandas.core.frame.DataFrame'>\n",
      "Int64Index: 5190 entries, 0 to 5544\n",
      "Data columns (total 31 columns):\n",
      " #   Column                        Non-Null Count  Dtype  \n",
      "---  ------                        --------------  -----  \n",
      " 0   id                            5190 non-null   int64  \n",
      " 1   listing_url                   5190 non-null   object \n",
      " 2   host_since                    5178 non-null   object \n",
      " 3   host_response_time            4397 non-null   object \n",
      " 4   host_response_rate            4397 non-null   object \n",
      " 5   host_is_superhost             5178 non-null   object \n",
      " 6   host_has_profile_pic          5178 non-null   object \n",
      " 7   neighbourhood_group_cleansed  5190 non-null   object \n",
      " 8   latitude                      5190 non-null   float64\n",
      " 9   longitude                     5190 non-null   float64\n",
      " 10  property_type                 5190 non-null   object \n",
      " 11  room_type                     5190 non-null   object \n",
      " 12  accommodates                  5190 non-null   int64  \n",
      " 13  bedrooms                      5190 non-null   float64\n",
      " 14  beds                          5190 non-null   float64\n",
      " 15  amenities                     5190 non-null   object \n",
      " 16  price                         5190 non-null   float64\n",
      " 17  has_availability              5190 non-null   object \n",
      " 18  availability_30               5190 non-null   int64  \n",
      " 19  availability_60               5190 non-null   int64  \n",
      " 20  availability_90               5190 non-null   int64  \n",
      " 21  availability_365              5190 non-null   int64  \n",
      " 22  number_of_reviews             5190 non-null   int64  \n",
      " 23  review_scores_rating          4425 non-null   float64\n",
      " 24  review_scores_accuracy        4398 non-null   float64\n",
      " 25  review_scores_cleanliness     4398 non-null   float64\n",
      " 26  review_scores_checkin         4398 non-null   float64\n",
      " 27  review_scores_communication   4398 non-null   float64\n",
      " 28  review_scores_location        4398 non-null   float64\n",
      " 29  review_scores_value           4398 non-null   float64\n",
      " 30  instant_bookable              5190 non-null   object \n",
      "dtypes: float64(12), int64(7), object(12)\n",
      "memory usage: 1.3+ MB\n"
     ]
    }
   ],
   "source": [
    "listings_clean.info()"
   ]
  },
  {
   "cell_type": "markdown",
   "metadata": {},
   "source": [
    "There are still null values in columns regarding host and review. Those will be dropped later on, they do not affect price analysis"
   ]
  },
  {
   "cell_type": "code",
   "execution_count": 14,
   "metadata": {},
   "outputs": [
    {
     "data": {
      "text/plain": [
       "within an hour        2993\n",
       "within a few hours     873\n",
       "within a day           355\n",
       "a few days or more     176\n",
       "Name: host_response_time, dtype: int64"
      ]
     },
     "execution_count": 14,
     "metadata": {},
     "output_type": "execute_result"
    }
   ],
   "source": [
    "listings_clean['host_response_time'].value_counts()"
   ]
  },
  {
   "cell_type": "code",
   "execution_count": 15,
   "metadata": {},
   "outputs": [],
   "source": [
    "#listings_clean['host_response_rate'].value_counts()"
   ]
  },
  {
   "cell_type": "code",
   "execution_count": 16,
   "metadata": {},
   "outputs": [],
   "source": [
    "# Dropping those rows where columns below have missing value\n",
    "listings_clean = listings_clean.dropna(axis=0, how='any', subset=['host_since','host_is_superhost','host_has_profile_pic','bedrooms','beds'])"
   ]
  },
  {
   "cell_type": "markdown",
   "metadata": {},
   "source": [
    "## Price outliers"
   ]
  },
  {
   "cell_type": "code",
   "execution_count": 17,
   "metadata": {},
   "outputs": [
    {
     "data": {
      "text/plain": [
       "<matplotlib.axes._subplots.AxesSubplot at 0x7ff9a856a0d0>"
      ]
     },
     "execution_count": 17,
     "metadata": {},
     "output_type": "execute_result"
    },
    {
     "data": {
      "image/png": "[encoded data removed]",
      "text/plain": [
       "<Figure size 1440x360 with 1 Axes>"
      ]
     },
     "metadata": {
      "needs_background": "light"
     },
     "output_type": "display_data"
    }
   ],
   "source": [
    "listings_clean['price'].plot.hist(bins=200, title='Price distribution', figsize=(20,5))"
   ]
  },
  {
   "cell_type": "code",
   "execution_count": 18,
   "metadata": {},
   "outputs": [
    {
     "data": {
      "text/plain": [
       "count    5178.000000\n",
       "mean       85.172654\n",
       "std       120.524597\n",
       "min         8.000000\n",
       "25%        43.000000\n",
       "50%        70.000000\n",
       "75%       100.000000\n",
       "max      5688.000000\n",
       "Name: price, dtype: float64"
      ]
     },
     "execution_count": 18,
     "metadata": {},
     "output_type": "execute_result"
    }
   ],
   "source": [
    "listings_clean['price'].describe()"
   ]
  },
  {
   "cell_type": "markdown",
   "metadata": {},
   "source": [
    "Price parameter is right skewed. There is a property that costs $5.688 per night. I consider it as an outlier. We might look further into price distribution and define cutoff point at some level.\n",
    "\n",
    "However it might be a better idea to verify accomodation availability. Those that are available throughout the whole time say that guests do not want to book it - market verification."
   ]
  },
  {
   "cell_type": "code",
   "execution_count": 19,
   "metadata": {},
   "outputs": [
    {
     "data": {
      "text/plain": [
       "count    4680.000000\n",
       "mean       78.419444\n",
       "std        61.060881\n",
       "min         8.000000\n",
       "25%        43.000000\n",
       "50%        70.000000\n",
       "75%        97.000000\n",
       "max      1000.000000\n",
       "Name: price, dtype: float64"
      ]
     },
     "execution_count": 19,
     "metadata": {},
     "output_type": "execute_result"
    }
   ],
   "source": [
    "listings_clean = listings_clean.query('availability_30 < 27')\n",
    "listings_clean['price'].describe()"
   ]
  },
  {
   "cell_type": "markdown",
   "metadata": {},
   "source": [
    "This distribution is still right skewed (long tail) and further verification is required. Let's take a sample of the data."
   ]
  },
  {
   "cell_type": "code",
   "execution_count": 20,
   "metadata": {},
   "outputs": [
    {
     "data": {
      "text/html": [
       "<div>\n",
       "<style scoped>\n",
       "    .dataframe tbody tr th:only-of-type {\n",
       "        vertical-align: middle;\n",
       "    }\n",
       "\n",
       "    .dataframe tbody tr th {\n",
       "        vertical-align: top;\n",
       "    }\n",
       "\n",
       "    .dataframe thead th {\n",
       "        text-align: right;\n",
       "    }\n",
       "</style>\n",
       "<table border=\"1\" class=\"dataframe\">\n",
       "  <thead>\n",
       "    <tr style=\"text-align: right;\">\n",
       "      <th></th>\n",
       "      <th>property_type</th>\n",
       "      <th>room_type</th>\n",
       "      <th>accommodates</th>\n",
       "      <th>bedrooms</th>\n",
       "      <th>price</th>\n",
       "    </tr>\n",
       "  </thead>\n",
       "  <tbody>\n",
       "    <tr>\n",
       "      <th>210</th>\n",
       "      <td>Private room in rental unit</td>\n",
       "      <td>Private room</td>\n",
       "      <td>2</td>\n",
       "      <td>1.0</td>\n",
       "      <td>829.0</td>\n",
       "    </tr>\n",
       "    <tr>\n",
       "      <th>848</th>\n",
       "      <td>Entire rental unit</td>\n",
       "      <td>Entire home/apt</td>\n",
       "      <td>12</td>\n",
       "      <td>4.0</td>\n",
       "      <td>650.0</td>\n",
       "    </tr>\n",
       "    <tr>\n",
       "      <th>1276</th>\n",
       "      <td>Private room in rental unit</td>\n",
       "      <td>Private room</td>\n",
       "      <td>1</td>\n",
       "      <td>1.0</td>\n",
       "      <td>1000.0</td>\n",
       "    </tr>\n",
       "    <tr>\n",
       "      <th>1308</th>\n",
       "      <td>Entire residential home</td>\n",
       "      <td>Entire home/apt</td>\n",
       "      <td>14</td>\n",
       "      <td>4.0</td>\n",
       "      <td>814.0</td>\n",
       "    </tr>\n",
       "    <tr>\n",
       "      <th>2180</th>\n",
       "      <td>Entire rental unit</td>\n",
       "      <td>Entire home/apt</td>\n",
       "      <td>16</td>\n",
       "      <td>7.0</td>\n",
       "      <td>621.0</td>\n",
       "    </tr>\n",
       "    <tr>\n",
       "      <th>3072</th>\n",
       "      <td>Private room in residential home</td>\n",
       "      <td>Private room</td>\n",
       "      <td>1</td>\n",
       "      <td>1.0</td>\n",
       "      <td>800.0</td>\n",
       "    </tr>\n",
       "    <tr>\n",
       "      <th>3708</th>\n",
       "      <td>Room in boutique hotel</td>\n",
       "      <td>Private room</td>\n",
       "      <td>4</td>\n",
       "      <td>1.0</td>\n",
       "      <td>812.0</td>\n",
       "    </tr>\n",
       "    <tr>\n",
       "      <th>3709</th>\n",
       "      <td>Room in boutique hotel</td>\n",
       "      <td>Private room</td>\n",
       "      <td>4</td>\n",
       "      <td>1.0</td>\n",
       "      <td>677.0</td>\n",
       "    </tr>\n",
       "    <tr>\n",
       "      <th>5476</th>\n",
       "      <td>Entire rental unit</td>\n",
       "      <td>Entire home/apt</td>\n",
       "      <td>12</td>\n",
       "      <td>6.0</td>\n",
       "      <td>605.0</td>\n",
       "    </tr>\n",
       "  </tbody>\n",
       "</table>\n",
       "</div>"
      ],
      "text/plain": [
       "                         property_type        room_type  accommodates  \\\n",
       "210        Private room in rental unit     Private room             2   \n",
       "848                 Entire rental unit  Entire home/apt            12   \n",
       "1276       Private room in rental unit     Private room             1   \n",
       "1308           Entire residential home  Entire home/apt            14   \n",
       "2180                Entire rental unit  Entire home/apt            16   \n",
       "3072  Private room in residential home     Private room             1   \n",
       "3708            Room in boutique hotel     Private room             4   \n",
       "3709            Room in boutique hotel     Private room             4   \n",
       "5476                Entire rental unit  Entire home/apt            12   \n",
       "\n",
       "      bedrooms   price  \n",
       "210        1.0   829.0  \n",
       "848        4.0   650.0  \n",
       "1276       1.0  1000.0  \n",
       "1308       4.0   814.0  \n",
       "2180       7.0   621.0  \n",
       "3072       1.0   800.0  \n",
       "3708       1.0   812.0  \n",
       "3709       1.0   677.0  \n",
       "5476       6.0   605.0  "
      ]
     },
     "execution_count": 20,
     "metadata": {},
     "output_type": "execute_result"
    }
   ],
   "source": [
    "listings_clean.query('price > 600')[['property_type','room_type','accommodates','bedrooms','price']]"
   ]
  },
  {
   "cell_type": "markdown",
   "metadata": {},
   "source": [
    "Within this group are properties which price might be justified e.g.\n",
    "- Entire residential home acommodating 10 peaople in 5 bedrooms for the price of 520 EUR. \n",
    "\n",
    "However some are surely a unintended or intended mistake e.g.\n",
    "- Private room in rental unit with one bedroom for 2 peaople for 423 EUR\n",
    "\n",
    "To clean that up we will remove all entries that accomodate less than 5 people and cost over 400 EUR per night."
   ]
  },
  {
   "cell_type": "code",
   "execution_count": 21,
   "metadata": {},
   "outputs": [
    {
     "data": {
      "text/plain": [
       "(4680, 31)"
      ]
     },
     "execution_count": 21,
     "metadata": {},
     "output_type": "execute_result"
    }
   ],
   "source": [
    "#listings_clean = listings_clean[~((listings_clean['price']>450) & (listings_clean['accommodates']<5))]\n",
    "listings_clean.shape"
   ]
  },
  {
   "cell_type": "code",
   "execution_count": 22,
   "metadata": {},
   "outputs": [
    {
     "data": {
      "text/plain": [
       "<matplotlib.axes._subplots.AxesSubplot at 0x7ff9e94f0730>"
      ]
     },
     "execution_count": 22,
     "metadata": {},
     "output_type": "execute_result"
    },
    {
     "data": {
      "image/png": "[encoded data removed]",
      "text/plain": [
       "<Figure size 1440x360 with 1 Axes>"
      ]
     },
     "metadata": {
      "needs_background": "light"
     },
     "output_type": "display_data"
    }
   ],
   "source": [
    "listings_clean['price'].plot.hist(bins=200, title='Price distribution', figsize=(20,5))"
   ]
  },
  {
   "cell_type": "markdown",
   "metadata": {},
   "source": [
    "Now we reduced number of properties (rows) to 4684 but the data is more likely correct."
   ]
  },
  {
   "cell_type": "markdown",
   "metadata": {},
   "source": [
    "## Question 1: What are cheap and expensive nieghbourhoods"
   ]
  },
  {
   "cell_type": "code",
   "execution_count": 23,
   "metadata": {},
   "outputs": [],
   "source": [
    "neighbourhood_median_order = listings_clean.groupby('neighbourhood_group_cleansed')['price'].median().sort_values(ascending=True)"
   ]
  },
  {
   "cell_type": "code",
   "execution_count": 24,
   "metadata": {},
   "outputs": [
    {
     "data": {
      "image/png": "[encoded data removed]",
      "text/plain": [
       "<Figure size 1440x720 with 1 Axes>"
      ]
     },
     "metadata": {
      "needs_background": "light"
     },
     "output_type": "display_data"
    }
   ],
   "source": [
    "fig, ax = plt.subplots(figsize=(20,10))\n",
    "boxprops = dict(linewidth=.0)\n",
    "medianprops = dict(linewidth=2, color='white')\n",
    "whiskerprops = dict(linestyle='none', linewidth=.9, color='red')\n",
    "\n",
    "sns.boxplot(y=\"neighbourhood_group_cleansed\", \n",
    "            x=\"price\", \n",
    "            data=listings_clean,\n",
    "            ax=ax, \n",
    "            #color='red',\n",
    "            #palette=\"YlOrBr\",\n",
    "            color=\"lightblue\",\n",
    "            orient='h', \n",
    "            order=neighbourhood_median_order.index,\n",
    "            showfliers=False, \n",
    "            showbox=True, \n",
    "            showcaps=False,\n",
    "            whiskerprops=whiskerprops,\n",
    "            boxprops=boxprops,\n",
    "            medianprops=medianprops\n",
    "           )\n",
    "plt.xlim((20,120))\n",
    "plt.title('Price per night distribution per Neighbourhood')\n",
    "plt.xlabel('Price')\n",
    "plt.ylabel('Neighbourhood')\n",
    "plt.show()"
   ]
  },
  {
   "cell_type": "code",
   "execution_count": 25,
   "metadata": {},
   "outputs": [
    {
     "data": {
      "text/html": [
       "<div>\n",
       "<style scoped>\n",
       "    .dataframe tbody tr th:only-of-type {\n",
       "        vertical-align: middle;\n",
       "    }\n",
       "\n",
       "    .dataframe tbody tr th {\n",
       "        vertical-align: top;\n",
       "    }\n",
       "\n",
       "    .dataframe thead th {\n",
       "        text-align: right;\n",
       "    }\n",
       "</style>\n",
       "<table border=\"1\" class=\"dataframe\">\n",
       "  <thead>\n",
       "    <tr style=\"text-align: right;\">\n",
       "      <th></th>\n",
       "      <th>count</th>\n",
       "      <th>mean</th>\n",
       "      <th>std</th>\n",
       "      <th>min</th>\n",
       "      <th>25%</th>\n",
       "      <th>50%</th>\n",
       "      <th>75%</th>\n",
       "      <th>max</th>\n",
       "    </tr>\n",
       "    <tr>\n",
       "      <th>neighbourhood_group_cleansed</th>\n",
       "      <th></th>\n",
       "      <th></th>\n",
       "      <th></th>\n",
       "      <th></th>\n",
       "      <th></th>\n",
       "      <th></th>\n",
       "      <th></th>\n",
       "      <th></th>\n",
       "    </tr>\n",
       "  </thead>\n",
       "  <tbody>\n",
       "    <tr>\n",
       "      <th>RASCANYA</th>\n",
       "      <td>90.0</td>\n",
       "      <td>48.366667</td>\n",
       "      <td>26.113602</td>\n",
       "      <td>12.0</td>\n",
       "      <td>25.00</td>\n",
       "      <td>45.0</td>\n",
       "      <td>65.00</td>\n",
       "      <td>120.0</td>\n",
       "    </tr>\n",
       "    <tr>\n",
       "      <th>PATRAIX</th>\n",
       "      <td>68.0</td>\n",
       "      <td>45.705882</td>\n",
       "      <td>24.460787</td>\n",
       "      <td>12.0</td>\n",
       "      <td>25.00</td>\n",
       "      <td>45.0</td>\n",
       "      <td>64.25</td>\n",
       "      <td>100.0</td>\n",
       "    </tr>\n",
       "    <tr>\n",
       "      <th>L'OLIVERETA</th>\n",
       "      <td>110.0</td>\n",
       "      <td>55.718182</td>\n",
       "      <td>44.076067</td>\n",
       "      <td>10.0</td>\n",
       "      <td>23.50</td>\n",
       "      <td>47.5</td>\n",
       "      <td>66.00</td>\n",
       "      <td>320.0</td>\n",
       "    </tr>\n",
       "    <tr>\n",
       "      <th>BENIMACLET</th>\n",
       "      <td>75.0</td>\n",
       "      <td>52.760000</td>\n",
       "      <td>33.884079</td>\n",
       "      <td>10.0</td>\n",
       "      <td>24.50</td>\n",
       "      <td>50.0</td>\n",
       "      <td>69.00</td>\n",
       "      <td>173.0</td>\n",
       "    </tr>\n",
       "    <tr>\n",
       "      <th>BENICALAP</th>\n",
       "      <td>75.0</td>\n",
       "      <td>46.346667</td>\n",
       "      <td>23.697698</td>\n",
       "      <td>10.0</td>\n",
       "      <td>25.00</td>\n",
       "      <td>51.0</td>\n",
       "      <td>59.00</td>\n",
       "      <td>136.0</td>\n",
       "    </tr>\n",
       "    <tr>\n",
       "      <th>LA SAIDIA</th>\n",
       "      <td>222.0</td>\n",
       "      <td>63.567568</td>\n",
       "      <td>67.891265</td>\n",
       "      <td>10.0</td>\n",
       "      <td>26.00</td>\n",
       "      <td>53.5</td>\n",
       "      <td>80.75</td>\n",
       "      <td>800.0</td>\n",
       "    </tr>\n",
       "    <tr>\n",
       "      <th>JESUS</th>\n",
       "      <td>70.0</td>\n",
       "      <td>57.300000</td>\n",
       "      <td>36.610900</td>\n",
       "      <td>11.0</td>\n",
       "      <td>26.50</td>\n",
       "      <td>54.0</td>\n",
       "      <td>75.00</td>\n",
       "      <td>200.0</td>\n",
       "    </tr>\n",
       "    <tr>\n",
       "      <th>ALGIROS</th>\n",
       "      <td>204.0</td>\n",
       "      <td>61.946078</td>\n",
       "      <td>46.940504</td>\n",
       "      <td>9.0</td>\n",
       "      <td>25.00</td>\n",
       "      <td>54.0</td>\n",
       "      <td>84.25</td>\n",
       "      <td>300.0</td>\n",
       "    </tr>\n",
       "    <tr>\n",
       "      <th>CAMPANAR</th>\n",
       "      <td>67.0</td>\n",
       "      <td>72.761194</td>\n",
       "      <td>120.634320</td>\n",
       "      <td>16.0</td>\n",
       "      <td>27.00</td>\n",
       "      <td>56.0</td>\n",
       "      <td>78.00</td>\n",
       "      <td>1000.0</td>\n",
       "    </tr>\n",
       "    <tr>\n",
       "      <th>EL PLA DEL REAL</th>\n",
       "      <td>108.0</td>\n",
       "      <td>61.027778</td>\n",
       "      <td>57.748805</td>\n",
       "      <td>11.0</td>\n",
       "      <td>29.00</td>\n",
       "      <td>59.0</td>\n",
       "      <td>76.75</td>\n",
       "      <td>550.0</td>\n",
       "    </tr>\n",
       "    <tr>\n",
       "      <th>QUATRE CARRERES</th>\n",
       "      <td>318.0</td>\n",
       "      <td>62.789308</td>\n",
       "      <td>45.009809</td>\n",
       "      <td>8.0</td>\n",
       "      <td>30.25</td>\n",
       "      <td>60.0</td>\n",
       "      <td>82.00</td>\n",
       "      <td>464.0</td>\n",
       "    </tr>\n",
       "    <tr>\n",
       "      <th>POBLATS DEL NORD</th>\n",
       "      <td>8.0</td>\n",
       "      <td>62.875000</td>\n",
       "      <td>37.153879</td>\n",
       "      <td>15.0</td>\n",
       "      <td>32.25</td>\n",
       "      <td>62.5</td>\n",
       "      <td>81.25</td>\n",
       "      <td>125.0</td>\n",
       "    </tr>\n",
       "    <tr>\n",
       "      <th>CAMINS AL GRAU</th>\n",
       "      <td>391.0</td>\n",
       "      <td>72.263427</td>\n",
       "      <td>48.120945</td>\n",
       "      <td>12.0</td>\n",
       "      <td>39.00</td>\n",
       "      <td>65.0</td>\n",
       "      <td>94.50</td>\n",
       "      <td>520.0</td>\n",
       "    </tr>\n",
       "    <tr>\n",
       "      <th>EXTRAMURS</th>\n",
       "      <td>376.0</td>\n",
       "      <td>72.928191</td>\n",
       "      <td>42.526323</td>\n",
       "      <td>11.0</td>\n",
       "      <td>40.00</td>\n",
       "      <td>68.5</td>\n",
       "      <td>95.00</td>\n",
       "      <td>300.0</td>\n",
       "    </tr>\n",
       "    <tr>\n",
       "      <th>POBLATS DE L'OEST</th>\n",
       "      <td>35.0</td>\n",
       "      <td>94.971429</td>\n",
       "      <td>139.677462</td>\n",
       "      <td>10.0</td>\n",
       "      <td>23.50</td>\n",
       "      <td>72.0</td>\n",
       "      <td>87.50</td>\n",
       "      <td>814.0</td>\n",
       "    </tr>\n",
       "    <tr>\n",
       "      <th>L'EIXAMPLE</th>\n",
       "      <td>465.0</td>\n",
       "      <td>87.062366</td>\n",
       "      <td>75.319881</td>\n",
       "      <td>12.0</td>\n",
       "      <td>50.00</td>\n",
       "      <td>77.0</td>\n",
       "      <td>100.00</td>\n",
       "      <td>829.0</td>\n",
       "    </tr>\n",
       "    <tr>\n",
       "      <th>POBLATS MARITIMS</th>\n",
       "      <td>866.0</td>\n",
       "      <td>89.023095</td>\n",
       "      <td>57.358739</td>\n",
       "      <td>12.0</td>\n",
       "      <td>58.00</td>\n",
       "      <td>79.0</td>\n",
       "      <td>106.75</td>\n",
       "      <td>605.0</td>\n",
       "    </tr>\n",
       "    <tr>\n",
       "      <th>POBLATS DEL SUD</th>\n",
       "      <td>77.0</td>\n",
       "      <td>82.324675</td>\n",
       "      <td>42.856075</td>\n",
       "      <td>12.0</td>\n",
       "      <td>49.00</td>\n",
       "      <td>80.0</td>\n",
       "      <td>114.00</td>\n",
       "      <td>214.0</td>\n",
       "    </tr>\n",
       "    <tr>\n",
       "      <th>CIUTAT VELLA</th>\n",
       "      <td>1055.0</td>\n",
       "      <td>95.134597</td>\n",
       "      <td>65.813108</td>\n",
       "      <td>11.0</td>\n",
       "      <td>60.00</td>\n",
       "      <td>82.0</td>\n",
       "      <td>116.50</td>\n",
       "      <td>812.0</td>\n",
       "    </tr>\n",
       "  </tbody>\n",
       "</table>\n",
       "</div>"
      ],
      "text/plain": [
       "                               count       mean         std   min    25%  \\\n",
       "neighbourhood_group_cleansed                                               \n",
       "RASCANYA                        90.0  48.366667   26.113602  12.0  25.00   \n",
       "PATRAIX                         68.0  45.705882   24.460787  12.0  25.00   \n",
       "L'OLIVERETA                    110.0  55.718182   44.076067  10.0  23.50   \n",
       "BENIMACLET                      75.0  52.760000   33.884079  10.0  24.50   \n",
       "BENICALAP                       75.0  46.346667   23.697698  10.0  25.00   \n",
       "LA SAIDIA                      222.0  63.567568   67.891265  10.0  26.00   \n",
       "JESUS                           70.0  57.300000   36.610900  11.0  26.50   \n",
       "ALGIROS                        204.0  61.946078   46.940504   9.0  25.00   \n",
       "CAMPANAR                        67.0  72.761194  120.634320  16.0  27.00   \n",
       "EL PLA DEL REAL                108.0  61.027778   57.748805  11.0  29.00   \n",
       "QUATRE CARRERES                318.0  62.789308   45.009809   8.0  30.25   \n",
       "POBLATS DEL NORD                 8.0  62.875000   37.153879  15.0  32.25   \n",
       "CAMINS AL GRAU                 391.0  72.263427   48.120945  12.0  39.00   \n",
       "EXTRAMURS                      376.0  72.928191   42.526323  11.0  40.00   \n",
       "POBLATS DE L'OEST               35.0  94.971429  139.677462  10.0  23.50   \n",
       "L'EIXAMPLE                     465.0  87.062366   75.319881  12.0  50.00   \n",
       "POBLATS MARITIMS               866.0  89.023095   57.358739  12.0  58.00   \n",
       "POBLATS DEL SUD                 77.0  82.324675   42.856075  12.0  49.00   \n",
       "CIUTAT VELLA                  1055.0  95.134597   65.813108  11.0  60.00   \n",
       "\n",
       "                               50%     75%     max  \n",
       "neighbourhood_group_cleansed                        \n",
       "RASCANYA                      45.0   65.00   120.0  \n",
       "PATRAIX                       45.0   64.25   100.0  \n",
       "L'OLIVERETA                   47.5   66.00   320.0  \n",
       "BENIMACLET                    50.0   69.00   173.0  \n",
       "BENICALAP                     51.0   59.00   136.0  \n",
       "LA SAIDIA                     53.5   80.75   800.0  \n",
       "JESUS                         54.0   75.00   200.0  \n",
       "ALGIROS                       54.0   84.25   300.0  \n",
       "CAMPANAR                      56.0   78.00  1000.0  \n",
       "EL PLA DEL REAL               59.0   76.75   550.0  \n",
       "QUATRE CARRERES               60.0   82.00   464.0  \n",
       "POBLATS DEL NORD              62.5   81.25   125.0  \n",
       "CAMINS AL GRAU                65.0   94.50   520.0  \n",
       "EXTRAMURS                     68.5   95.00   300.0  \n",
       "POBLATS DE L'OEST             72.0   87.50   814.0  \n",
       "L'EIXAMPLE                    77.0  100.00   829.0  \n",
       "POBLATS MARITIMS              79.0  106.75   605.0  \n",
       "POBLATS DEL SUD               80.0  114.00   214.0  \n",
       "CIUTAT VELLA                  82.0  116.50   812.0  "
      ]
     },
     "execution_count": 25,
     "metadata": {},
     "output_type": "execute_result"
    }
   ],
   "source": [
    "listings_clean.groupby('neighbourhood_group_cleansed').agg({'price':'describe'})['price'].sort_values(by='50%')"
   ]
  },
  {
   "cell_type": "markdown",
   "metadata": {},
   "source": [
    "## Q2: What is the price span of price for each type of accomodation"
   ]
  },
  {
   "cell_type": "code",
   "execution_count": 125,
   "metadata": {},
   "outputs": [
    {
     "data": {
      "image/png": "[encoded data removed]",
      "text/plain": [
       "<Figure size 1440x720 with 1 Axes>"
      ]
     },
     "metadata": {
      "needs_background": "light"
     },
     "output_type": "display_data"
    }
   ],
   "source": [
    "fig, ax2 = plt.subplots(figsize=(20,10))\n",
    "\n",
    "roomtype_median_order = listings_clean.groupby('room_type')['price'].median().sort_values(ascending=True)\n",
    "\n",
    "boxprops = dict(linewidth=.0)\n",
    "medianprops = dict(linewidth=2, color='white')\n",
    "whiskerprops = dict(linestyle='none', linewidth=.9, color='red')\n",
    "\n",
    "sns.boxplot(x=\"room_type\", \n",
    "            y=\"price\", \n",
    "            data=listings_clean,\n",
    "            ax=ax2, \n",
    "            #color='red',\n",
    "            #palette=\"YlOrBr\",\n",
    "            color=\"darkblue\",\n",
    "            #orient='h', \n",
    "            order=roomtype_median_order.index,\n",
    "            showfliers=False, \n",
    "            showbox=True, \n",
    "            showcaps=True,\n",
    "            medianprops=medianprops\n",
    "\n",
    "           )\n",
    "\n",
    "plt.title('Price distribution per room type')\n",
    "plt.show()"
   ]
  },
  {
   "cell_type": "code",
   "execution_count": 166,
   "metadata": {},
   "outputs": [
    {
     "data": {
      "text/html": [
       "<div>\n",
       "<style scoped>\n",
       "    .dataframe tbody tr th:only-of-type {\n",
       "        vertical-align: middle;\n",
       "    }\n",
       "\n",
       "    .dataframe tbody tr th {\n",
       "        vertical-align: top;\n",
       "    }\n",
       "\n",
       "    .dataframe thead th {\n",
       "        text-align: right;\n",
       "    }\n",
       "</style>\n",
       "<table border=\"1\" class=\"dataframe\">\n",
       "  <thead>\n",
       "    <tr style=\"text-align: right;\">\n",
       "      <th></th>\n",
       "      <th>count</th>\n",
       "      <th>mean</th>\n",
       "      <th>std</th>\n",
       "      <th>min</th>\n",
       "      <th>25%</th>\n",
       "      <th>50%</th>\n",
       "      <th>75%</th>\n",
       "      <th>max</th>\n",
       "    </tr>\n",
       "    <tr>\n",
       "      <th>room_type</th>\n",
       "      <th></th>\n",
       "      <th></th>\n",
       "      <th></th>\n",
       "      <th></th>\n",
       "      <th></th>\n",
       "      <th></th>\n",
       "      <th></th>\n",
       "      <th></th>\n",
       "    </tr>\n",
       "  </thead>\n",
       "  <tbody>\n",
       "    <tr>\n",
       "      <th>Shared room</th>\n",
       "      <td>5.0</td>\n",
       "      <td>14.000000</td>\n",
       "      <td>6.284903</td>\n",
       "      <td>8.0</td>\n",
       "      <td>8.0</td>\n",
       "      <td>13.0</td>\n",
       "      <td>20.0</td>\n",
       "      <td>21.0</td>\n",
       "    </tr>\n",
       "    <tr>\n",
       "      <th>Private room</th>\n",
       "      <td>1265.0</td>\n",
       "      <td>39.377075</td>\n",
       "      <td>62.208823</td>\n",
       "      <td>9.0</td>\n",
       "      <td>20.0</td>\n",
       "      <td>27.0</td>\n",
       "      <td>38.0</td>\n",
       "      <td>1000.0</td>\n",
       "    </tr>\n",
       "    <tr>\n",
       "      <th>Entire home/apt</th>\n",
       "      <td>3389.0</td>\n",
       "      <td>92.883742</td>\n",
       "      <td>53.505095</td>\n",
       "      <td>12.0</td>\n",
       "      <td>63.0</td>\n",
       "      <td>80.0</td>\n",
       "      <td>106.0</td>\n",
       "      <td>814.0</td>\n",
       "    </tr>\n",
       "    <tr>\n",
       "      <th>Hotel room</th>\n",
       "      <td>21.0</td>\n",
       "      <td>111.333333</td>\n",
       "      <td>93.177429</td>\n",
       "      <td>24.0</td>\n",
       "      <td>69.0</td>\n",
       "      <td>109.0</td>\n",
       "      <td>130.0</td>\n",
       "      <td>467.0</td>\n",
       "    </tr>\n",
       "  </tbody>\n",
       "</table>\n",
       "</div>"
      ],
      "text/plain": [
       "                  count        mean        std   min   25%    50%    75%  \\\n",
       "room_type                                                                  \n",
       "Shared room         5.0   14.000000   6.284903   8.0   8.0   13.0   20.0   \n",
       "Private room     1265.0   39.377075  62.208823   9.0  20.0   27.0   38.0   \n",
       "Entire home/apt  3389.0   92.883742  53.505095  12.0  63.0   80.0  106.0   \n",
       "Hotel room         21.0  111.333333  93.177429  24.0  69.0  109.0  130.0   \n",
       "\n",
       "                    max  \n",
       "room_type                \n",
       "Shared room        21.0  \n",
       "Private room     1000.0  \n",
       "Entire home/apt   814.0  \n",
       "Hotel room        467.0  "
      ]
     },
     "execution_count": 166,
     "metadata": {},
     "output_type": "execute_result"
    }
   ],
   "source": [
    "listings_clean.groupby('room_type').agg({'price':'describe'})['price'].sort_values(by='50%')"
   ]
  },
  {
   "cell_type": "markdown",
   "metadata": {},
   "source": [
    "## Q3 What else can the price depend on? What are the correlations?"
   ]
  },
  {
   "cell_type": "code",
   "execution_count": 127,
   "metadata": {},
   "outputs": [
    {
     "data": {
      "image/png": "[encoded data removed]",
      "text/plain": [
       "<Figure size 720x576 with 2 Axes>"
      ]
     },
     "metadata": {
      "needs_background": "light"
     },
     "output_type": "display_data"
    }
   ],
   "source": [
    "f, ax = plt.subplots(figsize=(10, 8))\n",
    "corr = listings_clean.drop(['id','longitude','latitude'],axis=1).corr()\n",
    "\n",
    "mask = np.triu(corr)\n",
    "\n",
    "sns.heatmap(corr, cmap=sns.diverging_palette(220, 10, as_cmap=True),\n",
    "            square=True, ax=ax)\n",
    "plt.show()"
   ]
  },
  {
   "cell_type": "markdown",
   "metadata": {},
   "source": [
    "Correlation matrix shows that the most important factors impacting the price are:\n",
    "- number of bedrooms\n",
    "- number of beds\n",
    "- number of people accomodated\n",
    "\n",
    "Regarding other variables there are vidid correlated groups of parameters e.g. availablity within 30 days is strongly correlated with availability within 60 days and review of each area are as well strongly correlated with each other. "
   ]
  },
  {
   "cell_type": "markdown",
   "metadata": {},
   "source": [
    "We had considered correlation of numerical variables however there are other, categorical variables that can be of use and impact within the dataset. Let's attempt to build a model that would consider following factors and indicate impact of each of them"
   ]
  },
  {
   "cell_type": "markdown",
   "metadata": {},
   "source": [
    "### Attempt to build a linear model"
   ]
  },
  {
   "cell_type": "code",
   "execution_count": 26,
   "metadata": {},
   "outputs": [],
   "source": [
    "dff = pd.get_dummies(listings_clean, columns=['neighbourhood_group_cleansed'], prefix='nbh', dtype=int).drop(['latitude','longitude'],axis=1)"
   ]
  },
  {
   "cell_type": "code",
   "execution_count": 276,
   "metadata": {},
   "outputs": [
    {
     "name": "stdout",
     "output_type": "stream",
     "text": [
      "<class 'pandas.core.frame.DataFrame'>\n",
      "Int64Index: 4680 entries, 0 to 5544\n",
      "Data columns (total 47 columns):\n",
      " #   Column                       Non-Null Count  Dtype  \n",
      "---  ------                       --------------  -----  \n",
      " 0   id                           4680 non-null   int64  \n",
      " 1   listing_url                  4680 non-null   object \n",
      " 2   host_since                   4680 non-null   object \n",
      " 3   host_response_time           4018 non-null   object \n",
      " 4   host_response_rate           4018 non-null   object \n",
      " 5   host_is_superhost            4680 non-null   object \n",
      " 6   host_has_profile_pic         4680 non-null   object \n",
      " 7   property_type                4680 non-null   object \n",
      " 8   room_type                    4680 non-null   object \n",
      " 9   accommodates                 4680 non-null   int64  \n",
      " 10  bedrooms                     4680 non-null   float64\n",
      " 11  beds                         4680 non-null   float64\n",
      " 12  amenities                    4680 non-null   object \n",
      " 13  price                        4680 non-null   float64\n",
      " 14  has_availability             4680 non-null   object \n",
      " 15  availability_30              4680 non-null   int64  \n",
      " 16  availability_60              4680 non-null   int64  \n",
      " 17  availability_90              4680 non-null   int64  \n",
      " 18  availability_365             4680 non-null   int64  \n",
      " 19  number_of_reviews            4680 non-null   int64  \n",
      " 20  review_scores_rating         4136 non-null   float64\n",
      " 21  review_scores_accuracy       4128 non-null   float64\n",
      " 22  review_scores_cleanliness    4128 non-null   float64\n",
      " 23  review_scores_checkin        4128 non-null   float64\n",
      " 24  review_scores_communication  4128 non-null   float64\n",
      " 25  review_scores_location       4128 non-null   float64\n",
      " 26  review_scores_value          4128 non-null   float64\n",
      " 27  instant_bookable             4680 non-null   object \n",
      " 28  nbh_ALGIROS                  4680 non-null   int64  \n",
      " 29  nbh_BENICALAP                4680 non-null   int64  \n",
      " 30  nbh_BENIMACLET               4680 non-null   int64  \n",
      " 31  nbh_CAMINS AL GRAU           4680 non-null   int64  \n",
      " 32  nbh_CAMPANAR                 4680 non-null   int64  \n",
      " 33  nbh_CIUTAT VELLA             4680 non-null   int64  \n",
      " 34  nbh_EL PLA DEL REAL          4680 non-null   int64  \n",
      " 35  nbh_EXTRAMURS                4680 non-null   int64  \n",
      " 36  nbh_JESUS                    4680 non-null   int64  \n",
      " 37  nbh_L'EIXAMPLE               4680 non-null   int64  \n",
      " 38  nbh_L'OLIVERETA              4680 non-null   int64  \n",
      " 39  nbh_LA SAIDIA                4680 non-null   int64  \n",
      " 40  nbh_PATRAIX                  4680 non-null   int64  \n",
      " 41  nbh_POBLATS DE L'OEST        4680 non-null   int64  \n",
      " 42  nbh_POBLATS DEL NORD         4680 non-null   int64  \n",
      " 43  nbh_POBLATS DEL SUD          4680 non-null   int64  \n",
      " 44  nbh_POBLATS MARITIMS         4680 non-null   int64  \n",
      " 45  nbh_QUATRE CARRERES          4680 non-null   int64  \n",
      " 46  nbh_RASCANYA                 4680 non-null   int64  \n",
      "dtypes: float64(10), int64(26), object(11)\n",
      "memory usage: 1.9+ MB\n"
     ]
    }
   ],
   "source": [
    "dff.info()"
   ]
  },
  {
   "cell_type": "code",
   "execution_count": 34,
   "metadata": {},
   "outputs": [
    {
     "name": "stdout",
     "output_type": "stream",
     "text": [
      "<class 'pandas.core.frame.DataFrame'>\n",
      "Int64Index: 4680 entries, 0 to 5544\n",
      "Data columns (total 35 columns):\n",
      " #   Column                       Non-Null Count  Dtype  \n",
      "---  ------                       --------------  -----  \n",
      " 0   accommodates                 4680 non-null   int64  \n",
      " 1   bedrooms                     4680 non-null   float64\n",
      " 2   beds                         4680 non-null   float64\n",
      " 3   price                        4680 non-null   float64\n",
      " 4   availability_30              4680 non-null   int64  \n",
      " 5   availability_60              4680 non-null   int64  \n",
      " 6   availability_90              4680 non-null   int64  \n",
      " 7   availability_365             4680 non-null   int64  \n",
      " 8   number_of_reviews            4680 non-null   int64  \n",
      " 9   review_scores_rating         4136 non-null   float64\n",
      " 10  review_scores_accuracy       4128 non-null   float64\n",
      " 11  review_scores_cleanliness    4128 non-null   float64\n",
      " 12  review_scores_checkin        4128 non-null   float64\n",
      " 13  review_scores_communication  4128 non-null   float64\n",
      " 14  review_scores_location       4128 non-null   float64\n",
      " 15  review_scores_value          4128 non-null   float64\n",
      " 16  nbh_ALGIROS                  4680 non-null   int64  \n",
      " 17  nbh_BENICALAP                4680 non-null   int64  \n",
      " 18  nbh_BENIMACLET               4680 non-null   int64  \n",
      " 19  nbh_CAMINS AL GRAU           4680 non-null   int64  \n",
      " 20  nbh_CAMPANAR                 4680 non-null   int64  \n",
      " 21  nbh_CIUTAT VELLA             4680 non-null   int64  \n",
      " 22  nbh_EL PLA DEL REAL          4680 non-null   int64  \n",
      " 23  nbh_EXTRAMURS                4680 non-null   int64  \n",
      " 24  nbh_JESUS                    4680 non-null   int64  \n",
      " 25  nbh_L'EIXAMPLE               4680 non-null   int64  \n",
      " 26  nbh_L'OLIVERETA              4680 non-null   int64  \n",
      " 27  nbh_LA SAIDIA                4680 non-null   int64  \n",
      " 28  nbh_PATRAIX                  4680 non-null   int64  \n",
      " 29  nbh_POBLATS DE L'OEST        4680 non-null   int64  \n",
      " 30  nbh_POBLATS DEL NORD         4680 non-null   int64  \n",
      " 31  nbh_POBLATS DEL SUD          4680 non-null   int64  \n",
      " 32  nbh_POBLATS MARITIMS         4680 non-null   int64  \n",
      " 33  nbh_QUATRE CARRERES          4680 non-null   int64  \n",
      " 34  nbh_RASCANYA                 4680 non-null   int64  \n",
      "dtypes: float64(10), int64(25)\n",
      "memory usage: 1.4 MB\n"
     ]
    }
   ],
   "source": [
    "dff[num_columns].info()"
   ]
  },
  {
   "cell_type": "code",
   "execution_count": 42,
   "metadata": {},
   "outputs": [
    {
     "name": "stdout",
     "output_type": "stream",
     "text": [
      "The r-squared score for the model on train set was 0.3448651206949611 on 3276 values.\n",
      "The r-squared score for the model on train set was 0.37595104353798003 on 1404 values.\n"
     ]
    }
   ],
   "source": [
    "from sklearn.model_selection import train_test_split\n",
    "from sklearn.linear_model import LinearRegression\n",
    "from sklearn.metrics import r2_score, mean_squared_error\n",
    "\n",
    "num_columns = list(dff.select_dtypes(include=['int64','float64']).columns)\n",
    "num_columns.remove('id')\n",
    "num_columns\n",
    "\n",
    "listings_clean_num_col = dff[num_columns].drop(['review_scores_rating','review_scores_accuracy','review_scores_cleanliness','review_scores_checkin',\n",
    "                  'review_scores_communication','review_scores_location','review_scores_value'], axis=1)\n",
    "\n",
    "X = listings_clean_num_col.drop('price', axis=1)\n",
    "y = listings_clean_num_col['price']\n",
    "\n",
    "X_train, X_test, y_train, y_test = train_test_split(X, y, test_size = .30, random_state=45) \n",
    "\n",
    "lm_model = LinearRegression() # Instantiate\n",
    "lm_model.fit(X_train, y_train) #Fit\n",
    "\n",
    "#Predict and score the model\n",
    "y_train_preds = lm_model.predict(X_train) \n",
    "y_test_preds = lm_model.predict(X_test) \n",
    "print(\"The r-squared score for the model on train set was {} on {} values.\".format(r2_score(y_train, y_train_preds), len(y_train)))\n",
    "print(\"The r-squared score for the model on train set was {} on {} values.\".format(r2_score(y_test, y_test_preds), len(y_test)))"
   ]
  },
  {
   "cell_type": "markdown",
   "metadata": {},
   "source": [
    "Model has r-squared accuracy = 0.34 and 0.38 on a test set. It seems not to be overfitted however such a low score is not satisfactory. Perhaps we need other variables to be considered than what we have in our dataset or the linear model is just not a fit for this data distribution."
   ]
  },
  {
   "cell_type": "code",
   "execution_count": null,
   "metadata": {},
   "outputs": [],
   "source": []
  }
 ],
 "metadata": {
  "kernelspec": {
   "display_name": "Python 3",
   "language": "python",
   "name": "python3"
  },
  "language_info": {
   "codemirror_mode": {
    "name": "ipython",
    "version": 3
   },
   "file_extension": ".py",
   "mimetype": "text/x-python",
   "name": "python",
   "nbconvert_exporter": "python",
   "pygments_lexer": "ipython3",
   "version": "3.8.3"
  }
 },
 "nbformat": 4,
 "nbformat_minor": 4
}
