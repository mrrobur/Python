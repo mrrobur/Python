{
 "cells": [
  {
   "cell_type": "markdown",
   "metadata": {},
   "source": [
    "# ML Pipeline Preparation\n",
    "### 1. Import libraries and load data from database."
   ]
  },
  {
   "cell_type": "code",
   "execution_count": 1,
   "metadata": {
    "collapsed": false,
    "jupyter": {
     "outputs_hidden": false
    },
    "pycharm": {
     "name": "#%%\n"
    }
   },
   "outputs": [
    {
     "name": "stderr",
     "output_type": "stream",
     "text": [
      "[nltk_data] Downloading package punkt to\n",
      "[nltk_data]     /Users/kamil.wiktorski/nltk_data...\n",
      "[nltk_data]   Package punkt is already up-to-date!\n",
      "[nltk_data] Downloading package wordnet to\n",
      "[nltk_data]     /Users/kamil.wiktorski/nltk_data...\n",
      "[nltk_data]   Package wordnet is already up-to-date!\n",
      "[nltk_data] Downloading package averaged_perceptron_tagger to\n",
      "[nltk_data]     /Users/kamil.wiktorski/nltk_data...\n",
      "[nltk_data]   Package averaged_perceptron_tagger is already up-to-\n",
      "[nltk_data]       date!\n",
      "[nltk_data] Downloading package stopwords to\n",
      "[nltk_data]     /Users/kamil.wiktorski/nltk_data...\n",
      "[nltk_data]   Package stopwords is already up-to-date!\n"
     ]
    }
   ],
   "source": [
    "# import libraries\n",
    "import nltk\n",
    "nltk.download(['punkt', 'wordnet', 'averaged_perceptron_tagger','stopwords'])\n",
    "import time\n",
    "import pickle\n",
    "import re\n",
    "import numpy as np\n",
    "import pandas as pd\n",
    "from nltk.tokenize import word_tokenize\n",
    "from nltk.stem import WordNetLemmatizer\n",
    "from nltk.corpus import stopwords\n",
    "\n",
    "from sklearn.metrics import confusion_matrix, classification_report, precision_recall_fscore_support\n",
    "from sklearn.ensemble import RandomForestClassifier\n",
    "from sklearn.model_selection import train_test_split\n",
    "from sklearn.pipeline import Pipeline\n",
    "from sklearn.feature_extraction.text import CountVectorizer, TfidfTransformer\n",
    "from sklearn.multioutput import MultiOutputClassifier\n",
    "from sklearn.model_selection import GridSearchCV\n",
    "from sklearn.preprocessing import StandardScaler\n",
    "from sklearn.naive_bayes import MultinomialNB\n",
    "from sklearn import svm\n",
    "\n"
   ]
  },
  {
   "cell_type": "code",
   "execution_count": 2,
   "metadata": {
    "collapsed": false,
    "jupyter": {
     "outputs_hidden": false
    },
    "pycharm": {
     "name": "#%%\n"
    }
   },
   "outputs": [
    {
     "data": {
      "text/plain": [
       "array([[0, 0, 0, ..., 0, 0, 0],\n",
       "       [0, 0, 0, ..., 0, 0, 0],\n",
       "       [0, 0, 0, ..., 0, 0, 0],\n",
       "       ...,\n",
       "       [0, 0, 0, ..., 0, 0, 0],\n",
       "       [0, 0, 0, ..., 0, 0, 0],\n",
       "       [0, 0, 0, ..., 0, 0, 0]])"
      ]
     },
     "execution_count": 2,
     "metadata": {},
     "output_type": "execute_result"
    }
   ],
   "source": [
    "#load data from database\n",
    "\n",
    "df = pd.read_sql_table('Messages_Categories', 'sqlite:///ETLData.db')\n",
    "drop_var = ['id','message','original','genre']\n",
    "\n",
    "y_var = list(set(df.columns) - set(drop_var) -set('message'))\n",
    "X = df['message'].values\n",
    "Y = df[y_var].values\n",
    "\n",
    "#remove Y values where only more than 1 classes\n",
    "y_unique = df[y_var].nunique()\n",
    "\n",
    "Y"
   ]
  },
  {
   "cell_type": "markdown",
   "metadata": {},
   "source": [
    "### 2. Tokenization"
   ]
  },
  {
   "cell_type": "code",
   "execution_count": 3,
   "metadata": {
    "collapsed": false,
    "jupyter": {
     "outputs_hidden": false
    },
    "pycharm": {
     "name": "#%%\n"
    }
   },
   "outputs": [],
   "source": [
    "text_only = r'[^A-Za-z]'\n",
    "url_regex = r'http[s]?://(?:[a-zA-Z]|[0-9]|[$-_@.&+]|[!*\\(\\),]|(?:%[0-9a-fA-F][0-9a-fA-F]))+'\n",
    "\n",
    "def tokenize(text):   \n",
    "    detected_urls = re.findall(url_regex,text)\n",
    "    for url in detected_urls:\n",
    "        text = text.replace(url,\"urlplaceholder\")\n",
    "    \n",
    "    stopw = stopwords.words('english') + ['urlplaceholder']\n",
    "    text = re.sub(text_only,\" \",text)\n",
    "    \n",
    "    tokens = word_tokenize(text)\n",
    "    lemmatizer = WordNetLemmatizer()\n",
    "    \n",
    "    tokens_wo_stopwords = [i for i in tokens if i not in stopw]\n",
    "    \n",
    "    clean_tokens = []\n",
    "    for tok in tokens_wo_stopwords:\n",
    "        clean_tok = lemmatizer.lemmatize(tok).lower().strip()\n",
    "        clean_tokens.append(clean_tok)\n",
    "\n",
    "    return clean_tokens"
   ]
  },
  {
   "cell_type": "markdown",
   "metadata": {},
   "source": [
    "### 3. MLpipeline"
   ]
  },
  {
   "cell_type": "code",
   "execution_count": 4,
   "metadata": {
    "collapsed": false,
    "jupyter": {
     "outputs_hidden": false
    },
    "pycharm": {
     "name": "#%%\n"
    }
   },
   "outputs": [
    {
     "data": {
      "text/plain": [
       "<26216x29753 sparse matrix of type '<class 'numpy.int64'>'\n",
       "\twith 346519 stored elements in Compressed Sparse Row format>"
      ]
     },
     "execution_count": 4,
     "metadata": {},
     "output_type": "execute_result"
    }
   ],
   "source": [
    "vect = CountVectorizer(tokenizer=tokenize)\n",
    "vect.fit_transform(X)"
   ]
  },
  {
   "cell_type": "code",
   "execution_count": 5,
   "metadata": {
    "collapsed": false,
    "jupyter": {
     "outputs_hidden": false
    },
    "pycharm": {
     "name": "#%%\n"
    }
   },
   "outputs": [
    {
     "data": {
      "text/plain": [
       "[('weather', 28834),\n",
       " ('tweathergeek', 27407),\n",
       " ('birthdayweatherprobs', 2840),\n",
       " ('weathered', 28835),\n",
       " ('weatherproof', 28837),\n",
       " ('weatherman', 28836),\n",
       " ('weatherproofing', 28838)]"
      ]
     },
     "execution_count": 5,
     "metadata": {},
     "output_type": "execute_result"
    }
   ],
   "source": [
    "[(k,v) for k,v in vect.vocabulary_.items() if 'weather' in k][:20]"
   ]
  },
  {
   "cell_type": "code",
   "execution_count": 6,
   "metadata": {
    "collapsed": false,
    "jupyter": {
     "outputs_hidden": false
    },
    "pycharm": {
     "name": "#%%\n"
    }
   },
   "outputs": [],
   "source": [
    "pipeline = Pipeline([\n",
    "                ('vect', CountVectorizer(tokenizer=tokenize, lowercase=True)),\n",
    "                ('tfidf', TfidfTransformer()),\n",
    "                ('clf', MultiOutputClassifier(RandomForestClassifier(class_weight=\"balanced\")))\n",
    "            ])"
   ]
  },
  {
   "cell_type": "markdown",
   "metadata": {},
   "source": [
    "### 4. Train pipeline\n",
    "- Splitting data into train and test sets\n",
    "- Training pipeline"
   ]
  },
  {
   "cell_type": "code",
   "execution_count": 7,
   "metadata": {
    "collapsed": false,
    "jupyter": {
     "outputs_hidden": false
    },
    "pycharm": {
     "name": "#%%\n"
    }
   },
   "outputs": [
    {
     "data": {
      "text/plain": [
       "Pipeline(steps=[('vect',\n",
       "                 CountVectorizer(tokenizer=<function tokenize at 0x7f8be8932700>)),\n",
       "                ('tfidf', TfidfTransformer()),\n",
       "                ('clf',\n",
       "                 MultiOutputClassifier(estimator=RandomForestClassifier(class_weight='balanced')))])"
      ]
     },
     "execution_count": 7,
     "metadata": {},
     "output_type": "execute_result"
    }
   ],
   "source": [
    "X_train, X_test, Y_train, Y_test = train_test_split(X, Y, random_state=654, test_size=0.25)\n",
    "model = pipeline\n",
    "model.fit(X_train, Y_train)"
   ]
  },
  {
   "cell_type": "markdown",
   "metadata": {},
   "source": [
    "### 5. Testing model"
   ]
  },
  {
   "cell_type": "code",
   "execution_count": 8,
   "metadata": {
    "collapsed": false,
    "jupyter": {
     "outputs_hidden": false
    },
    "pycharm": {
     "name": "#%%\n"
    }
   },
   "outputs": [
    {
     "data": {
      "text/plain": [
       "6554"
      ]
     },
     "execution_count": 8,
     "metadata": {},
     "output_type": "execute_result"
    }
   ],
   "source": [
    "Y_pred = model.predict(X_test)\n",
    "len(Y_pred)"
   ]
  },
  {
   "cell_type": "code",
   "execution_count": 9,
   "metadata": {
    "collapsed": false,
    "jupyter": {
     "outputs_hidden": false
    },
    "pycharm": {
     "name": "#%%\n"
    }
   },
   "outputs": [
    {
     "name": "stderr",
     "output_type": "stream",
     "text": [
      "/opt/anaconda3/lib/python3.8/site-packages/sklearn/metrics/_classification.py:1221: UndefinedMetricWarning: Precision and F-score are ill-defined and being set to 0.0 in labels with no predicted samples. Use `zero_division` parameter to control this behavior.\n",
      "  _warn_prf(average, modifier, msg_start, len(result))\n"
     ]
    },
    {
     "name": "stdout",
     "output_type": "stream",
     "text": [
      "shops               precision    recall  f1-score   support\n",
      "\n",
      "           0       1.00      1.00      1.00      6525\n",
      "           1       0.00      0.00      0.00        29\n",
      "\n",
      "    accuracy                           1.00      6554\n",
      "   macro avg       0.50      0.50      0.50      6554\n",
      "weighted avg       0.99      1.00      0.99      6554\n",
      "\n",
      "request               precision    recall  f1-score   support\n",
      "\n",
      "           0       0.91      0.97      0.94      5379\n",
      "           1       0.82      0.54      0.65      1175\n",
      "\n",
      "    accuracy                           0.90      6554\n",
      "   macro avg       0.86      0.76      0.80      6554\n",
      "weighted avg       0.89      0.90      0.89      6554\n",
      "\n",
      "electricity               precision    recall  f1-score   support\n",
      "\n",
      "           0       0.98      1.00      0.99      6433\n",
      "           1       0.80      0.03      0.06       121\n",
      "\n",
      "    accuracy                           0.98      6554\n",
      "   macro avg       0.89      0.52      0.53      6554\n",
      "weighted avg       0.98      0.98      0.97      6554\n",
      "\n",
      "child_alone               precision    recall  f1-score   support\n",
      "\n",
      "           0       1.00      1.00      1.00      6554\n",
      "\n",
      "    accuracy                           1.00      6554\n",
      "   macro avg       1.00      1.00      1.00      6554\n",
      "weighted avg       1.00      1.00      1.00      6554\n",
      "\n",
      "water               precision    recall  f1-score   support\n",
      "\n",
      "           0       0.95      1.00      0.97      6109\n",
      "           1       0.88      0.31      0.46       445\n",
      "\n",
      "    accuracy                           0.95      6554\n",
      "   macro avg       0.92      0.65      0.72      6554\n",
      "weighted avg       0.95      0.95      0.94      6554\n",
      "\n",
      "offer               precision    recall  f1-score   support\n",
      "\n",
      "           0       1.00      1.00      1.00      6525\n",
      "           1       0.00      0.00      0.00        29\n",
      "\n",
      "    accuracy                           1.00      6554\n",
      "   macro avg       0.50      0.50      0.50      6554\n",
      "weighted avg       0.99      1.00      0.99      6554\n",
      "\n",
      "missing_people               precision    recall  f1-score   support\n",
      "\n",
      "           0       0.99      1.00      0.99      6480\n",
      "           1       0.00      0.00      0.00        74\n",
      "\n",
      "    accuracy                           0.99      6554\n",
      "   macro avg       0.49      0.50      0.50      6554\n",
      "weighted avg       0.98      0.99      0.98      6554\n",
      "\n",
      "tools               precision    recall  f1-score   support\n",
      "\n",
      "           0       0.99      1.00      1.00      6520\n",
      "           1       0.00      0.00      0.00        34\n",
      "\n",
      "    accuracy                           0.99      6554\n",
      "   macro avg       0.50      0.50      0.50      6554\n",
      "weighted avg       0.99      0.99      0.99      6554\n",
      "\n",
      "search_and_rescue               precision    recall  f1-score   support\n",
      "\n",
      "           0       0.97      1.00      0.99      6369\n",
      "           1       0.00      0.00      0.00       185\n",
      "\n",
      "    accuracy                           0.97      6554\n",
      "   macro avg       0.49      0.50      0.49      6554\n",
      "weighted avg       0.94      0.97      0.96      6554\n",
      "\n",
      "cold               precision    recall  f1-score   support\n",
      "\n",
      "           0       0.98      1.00      0.99      6422\n",
      "           1       1.00      0.04      0.07       132\n",
      "\n",
      "    accuracy                           0.98      6554\n",
      "   macro avg       0.99      0.52      0.53      6554\n",
      "weighted avg       0.98      0.98      0.97      6554\n",
      "\n",
      "weather_related               precision    recall  f1-score   support\n",
      "\n",
      "           0       0.89      0.95      0.92      4753\n",
      "           1       0.83      0.70      0.76      1801\n",
      "\n",
      "    accuracy                           0.88      6554\n",
      "   macro avg       0.86      0.82      0.84      6554\n",
      "weighted avg       0.88      0.88      0.88      6554\n",
      "\n",
      "buildings               precision    recall  f1-score   support\n",
      "\n",
      "           0       0.95      1.00      0.98      6211\n",
      "           1       0.78      0.10      0.19       343\n",
      "\n",
      "    accuracy                           0.95      6554\n",
      "   macro avg       0.87      0.55      0.58      6554\n",
      "weighted avg       0.94      0.95      0.93      6554\n",
      "\n",
      "clothing               precision    recall  f1-score   support\n",
      "\n",
      "           0       0.99      1.00      0.99      6455\n",
      "           1       0.80      0.12      0.21        99\n",
      "\n",
      "    accuracy                           0.99      6554\n",
      "   macro avg       0.89      0.56      0.60      6554\n",
      "weighted avg       0.98      0.99      0.98      6554\n",
      "\n",
      "transport               precision    recall  f1-score   support\n",
      "\n",
      "           0       0.96      1.00      0.98      6267\n",
      "           1       0.58      0.02      0.05       287\n",
      "\n",
      "    accuracy                           0.96      6554\n",
      "   macro avg       0.77      0.51      0.51      6554\n",
      "weighted avg       0.94      0.96      0.94      6554\n",
      "\n",
      "infrastructure_related               precision    recall  f1-score   support\n",
      "\n",
      "           0       0.93      1.00      0.96      6105\n",
      "           1       0.25      0.00      0.00       449\n",
      "\n",
      "    accuracy                           0.93      6554\n",
      "   macro avg       0.59      0.50      0.48      6554\n",
      "weighted avg       0.88      0.93      0.90      6554\n",
      "\n",
      "related               precision    recall  f1-score   support\n",
      "\n",
      "           0       0.68      0.42      0.52      1528\n",
      "           1       0.84      0.93      0.89      4976\n",
      "           2       0.22      0.44      0.29        50\n",
      "\n",
      "    accuracy                           0.81      6554\n",
      "   macro avg       0.58      0.60      0.57      6554\n",
      "weighted avg       0.80      0.81      0.80      6554\n",
      "\n",
      "floods               precision    recall  f1-score   support\n",
      "\n",
      "           0       0.95      1.00      0.97      6019\n",
      "           1       0.89      0.38      0.53       535\n",
      "\n",
      "    accuracy                           0.95      6554\n",
      "   macro avg       0.92      0.69      0.75      6554\n",
      "weighted avg       0.94      0.95      0.94      6554\n",
      "\n",
      "death               precision    recall  f1-score   support\n",
      "\n",
      "           0       0.96      1.00      0.98      6239\n",
      "           1       0.95      0.11      0.20       315\n",
      "\n",
      "    accuracy                           0.96      6554\n",
      "   macro avg       0.95      0.56      0.59      6554\n",
      "weighted avg       0.96      0.96      0.94      6554\n",
      "\n",
      "other_aid               precision    recall  f1-score   support\n",
      "\n",
      "           0       0.87      0.99      0.93      5674\n",
      "           1       0.59      0.05      0.10       880\n",
      "\n",
      "    accuracy                           0.87      6554\n",
      "   macro avg       0.73      0.52      0.51      6554\n",
      "weighted avg       0.83      0.87      0.82      6554\n",
      "\n",
      "shelter               precision    recall  f1-score   support\n",
      "\n",
      "           0       0.94      0.99      0.96      5966\n",
      "           1       0.81      0.30      0.44       588\n",
      "\n",
      "    accuracy                           0.93      6554\n",
      "   macro avg       0.87      0.65      0.70      6554\n",
      "weighted avg       0.92      0.93      0.92      6554\n",
      "\n",
      "military               precision    recall  f1-score   support\n",
      "\n",
      "           0       0.97      1.00      0.98      6342\n",
      "           1       0.70      0.03      0.06       212\n",
      "\n",
      "    accuracy                           0.97      6554\n",
      "   macro avg       0.83      0.52      0.52      6554\n",
      "weighted avg       0.96      0.97      0.95      6554\n",
      "\n",
      "aid_related               precision    recall  f1-score   support\n",
      "\n",
      "           0       0.80      0.84      0.82      3757\n",
      "           1       0.77      0.72      0.74      2797\n",
      "\n",
      "    accuracy                           0.79      6554\n",
      "   macro avg       0.78      0.78      0.78      6554\n",
      "weighted avg       0.79      0.79      0.79      6554\n",
      "\n",
      "refugees               precision    recall  f1-score   support\n",
      "\n",
      "           0       0.97      1.00      0.98      6347\n",
      "           1       0.33      0.00      0.01       207\n",
      "\n",
      "    accuracy                           0.97      6554\n",
      "   macro avg       0.65      0.50      0.50      6554\n",
      "weighted avg       0.95      0.97      0.95      6554\n",
      "\n",
      "other_weather               precision    recall  f1-score   support\n",
      "\n",
      "           0       0.95      1.00      0.97      6221\n",
      "           1       0.50      0.01      0.02       333\n",
      "\n",
      "    accuracy                           0.95      6554\n",
      "   macro avg       0.72      0.50      0.50      6554\n",
      "weighted avg       0.93      0.95      0.93      6554\n",
      "\n",
      "aid_centers               precision    recall  f1-score   support\n",
      "\n",
      "           0       0.99      1.00      0.99      6474\n",
      "           1       0.00      0.00      0.00        80\n",
      "\n",
      "    accuracy                           0.99      6554\n",
      "   macro avg       0.49      0.50      0.50      6554\n",
      "weighted avg       0.98      0.99      0.98      6554\n",
      "\n",
      "direct_report               precision    recall  f1-score   support\n",
      "\n",
      "           0       0.87      0.97      0.92      5235\n",
      "           1       0.78      0.42      0.54      1319\n",
      "\n",
      "    accuracy                           0.86      6554\n",
      "   macro avg       0.82      0.69      0.73      6554\n",
      "weighted avg       0.85      0.86      0.84      6554\n",
      "\n",
      "food               precision    recall  f1-score   support\n",
      "\n",
      "           0       0.95      0.99      0.97      5824\n",
      "           1       0.86      0.62      0.72       730\n",
      "\n",
      "    accuracy                           0.95      6554\n",
      "   macro avg       0.90      0.80      0.84      6554\n",
      "weighted avg       0.94      0.95      0.94      6554\n",
      "\n",
      "other_infrastructure               precision    recall  f1-score   support\n",
      "\n",
      "           0       0.95      1.00      0.98      6247\n",
      "           1       0.33      0.00      0.01       307\n",
      "\n",
      "    accuracy                           0.95      6554\n",
      "   macro avg       0.64      0.50      0.49      6554\n",
      "weighted avg       0.92      0.95      0.93      6554\n",
      "\n",
      "storm               precision    recall  f1-score   support\n",
      "\n",
      "           0       0.94      0.99      0.97      5951\n",
      "           1       0.79      0.43      0.56       603\n",
      "\n",
      "    accuracy                           0.94      6554\n",
      "   macro avg       0.87      0.71      0.76      6554\n",
      "weighted avg       0.93      0.94      0.93      6554\n",
      "\n",
      "medical_help               precision    recall  f1-score   support\n",
      "\n",
      "           0       0.92      1.00      0.96      6012\n",
      "           1       0.58      0.07      0.12       542\n",
      "\n",
      "    accuracy                           0.92      6554\n",
      "   macro avg       0.75      0.53      0.54      6554\n",
      "weighted avg       0.89      0.92      0.89      6554\n",
      "\n",
      "medical_products               precision    recall  f1-score   support\n",
      "\n",
      "           0       0.95      1.00      0.97      6205\n",
      "           1       0.71      0.07      0.13       349\n",
      "\n",
      "    accuracy                           0.95      6554\n",
      "   macro avg       0.83      0.54      0.55      6554\n",
      "weighted avg       0.94      0.95      0.93      6554\n",
      "\n",
      "hospitals               precision    recall  f1-score   support\n",
      "\n",
      "           0       0.99      1.00      0.99      6477\n",
      "           1       0.00      0.00      0.00        77\n",
      "\n",
      "    accuracy                           0.99      6554\n",
      "   macro avg       0.49      0.50      0.50      6554\n",
      "weighted avg       0.98      0.99      0.98      6554\n",
      "\n",
      "money               precision    recall  f1-score   support\n",
      "\n",
      "           0       0.98      1.00      0.99      6394\n",
      "           1       1.00      0.04      0.08       160\n",
      "\n",
      "    accuracy                           0.98      6554\n",
      "   macro avg       0.99      0.52      0.54      6554\n",
      "weighted avg       0.98      0.98      0.97      6554\n",
      "\n",
      "earthquake               precision    recall  f1-score   support\n",
      "\n",
      "           0       0.97      0.99      0.98      5957\n",
      "           1       0.89      0.71      0.79       597\n",
      "\n",
      "    accuracy                           0.96      6554\n",
      "   macro avg       0.93      0.85      0.88      6554\n",
      "weighted avg       0.96      0.96      0.96      6554\n",
      "\n",
      "security               precision    recall  f1-score   support\n",
      "\n",
      "           0       0.98      1.00      0.99      6428\n",
      "           1       0.00      0.00      0.00       126\n",
      "\n",
      "    accuracy                           0.98      6554\n",
      "   macro avg       0.49      0.50      0.50      6554\n",
      "weighted avg       0.96      0.98      0.97      6554\n",
      "\n",
      "fire               precision    recall  f1-score   support\n",
      "\n",
      "           0       0.99      1.00      0.99      6480\n",
      "           1       0.50      0.01      0.03        74\n",
      "\n",
      "    accuracy                           0.99      6554\n",
      "   macro avg       0.74      0.51      0.51      6554\n",
      "weighted avg       0.98      0.99      0.98      6554\n",
      "\n"
     ]
    }
   ],
   "source": [
    "for column, test, pred in zip(y_var, Y_test.T, Y_pred.T):\n",
    "    print(column, classification_report(test, pred))"
   ]
  },
  {
   "cell_type": "markdown",
   "metadata": {},
   "source": [
    "Classification_report shows several importan metrics that would be helpful in multioutpit classifier.\n",
    "\n",
    "Why accuracy score is not good for this model?"
   ]
  },
  {
   "cell_type": "code",
   "execution_count": 10,
   "metadata": {
    "collapsed": false,
    "jupyter": {
     "outputs_hidden": false
    },
    "pycharm": {
     "name": "#%%\n"
    }
   },
   "outputs": [
    {
     "data": {
      "text/plain": [
       "0.9470128505069"
      ]
     },
     "execution_count": 10,
     "metadata": {},
     "output_type": "execute_result"
    }
   ],
   "source": [
    "(Y_pred == Y_test).mean()"
   ]
  },
  {
   "cell_type": "markdown",
   "metadata": {},
   "source": [
    "Accuracy score for predicted model seems very high at **94.7%**"
   ]
  },
  {
   "cell_type": "code",
   "execution_count": 11,
   "metadata": {
    "collapsed": false,
    "jupyter": {
     "outputs_hidden": false
    },
    "pycharm": {
     "name": "#%%\n"
    }
   },
   "outputs": [
    {
     "data": {
      "text/plain": [
       "0.9107415318889228"
      ]
     },
     "execution_count": 11,
     "metadata": {},
     "output_type": "execute_result"
    }
   ],
   "source": [
    "(np.zeros(np.shape(Y_test)) == Y_test).mean()"
   ]
  },
  {
   "cell_type": "markdown",
   "metadata": {},
   "source": [
    "However  simulating all datapoints to be 0 (negative predcition) we receive **91.0%** score. This is due to imbalanced number of positive cases and the fact we proceed with multiple label classifier. \n",
    "\n",
    "The more proper score evalution will be F1-score."
   ]
  },
  {
   "cell_type": "code",
   "execution_count": 12,
   "metadata": {
    "collapsed": false,
    "jupyter": {
     "outputs_hidden": false
    },
    "pycharm": {
     "name": "#%%\n"
    }
   },
   "outputs": [],
   "source": [
    "def test_model(Y_test, Y_pred, average_type=None):\n",
    "    results = dict()\n",
    "    # classification_report is only printing a string which is unredible, using precision_recall_fscore_support instead\n",
    "    for col in zip(Y_test.T, Y_pred.T, y_var):  \n",
    "        y_test, y_pred, var_name = col[0], col[1], col[2]\n",
    "        class_report=precision_recall_fscore_support(y_test, y_pred, average=average_type)\n",
    "        d = {   \n",
    "            'precision': class_report[0],\n",
    "            'recall': class_report[1],\n",
    "            'f1-score': class_report[2],\n",
    "            'support': class_report[3]\n",
    "            }\n",
    "        results[var_name] = d\n",
    "        \n",
    "    return pd.DataFrame.from_dict(results, orient='index').drop('support', axis=1)#[0].apply(lambda x: pd.Series(x))\n",
    "        \n",
    "\n",
    "def test_model_mean(Y_test, Y_pred):\n",
    "    return test_model(Y_test, Y_pred).mean()\n",
    "    \n",
    "from sklearn.metrics import make_scorer\n",
    "\n",
    "def get_model_mean(Y_test, Y_pred):\n",
    "    return test_model(Y_test, Y_pred, 'macro').mean()['f1-score']\n",
    "\n",
    "custom_loss = make_scorer(get_model_mean, greater_is_better=True)\n",
    "\n",
    "\n",
    "    "
   ]
  },
  {
   "cell_type": "code",
   "execution_count": 13,
   "metadata": {
    "collapsed": false,
    "jupyter": {
     "outputs_hidden": false
    },
    "pycharm": {
     "name": "#%%\n"
    }
   },
   "outputs": [
    {
     "data": {
      "text/html": [
       "<div>\n",
       "<style scoped>\n",
       "    .dataframe tbody tr th:only-of-type {\n",
       "        vertical-align: middle;\n",
       "    }\n",
       "\n",
       "    .dataframe tbody tr th {\n",
       "        vertical-align: top;\n",
       "    }\n",
       "\n",
       "    .dataframe thead th {\n",
       "        text-align: right;\n",
       "    }\n",
       "</style>\n",
       "<table border=\"1\" class=\"dataframe\">\n",
       "  <thead>\n",
       "    <tr style=\"text-align: right;\">\n",
       "      <th></th>\n",
       "      <th>precision</th>\n",
       "      <th>recall</th>\n",
       "      <th>f1-score</th>\n",
       "    </tr>\n",
       "  </thead>\n",
       "  <tbody>\n",
       "    <tr>\n",
       "      <th>shops</th>\n",
       "      <td>0.497788</td>\n",
       "      <td>0.500000</td>\n",
       "      <td>0.498891</td>\n",
       "    </tr>\n",
       "    <tr>\n",
       "      <th>request</th>\n",
       "      <td>0.864186</td>\n",
       "      <td>0.756627</td>\n",
       "      <td>0.795037</td>\n",
       "    </tr>\n",
       "    <tr>\n",
       "      <th>electricity</th>\n",
       "      <td>0.891067</td>\n",
       "      <td>0.516451</td>\n",
       "      <td>0.527201</td>\n",
       "    </tr>\n",
       "    <tr>\n",
       "      <th>child_alone</th>\n",
       "      <td>1.000000</td>\n",
       "      <td>1.000000</td>\n",
       "      <td>1.000000</td>\n",
       "    </tr>\n",
       "    <tr>\n",
       "      <th>water</th>\n",
       "      <td>0.917869</td>\n",
       "      <td>0.652459</td>\n",
       "      <td>0.715302</td>\n",
       "    </tr>\n",
       "    <tr>\n",
       "      <th>offer</th>\n",
       "      <td>0.497787</td>\n",
       "      <td>0.499847</td>\n",
       "      <td>0.498815</td>\n",
       "    </tr>\n",
       "    <tr>\n",
       "      <th>missing_people</th>\n",
       "      <td>0.494355</td>\n",
       "      <td>0.500000</td>\n",
       "      <td>0.497161</td>\n",
       "    </tr>\n",
       "    <tr>\n",
       "      <th>tools</th>\n",
       "      <td>0.497406</td>\n",
       "      <td>0.500000</td>\n",
       "      <td>0.498700</td>\n",
       "    </tr>\n",
       "    <tr>\n",
       "      <th>search_and_rescue</th>\n",
       "      <td>0.485878</td>\n",
       "      <td>0.499686</td>\n",
       "      <td>0.492685</td>\n",
       "    </tr>\n",
       "    <tr>\n",
       "      <th>cold</th>\n",
       "      <td>0.990304</td>\n",
       "      <td>0.518939</td>\n",
       "      <td>0.531601</td>\n",
       "    </tr>\n",
       "    <tr>\n",
       "      <th>weather_related</th>\n",
       "      <td>0.861608</td>\n",
       "      <td>0.824120</td>\n",
       "      <td>0.839883</td>\n",
       "    </tr>\n",
       "    <tr>\n",
       "      <th>buildings</th>\n",
       "      <td>0.867718</td>\n",
       "      <td>0.551673</td>\n",
       "      <td>0.580083</td>\n",
       "    </tr>\n",
       "    <tr>\n",
       "      <th>clothing</th>\n",
       "      <td>0.893348</td>\n",
       "      <td>0.560374</td>\n",
       "      <td>0.601800</td>\n",
       "    </tr>\n",
       "    <tr>\n",
       "      <th>transport</th>\n",
       "      <td>0.770266</td>\n",
       "      <td>0.511796</td>\n",
       "      <td>0.512286</td>\n",
       "    </tr>\n",
       "    <tr>\n",
       "      <th>infrastructure_related</th>\n",
       "      <td>0.590802</td>\n",
       "      <td>0.500868</td>\n",
       "      <td>0.484388</td>\n",
       "    </tr>\n",
       "    <tr>\n",
       "      <th>related</th>\n",
       "      <td>0.580551</td>\n",
       "      <td>0.598568</td>\n",
       "      <td>0.566777</td>\n",
       "    </tr>\n",
       "    <tr>\n",
       "      <th>floods</th>\n",
       "      <td>0.918618</td>\n",
       "      <td>0.686708</td>\n",
       "      <td>0.750593</td>\n",
       "    </tr>\n",
       "    <tr>\n",
       "      <th>death</th>\n",
       "      <td>0.951491</td>\n",
       "      <td>0.555395</td>\n",
       "      <td>0.588378</td>\n",
       "    </tr>\n",
       "    <tr>\n",
       "      <th>other_aid</th>\n",
       "      <td>0.730480</td>\n",
       "      <td>0.523316</td>\n",
       "      <td>0.512379</td>\n",
       "    </tr>\n",
       "    <tr>\n",
       "      <th>shelter</th>\n",
       "      <td>0.872180</td>\n",
       "      <td>0.647841</td>\n",
       "      <td>0.701923</td>\n",
       "    </tr>\n",
       "    <tr>\n",
       "      <th>military</th>\n",
       "      <td>0.834337</td>\n",
       "      <td>0.516273</td>\n",
       "      <td>0.523461</td>\n",
       "    </tr>\n",
       "    <tr>\n",
       "      <th>aid_related</th>\n",
       "      <td>0.784319</td>\n",
       "      <td>0.778980</td>\n",
       "      <td>0.781056</td>\n",
       "    </tr>\n",
       "    <tr>\n",
       "      <th>refugees</th>\n",
       "      <td>0.650944</td>\n",
       "      <td>0.502258</td>\n",
       "      <td>0.496699</td>\n",
       "    </tr>\n",
       "    <tr>\n",
       "      <th>other_weather</th>\n",
       "      <td>0.724801</td>\n",
       "      <td>0.504263</td>\n",
       "      <td>0.495810</td>\n",
       "    </tr>\n",
       "    <tr>\n",
       "      <th>aid_centers</th>\n",
       "      <td>0.493897</td>\n",
       "      <td>0.500000</td>\n",
       "      <td>0.496930</td>\n",
       "    </tr>\n",
       "    <tr>\n",
       "      <th>direct_report</th>\n",
       "      <td>0.823110</td>\n",
       "      <td>0.694159</td>\n",
       "      <td>0.730310</td>\n",
       "    </tr>\n",
       "    <tr>\n",
       "      <th>food</th>\n",
       "      <td>0.904315</td>\n",
       "      <td>0.801010</td>\n",
       "      <td>0.842709</td>\n",
       "    </tr>\n",
       "    <tr>\n",
       "      <th>other_infrastructure</th>\n",
       "      <td>0.643311</td>\n",
       "      <td>0.501469</td>\n",
       "      <td>0.491193</td>\n",
       "    </tr>\n",
       "    <tr>\n",
       "      <th>storm</th>\n",
       "      <td>0.865190</td>\n",
       "      <td>0.709623</td>\n",
       "      <td>0.761369</td>\n",
       "    </tr>\n",
       "    <tr>\n",
       "      <th>medical_help</th>\n",
       "      <td>0.749038</td>\n",
       "      <td>0.532727</td>\n",
       "      <td>0.541220</td>\n",
       "    </tr>\n",
       "    <tr>\n",
       "      <th>medical_products</th>\n",
       "      <td>0.832292</td>\n",
       "      <td>0.535011</td>\n",
       "      <td>0.551979</td>\n",
       "    </tr>\n",
       "    <tr>\n",
       "      <th>hospitals</th>\n",
       "      <td>0.494126</td>\n",
       "      <td>0.500000</td>\n",
       "      <td>0.497046</td>\n",
       "    </tr>\n",
       "    <tr>\n",
       "      <th>money</th>\n",
       "      <td>0.988315</td>\n",
       "      <td>0.521875</td>\n",
       "      <td>0.536005</td>\n",
       "    </tr>\n",
       "    <tr>\n",
       "      <th>earthquake</th>\n",
       "      <td>0.928682</td>\n",
       "      <td>0.848064</td>\n",
       "      <td>0.883169</td>\n",
       "    </tr>\n",
       "    <tr>\n",
       "      <th>security</th>\n",
       "      <td>0.490385</td>\n",
       "      <td>0.499844</td>\n",
       "      <td>0.495069</td>\n",
       "    </tr>\n",
       "    <tr>\n",
       "      <th>fire</th>\n",
       "      <td>0.744429</td>\n",
       "      <td>0.506680</td>\n",
       "      <td>0.510319</td>\n",
       "    </tr>\n",
       "  </tbody>\n",
       "</table>\n",
       "</div>"
      ],
      "text/plain": [
       "                        precision    recall  f1-score\n",
       "shops                    0.497788  0.500000  0.498891\n",
       "request                  0.864186  0.756627  0.795037\n",
       "electricity              0.891067  0.516451  0.527201\n",
       "child_alone              1.000000  1.000000  1.000000\n",
       "water                    0.917869  0.652459  0.715302\n",
       "offer                    0.497787  0.499847  0.498815\n",
       "missing_people           0.494355  0.500000  0.497161\n",
       "tools                    0.497406  0.500000  0.498700\n",
       "search_and_rescue        0.485878  0.499686  0.492685\n",
       "cold                     0.990304  0.518939  0.531601\n",
       "weather_related          0.861608  0.824120  0.839883\n",
       "buildings                0.867718  0.551673  0.580083\n",
       "clothing                 0.893348  0.560374  0.601800\n",
       "transport                0.770266  0.511796  0.512286\n",
       "infrastructure_related   0.590802  0.500868  0.484388\n",
       "related                  0.580551  0.598568  0.566777\n",
       "floods                   0.918618  0.686708  0.750593\n",
       "death                    0.951491  0.555395  0.588378\n",
       "other_aid                0.730480  0.523316  0.512379\n",
       "shelter                  0.872180  0.647841  0.701923\n",
       "military                 0.834337  0.516273  0.523461\n",
       "aid_related              0.784319  0.778980  0.781056\n",
       "refugees                 0.650944  0.502258  0.496699\n",
       "other_weather            0.724801  0.504263  0.495810\n",
       "aid_centers              0.493897  0.500000  0.496930\n",
       "direct_report            0.823110  0.694159  0.730310\n",
       "food                     0.904315  0.801010  0.842709\n",
       "other_infrastructure     0.643311  0.501469  0.491193\n",
       "storm                    0.865190  0.709623  0.761369\n",
       "medical_help             0.749038  0.532727  0.541220\n",
       "medical_products         0.832292  0.535011  0.551979\n",
       "hospitals                0.494126  0.500000  0.497046\n",
       "money                    0.988315  0.521875  0.536005\n",
       "earthquake               0.928682  0.848064  0.883169\n",
       "security                 0.490385  0.499844  0.495069\n",
       "fire                     0.744429  0.506680  0.510319"
      ]
     },
     "execution_count": 13,
     "metadata": {},
     "output_type": "execute_result"
    }
   ],
   "source": [
    "test_model(Y_test, Y_pred, 'macro')"
   ]
  },
  {
   "cell_type": "code",
   "execution_count": 14,
   "metadata": {
    "collapsed": false,
    "jupyter": {
     "outputs_hidden": false
    },
    "pycharm": {
     "name": "#%%\n"
    }
   },
   "outputs": [
    {
     "name": "stderr",
     "output_type": "stream",
     "text": [
      "/opt/anaconda3/lib/python3.8/site-packages/sklearn/metrics/_classification.py:1221: UndefinedMetricWarning: Precision and F-score are ill-defined and being set to 0.0 in labels with no predicted samples. Use `zero_division` parameter to control this behavior.\n",
      "  _warn_prf(average, modifier, msg_start, len(result))\n"
     ]
    },
    {
     "data": {
      "text/html": [
       "<div>\n",
       "<style scoped>\n",
       "    .dataframe tbody tr th:only-of-type {\n",
       "        vertical-align: middle;\n",
       "    }\n",
       "\n",
       "    .dataframe tbody tr th {\n",
       "        vertical-align: top;\n",
       "    }\n",
       "\n",
       "    .dataframe thead th {\n",
       "        text-align: right;\n",
       "    }\n",
       "</style>\n",
       "<table border=\"1\" class=\"dataframe\">\n",
       "  <thead>\n",
       "    <tr style=\"text-align: right;\">\n",
       "      <th></th>\n",
       "      <th>precision</th>\n",
       "      <th>recall</th>\n",
       "      <th>f1-score</th>\n",
       "    </tr>\n",
       "  </thead>\n",
       "  <tbody>\n",
       "    <tr>\n",
       "      <th>count</th>\n",
       "      <td>36.000000</td>\n",
       "      <td>36.000000</td>\n",
       "      <td>36.000000</td>\n",
       "    </tr>\n",
       "    <tr>\n",
       "      <th>mean</th>\n",
       "      <td>0.753478</td>\n",
       "      <td>0.593247</td>\n",
       "      <td>0.606340</td>\n",
       "    </tr>\n",
       "    <tr>\n",
       "      <th>std</th>\n",
       "      <td>0.173968</td>\n",
       "      <td>0.129018</td>\n",
       "      <td>0.141211</td>\n",
       "    </tr>\n",
       "    <tr>\n",
       "      <th>min</th>\n",
       "      <td>0.485878</td>\n",
       "      <td>0.499686</td>\n",
       "      <td>0.484388</td>\n",
       "    </tr>\n",
       "    <tr>\n",
       "      <th>25%</th>\n",
       "      <td>0.588239</td>\n",
       "      <td>0.501318</td>\n",
       "      <td>0.498315</td>\n",
       "    </tr>\n",
       "    <tr>\n",
       "      <th>50%</th>\n",
       "      <td>0.803714</td>\n",
       "      <td>0.522596</td>\n",
       "      <td>0.533803</td>\n",
       "    </tr>\n",
       "    <tr>\n",
       "      <th>75%</th>\n",
       "      <td>0.891637</td>\n",
       "      <td>0.661022</td>\n",
       "      <td>0.719054</td>\n",
       "    </tr>\n",
       "    <tr>\n",
       "      <th>max</th>\n",
       "      <td>1.000000</td>\n",
       "      <td>1.000000</td>\n",
       "      <td>1.000000</td>\n",
       "    </tr>\n",
       "  </tbody>\n",
       "</table>\n",
       "</div>"
      ],
      "text/plain": [
       "       precision     recall   f1-score\n",
       "count  36.000000  36.000000  36.000000\n",
       "mean    0.753478   0.593247   0.606340\n",
       "std     0.173968   0.129018   0.141211\n",
       "min     0.485878   0.499686   0.484388\n",
       "25%     0.588239   0.501318   0.498315\n",
       "50%     0.803714   0.522596   0.533803\n",
       "75%     0.891637   0.661022   0.719054\n",
       "max     1.000000   1.000000   1.000000"
      ]
     },
     "execution_count": 14,
     "metadata": {},
     "output_type": "execute_result"
    }
   ],
   "source": [
    "test_model(Y_test, Y_pred, 'macro').describe()\n"
   ]
  },
  {
   "cell_type": "markdown",
   "metadata": {},
   "source": [
    "Average F1-score among all classes with using the first model is **60.6%** and each class scores span from 48.7% to 75.2%"
   ]
  },
  {
   "cell_type": "code",
   "execution_count": 15,
   "metadata": {
    "collapsed": false,
    "jupyter": {
     "outputs_hidden": false
    },
    "pycharm": {
     "name": "#%%\n"
    }
   },
   "outputs": [
    {
     "name": "stderr",
     "output_type": "stream",
     "text": [
      "/opt/anaconda3/lib/python3.8/site-packages/sklearn/metrics/_classification.py:1221: UndefinedMetricWarning: Precision and F-score are ill-defined and being set to 0.0 in labels with no predicted samples. Use `zero_division` parameter to control this behavior.\n",
      "  _warn_prf(average, modifier, msg_start, len(result))\n"
     ]
    },
    {
     "data": {
      "text/html": [
       "<div>\n",
       "<style scoped>\n",
       "    .dataframe tbody tr th:only-of-type {\n",
       "        vertical-align: middle;\n",
       "    }\n",
       "\n",
       "    .dataframe tbody tr th {\n",
       "        vertical-align: top;\n",
       "    }\n",
       "\n",
       "    .dataframe thead th {\n",
       "        text-align: right;\n",
       "    }\n",
       "</style>\n",
       "<table border=\"1\" class=\"dataframe\">\n",
       "  <thead>\n",
       "    <tr style=\"text-align: right;\">\n",
       "      <th></th>\n",
       "      <th>precision</th>\n",
       "      <th>recall</th>\n",
       "      <th>f1-score</th>\n",
       "    </tr>\n",
       "  </thead>\n",
       "  <tbody>\n",
       "    <tr>\n",
       "      <th>count</th>\n",
       "      <td>36.000000</td>\n",
       "      <td>36.000000</td>\n",
       "      <td>36.000000</td>\n",
       "    </tr>\n",
       "    <tr>\n",
       "      <th>mean</th>\n",
       "      <td>0.468180</td>\n",
       "      <td>0.509259</td>\n",
       "      <td>0.484769</td>\n",
       "    </tr>\n",
       "    <tr>\n",
       "      <th>std</th>\n",
       "      <td>0.119397</td>\n",
       "      <td>0.088591</td>\n",
       "      <td>0.109348</td>\n",
       "    </tr>\n",
       "    <tr>\n",
       "      <th>min</th>\n",
       "      <td>0.077713</td>\n",
       "      <td>0.333333</td>\n",
       "      <td>0.126041</td>\n",
       "    </tr>\n",
       "    <tr>\n",
       "      <th>25%</th>\n",
       "      <td>0.454970</td>\n",
       "      <td>0.500000</td>\n",
       "      <td>0.476423</td>\n",
       "    </tr>\n",
       "    <tr>\n",
       "      <th>50%</th>\n",
       "      <td>0.476274</td>\n",
       "      <td>0.500000</td>\n",
       "      <td>0.487849</td>\n",
       "    </tr>\n",
       "    <tr>\n",
       "      <th>75%</th>\n",
       "      <td>0.491189</td>\n",
       "      <td>0.500000</td>\n",
       "      <td>0.495555</td>\n",
       "    </tr>\n",
       "    <tr>\n",
       "      <th>max</th>\n",
       "      <td>1.000000</td>\n",
       "      <td>1.000000</td>\n",
       "      <td>1.000000</td>\n",
       "    </tr>\n",
       "  </tbody>\n",
       "</table>\n",
       "</div>"
      ],
      "text/plain": [
       "       precision     recall   f1-score\n",
       "count  36.000000  36.000000  36.000000\n",
       "mean    0.468180   0.509259   0.484769\n",
       "std     0.119397   0.088591   0.109348\n",
       "min     0.077713   0.333333   0.126041\n",
       "25%     0.454970   0.500000   0.476423\n",
       "50%     0.476274   0.500000   0.487849\n",
       "75%     0.491189   0.500000   0.495555\n",
       "max     1.000000   1.000000   1.000000"
      ]
     },
     "execution_count": 15,
     "metadata": {},
     "output_type": "execute_result"
    }
   ],
   "source": [
    "test_model(Y_test, np.zeros(Y_test.shape), 'macro').describe()#.boxplot()\n"
   ]
  },
  {
   "cell_type": "markdown",
   "metadata": {},
   "source": [
    "Had we calculated score with placing only zero class as predicted the F1-score is around **48.5%** with the span of 10.9% to 49.6%\n"
   ]
  },
  {
   "cell_type": "markdown",
   "metadata": {},
   "source": [
    "\n",
    "### 6. Improving model with GridSearch\n"
   ]
  },
  {
   "cell_type": "code",
   "execution_count": 17,
   "metadata": {
    "collapsed": false,
    "jupyter": {
     "outputs_hidden": false
    },
    "pycharm": {
     "name": "#%%\n"
    }
   },
   "outputs": [
    {
     "name": "stdout",
     "output_type": "stream",
     "text": [
      "Fitting 5 folds for each of 4 candidates, totalling 20 fits\n"
     ]
    },
    {
     "name": "stderr",
     "output_type": "stream",
     "text": [
      "[Parallel(n_jobs=1)]: Using backend SequentialBackend with 1 concurrent workers.\n",
      "/opt/anaconda3/lib/python3.8/site-packages/sklearn/metrics/_classification.py:1221: UndefinedMetricWarning: Precision and F-score are ill-defined and being set to 0.0 in labels with no predicted samples. Use `zero_division` parameter to control this behavior.\n",
      "  _warn_prf(average, modifier, msg_start, len(result))\n",
      "/opt/anaconda3/lib/python3.8/site-packages/sklearn/metrics/_classification.py:1221: UndefinedMetricWarning: Precision and F-score are ill-defined and being set to 0.0 in labels with no predicted samples. Use `zero_division` parameter to control this behavior.\n",
      "  _warn_prf(average, modifier, msg_start, len(result))\n",
      "/opt/anaconda3/lib/python3.8/site-packages/sklearn/metrics/_classification.py:1221: UndefinedMetricWarning: Precision and F-score are ill-defined and being set to 0.0 in labels with no predicted samples. Use `zero_division` parameter to control this behavior.\n",
      "  _warn_prf(average, modifier, msg_start, len(result))\n",
      "/opt/anaconda3/lib/python3.8/site-packages/sklearn/metrics/_classification.py:1221: UndefinedMetricWarning: Precision and F-score are ill-defined and being set to 0.0 in labels with no predicted samples. Use `zero_division` parameter to control this behavior.\n",
      "  _warn_prf(average, modifier, msg_start, len(result))\n",
      "/opt/anaconda3/lib/python3.8/site-packages/sklearn/metrics/_classification.py:1221: UndefinedMetricWarning: Precision and F-score are ill-defined and being set to 0.0 in labels with no predicted samples. Use `zero_division` parameter to control this behavior.\n",
      "  _warn_prf(average, modifier, msg_start, len(result))\n",
      "/opt/anaconda3/lib/python3.8/site-packages/sklearn/metrics/_classification.py:1221: UndefinedMetricWarning: Precision and F-score are ill-defined and being set to 0.0 in labels with no predicted samples. Use `zero_division` parameter to control this behavior.\n",
      "  _warn_prf(average, modifier, msg_start, len(result))\n",
      "/opt/anaconda3/lib/python3.8/site-packages/sklearn/metrics/_classification.py:1221: UndefinedMetricWarning: Precision and F-score are ill-defined and being set to 0.0 in labels with no predicted samples. Use `zero_division` parameter to control this behavior.\n",
      "  _warn_prf(average, modifier, msg_start, len(result))\n",
      "/opt/anaconda3/lib/python3.8/site-packages/sklearn/metrics/_classification.py:1221: UndefinedMetricWarning: Precision and F-score are ill-defined and being set to 0.0 in labels with no predicted samples. Use `zero_division` parameter to control this behavior.\n",
      "  _warn_prf(average, modifier, msg_start, len(result))\n",
      "/opt/anaconda3/lib/python3.8/site-packages/sklearn/metrics/_classification.py:1221: UndefinedMetricWarning: Precision and F-score are ill-defined and being set to 0.0 in labels with no predicted samples. Use `zero_division` parameter to control this behavior.\n",
      "  _warn_prf(average, modifier, msg_start, len(result))\n",
      "/opt/anaconda3/lib/python3.8/site-packages/sklearn/metrics/_classification.py:1221: UndefinedMetricWarning: Precision and F-score are ill-defined and being set to 0.0 in labels with no predicted samples. Use `zero_division` parameter to control this behavior.\n",
      "  _warn_prf(average, modifier, msg_start, len(result))\n",
      "/opt/anaconda3/lib/python3.8/site-packages/sklearn/metrics/_classification.py:1221: UndefinedMetricWarning: Precision and F-score are ill-defined and being set to 0.0 in labels with no predicted samples. Use `zero_division` parameter to control this behavior.\n",
      "  _warn_prf(average, modifier, msg_start, len(result))\n",
      "/opt/anaconda3/lib/python3.8/site-packages/sklearn/metrics/_classification.py:1221: UndefinedMetricWarning: Precision and F-score are ill-defined and being set to 0.0 in labels with no predicted samples. Use `zero_division` parameter to control this behavior.\n",
      "  _warn_prf(average, modifier, msg_start, len(result))\n",
      "/opt/anaconda3/lib/python3.8/site-packages/sklearn/metrics/_classification.py:1221: UndefinedMetricWarning: Precision and F-score are ill-defined and being set to 0.0 in labels with no predicted samples. Use `zero_division` parameter to control this behavior.\n",
      "  _warn_prf(average, modifier, msg_start, len(result))\n",
      "/opt/anaconda3/lib/python3.8/site-packages/sklearn/metrics/_classification.py:1221: UndefinedMetricWarning: Precision and F-score are ill-defined and being set to 0.0 in labels with no predicted samples. Use `zero_division` parameter to control this behavior.\n",
      "  _warn_prf(average, modifier, msg_start, len(result))\n",
      "/opt/anaconda3/lib/python3.8/site-packages/sklearn/metrics/_classification.py:1221: UndefinedMetricWarning: Precision and F-score are ill-defined and being set to 0.0 in labels with no predicted samples. Use `zero_division` parameter to control this behavior.\n",
      "  _warn_prf(average, modifier, msg_start, len(result))\n",
      "/opt/anaconda3/lib/python3.8/site-packages/sklearn/metrics/_classification.py:1221: UndefinedMetricWarning: Precision and F-score are ill-defined and being set to 0.0 in labels with no predicted samples. Use `zero_division` parameter to control this behavior.\n",
      "  _warn_prf(average, modifier, msg_start, len(result))\n",
      "/opt/anaconda3/lib/python3.8/site-packages/sklearn/metrics/_classification.py:1221: UndefinedMetricWarning: Precision and F-score are ill-defined and being set to 0.0 in labels with no predicted samples. Use `zero_division` parameter to control this behavior.\n",
      "  _warn_prf(average, modifier, msg_start, len(result))\n",
      "/opt/anaconda3/lib/python3.8/site-packages/sklearn/metrics/_classification.py:1221: UndefinedMetricWarning: Precision and F-score are ill-defined and being set to 0.0 in labels with no predicted samples. Use `zero_division` parameter to control this behavior.\n",
      "  _warn_prf(average, modifier, msg_start, len(result))\n",
      "/opt/anaconda3/lib/python3.8/site-packages/sklearn/metrics/_classification.py:1221: UndefinedMetricWarning: Precision and F-score are ill-defined and being set to 0.0 in labels with no predicted samples. Use `zero_division` parameter to control this behavior.\n",
      "  _warn_prf(average, modifier, msg_start, len(result))\n",
      "/opt/anaconda3/lib/python3.8/site-packages/sklearn/metrics/_classification.py:1221: UndefinedMetricWarning: Precision and F-score are ill-defined and being set to 0.0 in labels with no predicted samples. Use `zero_division` parameter to control this behavior.\n",
      "  _warn_prf(average, modifier, msg_start, len(result))\n",
      "[Parallel(n_jobs=1)]: Done  20 out of  20 | elapsed: 131.9min finished\n"
     ]
    },
    {
     "name": "stdout",
     "output_type": "stream",
     "text": [
      "time taken = 8193.915993213654s\n",
      "{'clf__estimator__class_weight': None, 'vect__ngram_range': (1, 1)}\n"
     ]
    }
   ],
   "source": [
    "start = time.time()\n",
    "\n",
    "# those paraemters did not bring improvement\n",
    "# parameters = {\n",
    "#     'vect__stop_words': ['english'],\n",
    "#     'vect__ngram_range': [(1,2), (1,3), (2,3)] \n",
    "# } \n",
    "\n",
    "parameters = {\n",
    "        'vect__ngram_range': [(1,1), (1,2)],\n",
    "        'clf__estimator__class_weight': [None,'balanced']\n",
    "    } \n",
    "\n",
    "cv = GridSearchCV(pipeline, param_grid=parameters, scoring=custom_loss, verbose=True)\n",
    "cv.fit(X_train, Y_train)\n",
    "end = time.time()\n",
    "\n",
    "print('time taken = {}s'.format(end - start))\n",
    "print(cv.best_params_)"
   ]
  },
  {
   "cell_type": "markdown",
   "metadata": {},
   "source": [
    "### 7. Testing improved model"
   ]
  },
  {
   "cell_type": "code",
   "execution_count": 19,
   "metadata": {
    "collapsed": false,
    "jupyter": {
     "outputs_hidden": false
    },
    "pycharm": {
     "name": "#%%\n"
    }
   },
   "outputs": [
    {
     "data": {
      "text/plain": [
       "{'clf__estimator__class_weight': None, 'vect__ngram_range': (1, 1)}"
      ]
     },
     "execution_count": 19,
     "metadata": {},
     "output_type": "execute_result"
    }
   ],
   "source": [
    "Y_pred_CV = cv.predict(X_test)\n",
    "cv.best_params_\n"
   ]
  },
  {
   "cell_type": "code",
   "execution_count": 20,
   "metadata": {},
   "outputs": [
    {
     "name": "stderr",
     "output_type": "stream",
     "text": [
      "/opt/anaconda3/lib/python3.8/site-packages/sklearn/metrics/_classification.py:1221: UndefinedMetricWarning: Precision and F-score are ill-defined and being set to 0.0 in labels with no predicted samples. Use `zero_division` parameter to control this behavior.\n",
      "  _warn_prf(average, modifier, msg_start, len(result))\n"
     ]
    },
    {
     "data": {
      "text/html": [
       "<div>\n",
       "<style scoped>\n",
       "    .dataframe tbody tr th:only-of-type {\n",
       "        vertical-align: middle;\n",
       "    }\n",
       "\n",
       "    .dataframe tbody tr th {\n",
       "        vertical-align: top;\n",
       "    }\n",
       "\n",
       "    .dataframe thead th {\n",
       "        text-align: right;\n",
       "    }\n",
       "</style>\n",
       "<table border=\"1\" class=\"dataframe\">\n",
       "  <thead>\n",
       "    <tr style=\"text-align: right;\">\n",
       "      <th></th>\n",
       "      <th>precision</th>\n",
       "      <th>recall</th>\n",
       "      <th>f1-score</th>\n",
       "    </tr>\n",
       "  </thead>\n",
       "  <tbody>\n",
       "    <tr>\n",
       "      <th>shops</th>\n",
       "      <td>0.497788</td>\n",
       "      <td>0.500000</td>\n",
       "      <td>0.498891</td>\n",
       "    </tr>\n",
       "    <tr>\n",
       "      <th>request</th>\n",
       "      <td>0.871084</td>\n",
       "      <td>0.739988</td>\n",
       "      <td>0.782916</td>\n",
       "    </tr>\n",
       "    <tr>\n",
       "      <th>electricity</th>\n",
       "      <td>0.990844</td>\n",
       "      <td>0.504132</td>\n",
       "      <td>0.503576</td>\n",
       "    </tr>\n",
       "    <tr>\n",
       "      <th>child_alone</th>\n",
       "      <td>1.000000</td>\n",
       "      <td>1.000000</td>\n",
       "      <td>1.000000</td>\n",
       "    </tr>\n",
       "    <tr>\n",
       "      <th>water</th>\n",
       "      <td>0.940675</td>\n",
       "      <td>0.680958</td>\n",
       "      <td>0.749439</td>\n",
       "    </tr>\n",
       "    <tr>\n",
       "      <th>offer</th>\n",
       "      <td>0.497788</td>\n",
       "      <td>0.500000</td>\n",
       "      <td>0.498891</td>\n",
       "    </tr>\n",
       "    <tr>\n",
       "      <th>missing_people</th>\n",
       "      <td>0.494355</td>\n",
       "      <td>0.500000</td>\n",
       "      <td>0.497161</td>\n",
       "    </tr>\n",
       "    <tr>\n",
       "      <th>tools</th>\n",
       "      <td>0.497406</td>\n",
       "      <td>0.500000</td>\n",
       "      <td>0.498700</td>\n",
       "    </tr>\n",
       "    <tr>\n",
       "      <th>search_and_rescue</th>\n",
       "      <td>0.843396</td>\n",
       "      <td>0.513357</td>\n",
       "      <td>0.518996</td>\n",
       "    </tr>\n",
       "    <tr>\n",
       "      <th>cold</th>\n",
       "      <td>0.955188</td>\n",
       "      <td>0.549165</td>\n",
       "      <td>0.584412</td>\n",
       "    </tr>\n",
       "    <tr>\n",
       "      <th>weather_related</th>\n",
       "      <td>0.867302</td>\n",
       "      <td>0.829825</td>\n",
       "      <td>0.845645</td>\n",
       "    </tr>\n",
       "    <tr>\n",
       "      <th>buildings</th>\n",
       "      <td>0.877287</td>\n",
       "      <td>0.569005</td>\n",
       "      <td>0.607025</td>\n",
       "    </tr>\n",
       "    <tr>\n",
       "      <th>clothing</th>\n",
       "      <td>0.859938</td>\n",
       "      <td>0.555246</td>\n",
       "      <td>0.592951</td>\n",
       "    </tr>\n",
       "    <tr>\n",
       "      <th>transport</th>\n",
       "      <td>0.831327</td>\n",
       "      <td>0.544419</td>\n",
       "      <td>0.569609</td>\n",
       "    </tr>\n",
       "    <tr>\n",
       "      <th>infrastructure_related</th>\n",
       "      <td>0.715878</td>\n",
       "      <td>0.502063</td>\n",
       "      <td>0.486675</td>\n",
       "    </tr>\n",
       "    <tr>\n",
       "      <th>related</th>\n",
       "      <td>0.600315</td>\n",
       "      <td>0.596599</td>\n",
       "      <td>0.577894</td>\n",
       "    </tr>\n",
       "    <tr>\n",
       "      <th>floods</th>\n",
       "      <td>0.933278</td>\n",
       "      <td>0.737176</td>\n",
       "      <td>0.801360</td>\n",
       "    </tr>\n",
       "    <tr>\n",
       "      <th>death</th>\n",
       "      <td>0.898788</td>\n",
       "      <td>0.611576</td>\n",
       "      <td>0.667349</td>\n",
       "    </tr>\n",
       "    <tr>\n",
       "      <th>other_aid</th>\n",
       "      <td>0.760783</td>\n",
       "      <td>0.515636</td>\n",
       "      <td>0.496853</td>\n",
       "    </tr>\n",
       "    <tr>\n",
       "      <th>shelter</th>\n",
       "      <td>0.873704</td>\n",
       "      <td>0.688418</td>\n",
       "      <td>0.743923</td>\n",
       "    </tr>\n",
       "    <tr>\n",
       "      <th>military</th>\n",
       "      <td>0.807863</td>\n",
       "      <td>0.546303</td>\n",
       "      <td>0.574415</td>\n",
       "    </tr>\n",
       "    <tr>\n",
       "      <th>aid_related</th>\n",
       "      <td>0.781351</td>\n",
       "      <td>0.772014</td>\n",
       "      <td>0.775123</td>\n",
       "    </tr>\n",
       "    <tr>\n",
       "      <th>refugees</th>\n",
       "      <td>0.757801</td>\n",
       "      <td>0.528198</td>\n",
       "      <td>0.544443</td>\n",
       "    </tr>\n",
       "    <tr>\n",
       "      <th>other_weather</th>\n",
       "      <td>0.683265</td>\n",
       "      <td>0.506945</td>\n",
       "      <td>0.501369</td>\n",
       "    </tr>\n",
       "    <tr>\n",
       "      <th>aid_centers</th>\n",
       "      <td>0.493897</td>\n",
       "      <td>0.500000</td>\n",
       "      <td>0.496930</td>\n",
       "    </tr>\n",
       "    <tr>\n",
       "      <th>direct_report</th>\n",
       "      <td>0.834593</td>\n",
       "      <td>0.673626</td>\n",
       "      <td>0.711188</td>\n",
       "    </tr>\n",
       "    <tr>\n",
       "      <th>food</th>\n",
       "      <td>0.908107</td>\n",
       "      <td>0.810684</td>\n",
       "      <td>0.850699</td>\n",
       "    </tr>\n",
       "    <tr>\n",
       "      <th>other_infrastructure</th>\n",
       "      <td>0.726718</td>\n",
       "      <td>0.503097</td>\n",
       "      <td>0.494436</td>\n",
       "    </tr>\n",
       "    <tr>\n",
       "      <th>storm</th>\n",
       "      <td>0.861361</td>\n",
       "      <td>0.773186</td>\n",
       "      <td>0.809523</td>\n",
       "    </tr>\n",
       "    <tr>\n",
       "      <th>medical_help</th>\n",
       "      <td>0.774894</td>\n",
       "      <td>0.536666</td>\n",
       "      <td>0.547964</td>\n",
       "    </tr>\n",
       "    <tr>\n",
       "      <th>medical_products</th>\n",
       "      <td>0.820668</td>\n",
       "      <td>0.540500</td>\n",
       "      <td>0.561076</td>\n",
       "    </tr>\n",
       "    <tr>\n",
       "      <th>hospitals</th>\n",
       "      <td>0.494126</td>\n",
       "      <td>0.500000</td>\n",
       "      <td>0.497046</td>\n",
       "    </tr>\n",
       "    <tr>\n",
       "      <th>money</th>\n",
       "      <td>0.988315</td>\n",
       "      <td>0.521875</td>\n",
       "      <td>0.536005</td>\n",
       "    </tr>\n",
       "    <tr>\n",
       "      <th>earthquake</th>\n",
       "      <td>0.928992</td>\n",
       "      <td>0.899653</td>\n",
       "      <td>0.913668</td>\n",
       "    </tr>\n",
       "    <tr>\n",
       "      <th>security</th>\n",
       "      <td>0.490382</td>\n",
       "      <td>0.499689</td>\n",
       "      <td>0.494992</td>\n",
       "    </tr>\n",
       "    <tr>\n",
       "      <th>fire</th>\n",
       "      <td>0.744429</td>\n",
       "      <td>0.506680</td>\n",
       "      <td>0.510319</td>\n",
       "    </tr>\n",
       "  </tbody>\n",
       "</table>\n",
       "</div>"
      ],
      "text/plain": [
       "                        precision    recall  f1-score\n",
       "shops                    0.497788  0.500000  0.498891\n",
       "request                  0.871084  0.739988  0.782916\n",
       "electricity              0.990844  0.504132  0.503576\n",
       "child_alone              1.000000  1.000000  1.000000\n",
       "water                    0.940675  0.680958  0.749439\n",
       "offer                    0.497788  0.500000  0.498891\n",
       "missing_people           0.494355  0.500000  0.497161\n",
       "tools                    0.497406  0.500000  0.498700\n",
       "search_and_rescue        0.843396  0.513357  0.518996\n",
       "cold                     0.955188  0.549165  0.584412\n",
       "weather_related          0.867302  0.829825  0.845645\n",
       "buildings                0.877287  0.569005  0.607025\n",
       "clothing                 0.859938  0.555246  0.592951\n",
       "transport                0.831327  0.544419  0.569609\n",
       "infrastructure_related   0.715878  0.502063  0.486675\n",
       "related                  0.600315  0.596599  0.577894\n",
       "floods                   0.933278  0.737176  0.801360\n",
       "death                    0.898788  0.611576  0.667349\n",
       "other_aid                0.760783  0.515636  0.496853\n",
       "shelter                  0.873704  0.688418  0.743923\n",
       "military                 0.807863  0.546303  0.574415\n",
       "aid_related              0.781351  0.772014  0.775123\n",
       "refugees                 0.757801  0.528198  0.544443\n",
       "other_weather            0.683265  0.506945  0.501369\n",
       "aid_centers              0.493897  0.500000  0.496930\n",
       "direct_report            0.834593  0.673626  0.711188\n",
       "food                     0.908107  0.810684  0.850699\n",
       "other_infrastructure     0.726718  0.503097  0.494436\n",
       "storm                    0.861361  0.773186  0.809523\n",
       "medical_help             0.774894  0.536666  0.547964\n",
       "medical_products         0.820668  0.540500  0.561076\n",
       "hospitals                0.494126  0.500000  0.497046\n",
       "money                    0.988315  0.521875  0.536005\n",
       "earthquake               0.928992  0.899653  0.913668\n",
       "security                 0.490382  0.499689  0.494992\n",
       "fire                     0.744429  0.506680  0.510319"
      ]
     },
     "execution_count": 20,
     "metadata": {},
     "output_type": "execute_result"
    }
   ],
   "source": [
    "test_model(Y_test, Y_pred_CV, 'macro')"
   ]
  },
  {
   "cell_type": "code",
   "execution_count": 21,
   "metadata": {
    "collapsed": false,
    "jupyter": {
     "outputs_hidden": false
    },
    "pycharm": {
     "name": "#%%\n"
    }
   },
   "outputs": [
    {
     "name": "stderr",
     "output_type": "stream",
     "text": [
      "/opt/anaconda3/lib/python3.8/site-packages/sklearn/metrics/_classification.py:1221: UndefinedMetricWarning: Precision and F-score are ill-defined and being set to 0.0 in labels with no predicted samples. Use `zero_division` parameter to control this behavior.\n",
      "  _warn_prf(average, modifier, msg_start, len(result))\n"
     ]
    },
    {
     "data": {
      "text/html": [
       "<div>\n",
       "<style scoped>\n",
       "    .dataframe tbody tr th:only-of-type {\n",
       "        vertical-align: middle;\n",
       "    }\n",
       "\n",
       "    .dataframe tbody tr th {\n",
       "        vertical-align: top;\n",
       "    }\n",
       "\n",
       "    .dataframe thead th {\n",
       "        text-align: right;\n",
       "    }\n",
       "</style>\n",
       "<table border=\"1\" class=\"dataframe\">\n",
       "  <thead>\n",
       "    <tr style=\"text-align: right;\">\n",
       "      <th></th>\n",
       "      <th>precision</th>\n",
       "      <th>recall</th>\n",
       "      <th>f1-score</th>\n",
       "    </tr>\n",
       "  </thead>\n",
       "  <tbody>\n",
       "    <tr>\n",
       "      <th>count</th>\n",
       "      <td>36.000000</td>\n",
       "      <td>36.000000</td>\n",
       "      <td>36.000000</td>\n",
       "    </tr>\n",
       "    <tr>\n",
       "      <th>mean</th>\n",
       "      <td>0.775108</td>\n",
       "      <td>0.604352</td>\n",
       "      <td>0.620596</td>\n",
       "    </tr>\n",
       "    <tr>\n",
       "      <th>std</th>\n",
       "      <td>0.164429</td>\n",
       "      <td>0.133610</td>\n",
       "      <td>0.144462</td>\n",
       "    </tr>\n",
       "    <tr>\n",
       "      <th>min</th>\n",
       "      <td>0.490382</td>\n",
       "      <td>0.499689</td>\n",
       "      <td>0.486675</td>\n",
       "    </tr>\n",
       "    <tr>\n",
       "      <th>25%</th>\n",
       "      <td>0.707725</td>\n",
       "      <td>0.503873</td>\n",
       "      <td>0.498891</td>\n",
       "    </tr>\n",
       "    <tr>\n",
       "      <th>50%</th>\n",
       "      <td>0.825997</td>\n",
       "      <td>0.542459</td>\n",
       "      <td>0.565342</td>\n",
       "    </tr>\n",
       "    <tr>\n",
       "      <th>75%</th>\n",
       "      <td>0.882662</td>\n",
       "      <td>0.682823</td>\n",
       "      <td>0.745302</td>\n",
       "    </tr>\n",
       "    <tr>\n",
       "      <th>max</th>\n",
       "      <td>1.000000</td>\n",
       "      <td>1.000000</td>\n",
       "      <td>1.000000</td>\n",
       "    </tr>\n",
       "  </tbody>\n",
       "</table>\n",
       "</div>"
      ],
      "text/plain": [
       "       precision     recall   f1-score\n",
       "count  36.000000  36.000000  36.000000\n",
       "mean    0.775108   0.604352   0.620596\n",
       "std     0.164429   0.133610   0.144462\n",
       "min     0.490382   0.499689   0.486675\n",
       "25%     0.707725   0.503873   0.498891\n",
       "50%     0.825997   0.542459   0.565342\n",
       "75%     0.882662   0.682823   0.745302\n",
       "max     1.000000   1.000000   1.000000"
      ]
     },
     "execution_count": 21,
     "metadata": {},
     "output_type": "execute_result"
    }
   ],
   "source": [
    "test_model(Y_test, Y_pred_CV, 'macro').describe()"
   ]
  },
  {
   "cell_type": "code",
   "execution_count": 22,
   "metadata": {
    "collapsed": false,
    "jupyter": {
     "outputs_hidden": false
    },
    "pycharm": {
     "name": "#%%\n"
    }
   },
   "outputs": [
    {
     "data": {
      "text/plain": [
       "{'mean_fit_time': array([199.282586  , 447.72332702, 232.25124688, 659.60427208]),\n",
       " 'std_fit_time': array([ 1.3025753 , 10.26836782,  2.58325328, 52.39909901]),\n",
       " 'mean_score_time': array([ 9.90824642, 15.22063718,  7.63748269, 10.88952551]),\n",
       " 'std_score_time': array([0.18034635, 0.30755399, 0.06285847, 0.51306744]),\n",
       " 'param_clf__estimator__class_weight': masked_array(data=[None, None, 'balanced', 'balanced'],\n",
       "              mask=[False, False, False, False],\n",
       "        fill_value='?',\n",
       "             dtype=object),\n",
       " 'param_vect__ngram_range': masked_array(data=[(1, 1), (1, 2), (1, 1), (1, 2)],\n",
       "              mask=[False, False, False, False],\n",
       "        fill_value='?',\n",
       "             dtype=object),\n",
       " 'params': [{'clf__estimator__class_weight': None,\n",
       "   'vect__ngram_range': (1, 1)},\n",
       "  {'clf__estimator__class_weight': None, 'vect__ngram_range': (1, 2)},\n",
       "  {'clf__estimator__class_weight': 'balanced', 'vect__ngram_range': (1, 1)},\n",
       "  {'clf__estimator__class_weight': 'balanced', 'vect__ngram_range': (1, 2)}],\n",
       " 'split0_test_score': array([0.61193306, 0.60387661, 0.5959065 , 0.5797224 ]),\n",
       " 'split1_test_score': array([0.61373157, 0.60819997, 0.60098426, 0.5816378 ]),\n",
       " 'split2_test_score': array([0.61553022, 0.60785672, 0.60038404, 0.57930831]),\n",
       " 'split3_test_score': array([0.61483582, 0.609106  , 0.59898061, 0.58132818]),\n",
       " 'split4_test_score': array([0.62080007, 0.60889125, 0.60326873, 0.58468596]),\n",
       " 'mean_test_score': array([0.61536615, 0.60758611, 0.59990483, 0.58133653]),\n",
       " 'std_test_score': array([0.00297636, 0.00190913, 0.00243111, 0.00189887]),\n",
       " 'rank_test_score': array([1, 2, 3, 4], dtype=int32)}"
      ]
     },
     "execution_count": 22,
     "metadata": {},
     "output_type": "execute_result"
    }
   ],
   "source": [
    "cv.cv_results_"
   ]
  },
  {
   "cell_type": "markdown",
   "metadata": {},
   "source": [
    "Improved model reaches f1-score = **62.0%** with particular scores ranging from 48.7% to 100.0%."
   ]
  },
  {
   "cell_type": "markdown",
   "metadata": {},
   "source": [
    "### 8. Other algorithms\n",
    "- Testing Support Vector Machine and Naive Bayes instead of Random Forest\n"
   ]
  },
  {
   "cell_type": "markdown",
   "metadata": {},
   "source": [
    "#### 8.1 Other ML algorithms"
   ]
  },
  {
   "cell_type": "markdown",
   "metadata": {},
   "source": [
    "##### SVM\n",
    "\n",
    "-- long training time, no particular gain"
   ]
  },
  {
   "cell_type": "code",
   "execution_count": null,
   "metadata": {
    "collapsed": false,
    "jupyter": {
     "outputs_hidden": false
    },
    "pycharm": {
     "name": "#%%\n"
    }
   },
   "outputs": [],
   "source": [
    "# pipeline_SVM = Pipeline([\n",
    "#                 ('vect', CountVectorizer(tokenizer=tokenize)),\n",
    "#                 ('tfidf', TfidfTransformer()),\n",
    "#                 ('scaler',StandardScaler(with_mean=False)),\n",
    "#                 ('svm', MultiOutputClassifier(svm.SVC()))\n",
    "#             ])"
   ]
  },
  {
   "cell_type": "code",
   "execution_count": null,
   "metadata": {
    "collapsed": false,
    "jupyter": {
     "outputs_hidden": false
    },
    "pycharm": {
     "name": "#%%\n"
    }
   },
   "outputs": [],
   "source": [
    "# pipeline_SVM.fit(X_train, Y_train)\n"
   ]
  },
  {
   "cell_type": "code",
   "execution_count": null,
   "metadata": {
    "collapsed": false,
    "jupyter": {
     "outputs_hidden": false
    },
    "pycharm": {
     "name": "#%%\n"
    }
   },
   "outputs": [],
   "source": [
    "# Y_pred_SVM = pipeline_SVM.predict(X_test)\n"
   ]
  },
  {
   "cell_type": "code",
   "execution_count": null,
   "metadata": {
    "collapsed": false,
    "jupyter": {
     "outputs_hidden": false
    },
    "pycharm": {
     "name": "#%%\n"
    }
   },
   "outputs": [],
   "source": [
    "# test_model(Y_test, Y_pred_SVM, 'macro').describe()"
   ]
  },
  {
   "cell_type": "markdown",
   "metadata": {},
   "source": [
    "#### Naive Bayes"
   ]
  },
  {
   "cell_type": "code",
   "execution_count": 24,
   "metadata": {
    "collapsed": false,
    "jupyter": {
     "outputs_hidden": false
    },
    "pycharm": {
     "name": "#%%\n"
    }
   },
   "outputs": [
    {
     "data": {
      "text/plain": [
       "Pipeline(steps=[('vect',\n",
       "                 CountVectorizer(tokenizer=<function tokenize at 0x7f8be8932700>)),\n",
       "                ('tfidf', TfidfTransformer()),\n",
       "                ('NB', MultiOutputClassifier(estimator=MultinomialNB()))])"
      ]
     },
     "execution_count": 24,
     "metadata": {},
     "output_type": "execute_result"
    }
   ],
   "source": [
    "pipeline_NB = Pipeline([\n",
    "                ('vect', CountVectorizer(tokenizer=tokenize)),\n",
    "                ('tfidf', TfidfTransformer()),\n",
    "                ('NB', MultiOutputClassifier(MultinomialNB()))\n",
    "            ])\n",
    "pipeline_NB.fit(X_train, Y_train)"
   ]
  },
  {
   "cell_type": "code",
   "execution_count": 25,
   "metadata": {
    "collapsed": false,
    "jupyter": {
     "outputs_hidden": false
    },
    "pycharm": {
     "name": "#%%\n"
    }
   },
   "outputs": [],
   "source": [
    "Y_pred_NB = pipeline_NB.predict(X_test)\n"
   ]
  },
  {
   "cell_type": "code",
   "execution_count": 26,
   "metadata": {},
   "outputs": [
    {
     "name": "stderr",
     "output_type": "stream",
     "text": [
      "/opt/anaconda3/lib/python3.8/site-packages/sklearn/metrics/_classification.py:1221: UndefinedMetricWarning: Precision and F-score are ill-defined and being set to 0.0 in labels with no predicted samples. Use `zero_division` parameter to control this behavior.\n",
      "  _warn_prf(average, modifier, msg_start, len(result))\n"
     ]
    },
    {
     "data": {
      "text/html": [
       "<div>\n",
       "<style scoped>\n",
       "    .dataframe tbody tr th:only-of-type {\n",
       "        vertical-align: middle;\n",
       "    }\n",
       "\n",
       "    .dataframe tbody tr th {\n",
       "        vertical-align: top;\n",
       "    }\n",
       "\n",
       "    .dataframe thead th {\n",
       "        text-align: right;\n",
       "    }\n",
       "</style>\n",
       "<table border=\"1\" class=\"dataframe\">\n",
       "  <thead>\n",
       "    <tr style=\"text-align: right;\">\n",
       "      <th></th>\n",
       "      <th>precision</th>\n",
       "      <th>recall</th>\n",
       "      <th>f1-score</th>\n",
       "    </tr>\n",
       "  </thead>\n",
       "  <tbody>\n",
       "    <tr>\n",
       "      <th>shops</th>\n",
       "      <td>0.497788</td>\n",
       "      <td>0.500000</td>\n",
       "      <td>0.498891</td>\n",
       "    </tr>\n",
       "    <tr>\n",
       "      <th>request</th>\n",
       "      <td>0.848100</td>\n",
       "      <td>0.606935</td>\n",
       "      <td>0.634925</td>\n",
       "    </tr>\n",
       "    <tr>\n",
       "      <th>electricity</th>\n",
       "      <td>0.490769</td>\n",
       "      <td>0.500000</td>\n",
       "      <td>0.495341</td>\n",
       "    </tr>\n",
       "    <tr>\n",
       "      <th>child_alone</th>\n",
       "      <td>1.000000</td>\n",
       "      <td>1.000000</td>\n",
       "      <td>1.000000</td>\n",
       "    </tr>\n",
       "    <tr>\n",
       "      <th>water</th>\n",
       "      <td>0.466046</td>\n",
       "      <td>0.499918</td>\n",
       "      <td>0.482388</td>\n",
       "    </tr>\n",
       "    <tr>\n",
       "      <th>offer</th>\n",
       "      <td>0.497788</td>\n",
       "      <td>0.500000</td>\n",
       "      <td>0.498891</td>\n",
       "    </tr>\n",
       "    <tr>\n",
       "      <th>missing_people</th>\n",
       "      <td>0.494355</td>\n",
       "      <td>0.500000</td>\n",
       "      <td>0.497161</td>\n",
       "    </tr>\n",
       "    <tr>\n",
       "      <th>tools</th>\n",
       "      <td>0.497406</td>\n",
       "      <td>0.500000</td>\n",
       "      <td>0.498700</td>\n",
       "    </tr>\n",
       "    <tr>\n",
       "      <th>search_and_rescue</th>\n",
       "      <td>0.485886</td>\n",
       "      <td>0.500000</td>\n",
       "      <td>0.492842</td>\n",
       "    </tr>\n",
       "    <tr>\n",
       "      <th>cold</th>\n",
       "      <td>0.489930</td>\n",
       "      <td>0.500000</td>\n",
       "      <td>0.494914</td>\n",
       "    </tr>\n",
       "    <tr>\n",
       "      <th>weather_related</th>\n",
       "      <td>0.819047</td>\n",
       "      <td>0.689481</td>\n",
       "      <td>0.716398</td>\n",
       "    </tr>\n",
       "    <tr>\n",
       "      <th>buildings</th>\n",
       "      <td>0.473833</td>\n",
       "      <td>0.500000</td>\n",
       "      <td>0.486565</td>\n",
       "    </tr>\n",
       "    <tr>\n",
       "      <th>clothing</th>\n",
       "      <td>0.492447</td>\n",
       "      <td>0.500000</td>\n",
       "      <td>0.496195</td>\n",
       "    </tr>\n",
       "    <tr>\n",
       "      <th>transport</th>\n",
       "      <td>0.478105</td>\n",
       "      <td>0.500000</td>\n",
       "      <td>0.488807</td>\n",
       "    </tr>\n",
       "    <tr>\n",
       "      <th>infrastructure_related</th>\n",
       "      <td>0.465741</td>\n",
       "      <td>0.499918</td>\n",
       "      <td>0.482225</td>\n",
       "    </tr>\n",
       "    <tr>\n",
       "      <th>related</th>\n",
       "      <td>0.526994</td>\n",
       "      <td>0.364349</td>\n",
       "      <td>0.349645</td>\n",
       "    </tr>\n",
       "    <tr>\n",
       "      <th>floods</th>\n",
       "      <td>0.625967</td>\n",
       "      <td>0.501537</td>\n",
       "      <td>0.482331</td>\n",
       "    </tr>\n",
       "    <tr>\n",
       "      <th>death</th>\n",
       "      <td>0.475969</td>\n",
       "      <td>0.500000</td>\n",
       "      <td>0.487689</td>\n",
       "    </tr>\n",
       "    <tr>\n",
       "      <th>other_aid</th>\n",
       "      <td>0.432824</td>\n",
       "      <td>0.499648</td>\n",
       "      <td>0.463842</td>\n",
       "    </tr>\n",
       "    <tr>\n",
       "      <th>shelter</th>\n",
       "      <td>0.705205</td>\n",
       "      <td>0.500767</td>\n",
       "      <td>0.478209</td>\n",
       "    </tr>\n",
       "    <tr>\n",
       "      <th>military</th>\n",
       "      <td>0.483827</td>\n",
       "      <td>0.500000</td>\n",
       "      <td>0.491780</td>\n",
       "    </tr>\n",
       "    <tr>\n",
       "      <th>aid_related</th>\n",
       "      <td>0.751126</td>\n",
       "      <td>0.735155</td>\n",
       "      <td>0.738902</td>\n",
       "    </tr>\n",
       "    <tr>\n",
       "      <th>refugees</th>\n",
       "      <td>0.484208</td>\n",
       "      <td>0.500000</td>\n",
       "      <td>0.491977</td>\n",
       "    </tr>\n",
       "    <tr>\n",
       "      <th>other_weather</th>\n",
       "      <td>0.474592</td>\n",
       "      <td>0.499920</td>\n",
       "      <td>0.486927</td>\n",
       "    </tr>\n",
       "    <tr>\n",
       "      <th>aid_centers</th>\n",
       "      <td>0.493897</td>\n",
       "      <td>0.500000</td>\n",
       "      <td>0.496930</td>\n",
       "    </tr>\n",
       "    <tr>\n",
       "      <th>direct_report</th>\n",
       "      <td>0.790350</td>\n",
       "      <td>0.573869</td>\n",
       "      <td>0.581536</td>\n",
       "    </tr>\n",
       "    <tr>\n",
       "      <th>food</th>\n",
       "      <td>0.797339</td>\n",
       "      <td>0.516864</td>\n",
       "      <td>0.504930</td>\n",
       "    </tr>\n",
       "    <tr>\n",
       "      <th>other_infrastructure</th>\n",
       "      <td>0.476576</td>\n",
       "      <td>0.499920</td>\n",
       "      <td>0.487969</td>\n",
       "    </tr>\n",
       "    <tr>\n",
       "      <th>storm</th>\n",
       "      <td>0.811473</td>\n",
       "      <td>0.503978</td>\n",
       "      <td>0.484193</td>\n",
       "    </tr>\n",
       "    <tr>\n",
       "      <th>medical_help</th>\n",
       "      <td>0.458645</td>\n",
       "      <td>0.499917</td>\n",
       "      <td>0.478392</td>\n",
       "    </tr>\n",
       "    <tr>\n",
       "      <th>medical_products</th>\n",
       "      <td>0.473375</td>\n",
       "      <td>0.500000</td>\n",
       "      <td>0.486323</td>\n",
       "    </tr>\n",
       "    <tr>\n",
       "      <th>hospitals</th>\n",
       "      <td>0.494126</td>\n",
       "      <td>0.500000</td>\n",
       "      <td>0.497046</td>\n",
       "    </tr>\n",
       "    <tr>\n",
       "      <th>money</th>\n",
       "      <td>0.487794</td>\n",
       "      <td>0.500000</td>\n",
       "      <td>0.493821</td>\n",
       "    </tr>\n",
       "    <tr>\n",
       "      <th>earthquake</th>\n",
       "      <td>0.909454</td>\n",
       "      <td>0.566246</td>\n",
       "      <td>0.595446</td>\n",
       "    </tr>\n",
       "    <tr>\n",
       "      <th>security</th>\n",
       "      <td>0.490388</td>\n",
       "      <td>0.500000</td>\n",
       "      <td>0.495147</td>\n",
       "    </tr>\n",
       "    <tr>\n",
       "      <th>fire</th>\n",
       "      <td>0.494355</td>\n",
       "      <td>0.500000</td>\n",
       "      <td>0.497161</td>\n",
       "    </tr>\n",
       "  </tbody>\n",
       "</table>\n",
       "</div>"
      ],
      "text/plain": [
       "                        precision    recall  f1-score\n",
       "shops                    0.497788  0.500000  0.498891\n",
       "request                  0.848100  0.606935  0.634925\n",
       "electricity              0.490769  0.500000  0.495341\n",
       "child_alone              1.000000  1.000000  1.000000\n",
       "water                    0.466046  0.499918  0.482388\n",
       "offer                    0.497788  0.500000  0.498891\n",
       "missing_people           0.494355  0.500000  0.497161\n",
       "tools                    0.497406  0.500000  0.498700\n",
       "search_and_rescue        0.485886  0.500000  0.492842\n",
       "cold                     0.489930  0.500000  0.494914\n",
       "weather_related          0.819047  0.689481  0.716398\n",
       "buildings                0.473833  0.500000  0.486565\n",
       "clothing                 0.492447  0.500000  0.496195\n",
       "transport                0.478105  0.500000  0.488807\n",
       "infrastructure_related   0.465741  0.499918  0.482225\n",
       "related                  0.526994  0.364349  0.349645\n",
       "floods                   0.625967  0.501537  0.482331\n",
       "death                    0.475969  0.500000  0.487689\n",
       "other_aid                0.432824  0.499648  0.463842\n",
       "shelter                  0.705205  0.500767  0.478209\n",
       "military                 0.483827  0.500000  0.491780\n",
       "aid_related              0.751126  0.735155  0.738902\n",
       "refugees                 0.484208  0.500000  0.491977\n",
       "other_weather            0.474592  0.499920  0.486927\n",
       "aid_centers              0.493897  0.500000  0.496930\n",
       "direct_report            0.790350  0.573869  0.581536\n",
       "food                     0.797339  0.516864  0.504930\n",
       "other_infrastructure     0.476576  0.499920  0.487969\n",
       "storm                    0.811473  0.503978  0.484193\n",
       "medical_help             0.458645  0.499917  0.478392\n",
       "medical_products         0.473375  0.500000  0.486323\n",
       "hospitals                0.494126  0.500000  0.497046\n",
       "money                    0.487794  0.500000  0.493821\n",
       "earthquake               0.909454  0.566246  0.595446\n",
       "security                 0.490388  0.500000  0.495147\n",
       "fire                     0.494355  0.500000  0.497161"
      ]
     },
     "execution_count": 26,
     "metadata": {},
     "output_type": "execute_result"
    }
   ],
   "source": [
    "test_model(Y_test, Y_pred_NB, 'macro')"
   ]
  },
  {
   "cell_type": "code",
   "execution_count": 27,
   "metadata": {
    "collapsed": false,
    "jupyter": {
     "outputs_hidden": false
    },
    "pycharm": {
     "name": "#%%\n"
    }
   },
   "outputs": [
    {
     "name": "stderr",
     "output_type": "stream",
     "text": [
      "/opt/anaconda3/lib/python3.8/site-packages/sklearn/metrics/_classification.py:1221: UndefinedMetricWarning: Precision and F-score are ill-defined and being set to 0.0 in labels with no predicted samples. Use `zero_division` parameter to control this behavior.\n",
      "  _warn_prf(average, modifier, msg_start, len(result))\n"
     ]
    },
    {
     "data": {
      "text/html": [
       "<div>\n",
       "<style scoped>\n",
       "    .dataframe tbody tr th:only-of-type {\n",
       "        vertical-align: middle;\n",
       "    }\n",
       "\n",
       "    .dataframe tbody tr th {\n",
       "        vertical-align: top;\n",
       "    }\n",
       "\n",
       "    .dataframe thead th {\n",
       "        text-align: right;\n",
       "    }\n",
       "</style>\n",
       "<table border=\"1\" class=\"dataframe\">\n",
       "  <thead>\n",
       "    <tr style=\"text-align: right;\">\n",
       "      <th></th>\n",
       "      <th>precision</th>\n",
       "      <th>recall</th>\n",
       "      <th>f1-score</th>\n",
       "    </tr>\n",
       "  </thead>\n",
       "  <tbody>\n",
       "    <tr>\n",
       "      <th>count</th>\n",
       "      <td>36.000000</td>\n",
       "      <td>36.000000</td>\n",
       "      <td>36.000000</td>\n",
       "    </tr>\n",
       "    <tr>\n",
       "      <th>mean</th>\n",
       "      <td>0.573214</td>\n",
       "      <td>0.529401</td>\n",
       "      <td>0.523179</td>\n",
       "    </tr>\n",
       "    <tr>\n",
       "      <th>std</th>\n",
       "      <td>0.156085</td>\n",
       "      <td>0.100010</td>\n",
       "      <td>0.106355</td>\n",
       "    </tr>\n",
       "    <tr>\n",
       "      <th>min</th>\n",
       "      <td>0.432824</td>\n",
       "      <td>0.364349</td>\n",
       "      <td>0.349645</td>\n",
       "    </tr>\n",
       "    <tr>\n",
       "      <th>25%</th>\n",
       "      <td>0.477723</td>\n",
       "      <td>0.500000</td>\n",
       "      <td>0.486504</td>\n",
       "    </tr>\n",
       "    <tr>\n",
       "      <th>50%</th>\n",
       "      <td>0.493172</td>\n",
       "      <td>0.500000</td>\n",
       "      <td>0.494368</td>\n",
       "    </tr>\n",
       "    <tr>\n",
       "      <th>75%</th>\n",
       "      <td>0.645777</td>\n",
       "      <td>0.500959</td>\n",
       "      <td>0.498748</td>\n",
       "    </tr>\n",
       "    <tr>\n",
       "      <th>max</th>\n",
       "      <td>1.000000</td>\n",
       "      <td>1.000000</td>\n",
       "      <td>1.000000</td>\n",
       "    </tr>\n",
       "  </tbody>\n",
       "</table>\n",
       "</div>"
      ],
      "text/plain": [
       "       precision     recall   f1-score\n",
       "count  36.000000  36.000000  36.000000\n",
       "mean    0.573214   0.529401   0.523179\n",
       "std     0.156085   0.100010   0.106355\n",
       "min     0.432824   0.364349   0.349645\n",
       "25%     0.477723   0.500000   0.486504\n",
       "50%     0.493172   0.500000   0.494368\n",
       "75%     0.645777   0.500959   0.498748\n",
       "max     1.000000   1.000000   1.000000"
      ]
     },
     "execution_count": 27,
     "metadata": {},
     "output_type": "execute_result"
    }
   ],
   "source": [
    "test_model(Y_test, Y_pred_NB, 'macro').describe()"
   ]
  },
  {
   "cell_type": "markdown",
   "metadata": {
    "jupyter": {
     "outputs_hidden": false
    },
    "pycharm": {
     "name": "#%%\n"
    }
   },
   "source": [
    "### Best model\n",
    "\n",
    "Best results achieved with tuned initial pipeline i.e. using\n",
    "- CountVectorizer with custom tokenizer an 1-grams\n",
    "- TfIDF Transformer\n",
    "- Random Forest classifier with equally weighted classes\n",
    "\n",
    "1-grams in Vectorizer and not weighted class in estimator."
   ]
  },
  {
   "cell_type": "code",
   "execution_count": 29,
   "metadata": {},
   "outputs": [],
   "source": [
    "# Saving Best Model\n",
    "pickle.dump(cv, open('Classifier_Jupyter', 'wb'))"
   ]
  }
 ],
 "metadata": {
  "kernelspec": {
   "display_name": "Python 3",
   "language": "python",
   "name": "python3"
  },
  "language_info": {
   "codemirror_mode": {
    "name": "ipython",
    "version": 3
   },
   "file_extension": ".py",
   "mimetype": "text/x-python",
   "name": "python",
   "nbconvert_exporter": "python",
   "pygments_lexer": "ipython3",
   "version": "3.8.3"
  }
 },
 "nbformat": 4,
 "nbformat_minor": 4
}
