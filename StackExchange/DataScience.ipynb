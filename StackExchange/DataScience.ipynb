{
 "cells": [
  {
   "attachments": {},
   "cell_type": "markdown",
   "metadata": {
    "collapsed": true
   },
   "source": [
    "## Objective\n",
    "Goal of the project is to determine categories, keywords and any other anchor that tells the stakeholder (DataScience bookstore) how to align their offer to boost the sales.\n",
    "\n",
    "## Data source\n",
    "As a benchmark for finding top areas of DS I will use Stack Exchange websites, particularly Data Science subdirectory.\n",
    "https://datascience.stackexchange.com/\n",
    "\n",
    "Stack Exchange is an online community board where users ask bothering questions. Domain specialist or basically users who 'had been there' answer in the thread solving the problem, explaining a subject or giving helpful information. That way the problem of the author (and thousads of other users with the same question, fining a posting thorugh search engine) is solved.\n",
    "\n",
    "Each posts consist of Date of posting, author's nick, number of views, body of the post and tags categorizing post. Underneath, other users post their comments. Each user is able to vote entry on plus or minus. That way viewer reading the thread knows what answer is the most valuable and which could be diregarded.\n",
    "\n",
    "## Data aquistion\n",
    "Stack Exchange provides an easily acessible database. In the SQL-like search engine it is possible to look up entire boards, posts and particular attributes that might be useful for our purpose.\n",
    "https://data.stackexchange.com/datascience/query\n",
    "\n",
    "What I am most interested in is to access tags along with counting the total number, checking the total number of views and number of answers. Those three could greatly picture poularity of a subject.\n",
    "\n",
    "### Stack overflow tables\n",
    "Most likely I want to use Posts table, that will provide me with all required parameters.\n",
    "\n",
    "Downloaded data from 2015 to 2019 is loaded to the project."
   ]
  },
  {
   "cell_type": "code",
   "execution_count": 232,
   "metadata": {},
   "outputs": [],
   "source": [
    "import pandas as pd\n",
    "posts = pd.read_csv('questions_all_2014_2019.csv')"
   ]
  },
  {
   "cell_type": "code",
   "execution_count": 233,
   "metadata": {},
   "outputs": [
    {
     "data": {
      "text/html": [
       "<div>\n",
       "<style scoped>\n",
       "    .dataframe tbody tr th:only-of-type {\n",
       "        vertical-align: middle;\n",
       "    }\n",
       "\n",
       "    .dataframe tbody tr th {\n",
       "        vertical-align: top;\n",
       "    }\n",
       "\n",
       "    .dataframe thead th {\n",
       "        text-align: right;\n",
       "    }\n",
       "</style>\n",
       "<table border=\"1\" class=\"dataframe\">\n",
       "  <thead>\n",
       "    <tr style=\"text-align: right;\">\n",
       "      <th></th>\n",
       "      <th>Id</th>\n",
       "      <th>CreationDate</th>\n",
       "      <th>Score</th>\n",
       "      <th>ViewCount</th>\n",
       "      <th>Tags</th>\n",
       "      <th>FavoriteCount</th>\n",
       "      <th>AnswerCount</th>\n",
       "    </tr>\n",
       "  </thead>\n",
       "  <tbody>\n",
       "    <tr>\n",
       "      <td>0</td>\n",
       "      <td>6643</td>\n",
       "      <td>2015-07-31 08:21:49</td>\n",
       "      <td>5</td>\n",
       "      <td>6048.0</td>\n",
       "      <td>&lt;deep-learning&gt;</td>\n",
       "      <td>1.0</td>\n",
       "      <td>3.0</td>\n",
       "    </tr>\n",
       "    <tr>\n",
       "      <td>1</td>\n",
       "      <td>6644</td>\n",
       "      <td>2015-07-31 09:26:34</td>\n",
       "      <td>17</td>\n",
       "      <td>NaN</td>\n",
       "      <td>NaN</td>\n",
       "      <td>NaN</td>\n",
       "      <td>NaN</td>\n",
       "    </tr>\n",
       "    <tr>\n",
       "      <td>2</td>\n",
       "      <td>6645</td>\n",
       "      <td>2015-07-31 10:54:37</td>\n",
       "      <td>2</td>\n",
       "      <td>2667.0</td>\n",
       "      <td>&lt;machine-learning&gt;&lt;data-mining&gt;&lt;r&gt;&lt;classificat...</td>\n",
       "      <td>1.0</td>\n",
       "      <td>0.0</td>\n",
       "    </tr>\n",
       "    <tr>\n",
       "      <td>3</td>\n",
       "      <td>6646</td>\n",
       "      <td>2015-07-31 11:59:35</td>\n",
       "      <td>0</td>\n",
       "      <td>NaN</td>\n",
       "      <td>NaN</td>\n",
       "      <td>NaN</td>\n",
       "      <td>NaN</td>\n",
       "    </tr>\n",
       "    <tr>\n",
       "      <td>4</td>\n",
       "      <td>6647</td>\n",
       "      <td>2015-07-31 14:21:03</td>\n",
       "      <td>-1</td>\n",
       "      <td>NaN</td>\n",
       "      <td>NaN</td>\n",
       "      <td>NaN</td>\n",
       "      <td>NaN</td>\n",
       "    </tr>\n",
       "  </tbody>\n",
       "</table>\n",
       "</div>"
      ],
      "text/plain": [
       "     Id         CreationDate  Score  ViewCount  \\\n",
       "0  6643  2015-07-31 08:21:49      5     6048.0   \n",
       "1  6644  2015-07-31 09:26:34     17        NaN   \n",
       "2  6645  2015-07-31 10:54:37      2     2667.0   \n",
       "3  6646  2015-07-31 11:59:35      0        NaN   \n",
       "4  6647  2015-07-31 14:21:03     -1        NaN   \n",
       "\n",
       "                                                Tags  FavoriteCount  \\\n",
       "0                                    <deep-learning>            1.0   \n",
       "1                                                NaN            NaN   \n",
       "2  <machine-learning><data-mining><r><classificat...            1.0   \n",
       "3                                                NaN            NaN   \n",
       "4                                                NaN            NaN   \n",
       "\n",
       "   AnswerCount  \n",
       "0          3.0  \n",
       "1          NaN  \n",
       "2          0.0  \n",
       "3          NaN  \n",
       "4          NaN  "
      ]
     },
     "execution_count": 233,
     "metadata": {},
     "output_type": "execute_result"
    }
   ],
   "source": [
    "posts.head()"
   ]
  },
  {
   "cell_type": "code",
   "execution_count": 234,
   "metadata": {},
   "outputs": [
    {
     "name": "stdout",
     "output_type": "stream",
     "text": [
      "<class 'pandas.core.frame.DataFrame'>\n",
      "RangeIndex: 44702 entries, 0 to 44701\n",
      "Data columns (total 7 columns):\n",
      "Id               44702 non-null int64\n",
      "CreationDate     44702 non-null object\n",
      "Score            44702 non-null int64\n",
      "ViewCount        20888 non-null float64\n",
      "Tags             20888 non-null object\n",
      "FavoriteCount    6197 non-null float64\n",
      "AnswerCount      20888 non-null float64\n",
      "dtypes: float64(3), int64(2), object(2)\n",
      "memory usage: 2.4+ MB\n"
     ]
    }
   ],
   "source": [
    "posts.info()"
   ]
  },
  {
   "cell_type": "markdown",
   "metadata": {},
   "source": [
    "Dataset is of a size 43123x7. Unfortunately it has some columns with missing values. Let's invesigate what do they mean.\n",
    "#### Missing data"
   ]
  },
  {
   "cell_type": "code",
   "execution_count": 235,
   "metadata": {},
   "outputs": [
    {
     "data": {
      "text/plain": [
       "2.0             1\n",
       "3.0             2\n",
       "4.0            10\n",
       "5.0            20\n",
       "6.0            28\n",
       "            ...  \n",
       "183071.0        1\n",
       "187544.0        1\n",
       "191818.0        1\n",
       "219011.0        1\n",
       "NaN         23814\n",
       "Name: ViewCount, Length: 3874, dtype: int64"
      ]
     },
     "execution_count": 235,
     "metadata": {},
     "output_type": "execute_result"
    }
   ],
   "source": [
    "posts['ViewCount'].value_counts(dropna=False).sort_index()"
   ]
  },
  {
   "cell_type": "code",
   "execution_count": 236,
   "metadata": {
    "scrolled": false
   },
   "outputs": [
    {
     "data": {
      "text/plain": [
       "0.0      5470\n",
       "1.0     10040\n",
       "2.0      3677\n",
       "3.0      1102\n",
       "4.0       365\n",
       "5.0       120\n",
       "6.0        44\n",
       "7.0        21\n",
       "8.0        14\n",
       "9.0        15\n",
       "10.0        5\n",
       "11.0        6\n",
       "12.0        1\n",
       "13.0        3\n",
       "14.0        1\n",
       "15.0        2\n",
       "17.0        1\n",
       "35.0        1\n",
       "NaN     23814\n",
       "Name: AnswerCount, dtype: int64"
      ]
     },
     "execution_count": 236,
     "metadata": {},
     "output_type": "execute_result"
    }
   ],
   "source": [
    "posts['AnswerCount'].value_counts(dropna=False).sort_index()"
   ]
  },
  {
   "cell_type": "code",
   "execution_count": 237,
   "metadata": {
    "scrolled": true
   },
   "outputs": [
    {
     "data": {
      "text/plain": [
       "0.0     414\n",
       "1.0    3465\n",
       "2.0    1057\n",
       "3.0     450\n",
       "4.0     231\n",
       "Name: FavoriteCount, dtype: int64"
      ]
     },
     "execution_count": 237,
     "metadata": {},
     "output_type": "execute_result"
    }
   ],
   "source": [
    "posts['FavoriteCount'].value_counts(dropna=False).sort_index().head()"
   ]
  },
  {
   "cell_type": "markdown",
   "metadata": {},
   "source": [
    "Three of the columns has over a half of NULL values stored. Doing a quick check, going to the thread in the browser e.g.\n",
    "https://datascience.stackexchange.com/questions/6639\n",
    "reveals that this posts in particulat has:\n",
    "- 7k views\n",
    "- 4 answers\n",
    "- 'neural-network' tag\n",
    "while in the dataset all those fields throw NA\n",
    "\n",
    "That said some of the data is incorrect and has to be cleaned. Let's start with filtering only those posts that have Tags field not empty. It is rather uncommon for the post to be unreleated to any tag."
   ]
  },
  {
   "cell_type": "code",
   "execution_count": 238,
   "metadata": {},
   "outputs": [],
   "source": [
    "posts = posts[posts['Tags'].notnull()]"
   ]
  },
  {
   "cell_type": "code",
   "execution_count": 239,
   "metadata": {},
   "outputs": [
    {
     "name": "stdout",
     "output_type": "stream",
     "text": [
      "<class 'pandas.core.frame.DataFrame'>\n",
      "Int64Index: 20888 entries, 0 to 44700\n",
      "Data columns (total 7 columns):\n",
      "Id               20888 non-null int64\n",
      "CreationDate     20888 non-null object\n",
      "Score            20888 non-null int64\n",
      "ViewCount        20888 non-null float64\n",
      "Tags             20888 non-null object\n",
      "FavoriteCount    6197 non-null float64\n",
      "AnswerCount      20888 non-null float64\n",
      "dtypes: float64(3), int64(2), object(2)\n",
      "memory usage: 1.3+ MB\n"
     ]
    }
   ],
   "source": [
    "posts.info()"
   ]
  },
  {
   "cell_type": "markdown",
   "metadata": {},
   "source": [
    "That stats are substantially better. The only NA throwing column is FavoriteCount. Let's investigate."
   ]
  },
  {
   "cell_type": "code",
   "execution_count": 240,
   "metadata": {},
   "outputs": [
    {
     "data": {
      "text/plain": [
       "0.0     414\n",
       "1.0    3465\n",
       "2.0    1057\n",
       "3.0     450\n",
       "4.0     231\n",
       "Name: FavoriteCount, dtype: int64"
      ]
     },
     "execution_count": 240,
     "metadata": {},
     "output_type": "execute_result"
    }
   ],
   "source": [
    "posts['FavoriteCount'].value_counts(dropna=False).sort_index().head()"
   ]
  },
  {
   "cell_type": "markdown",
   "metadata": {},
   "source": [
    "Over half of the posts have no value. What's more 0 value occurs in the data and so it cannot be assumed that NA in the set means favoured by 0 users. That column will be of no use."
   ]
  },
  {
   "cell_type": "code",
   "execution_count": 241,
   "metadata": {},
   "outputs": [],
   "source": [
    "posts.drop('FavoriteCount', axis=1, inplace=True)"
   ]
  },
  {
   "cell_type": "markdown",
   "metadata": {},
   "source": [
    "#### Convertion\n",
    "Creation date might not be used but in case of future reference, I will convert it from datetime into date format, the time of the day is irrelevant for our purpose."
   ]
  },
  {
   "cell_type": "code",
   "execution_count": 242,
   "metadata": {},
   "outputs": [],
   "source": [
    "posts['CreationDate'] = posts['CreationDate'].apply(lambda x: x[:10])\n",
    "posts['CreationDate'] = pd.to_datetime(posts['CreationDate'])"
   ]
  },
  {
   "cell_type": "markdown",
   "metadata": {},
   "source": [
    "Tags column is what I am interested in, however it contains list of tags as a string. To access it better I need to access the column and separete tags from each other."
   ]
  },
  {
   "cell_type": "code",
   "execution_count": 243,
   "metadata": {},
   "outputs": [],
   "source": [
    "# tags cleaning and converting to list\n",
    "posts['Tags'] = posts['Tags'].apply(lambda x: x.replace(\"<\",\"\").replace(\">\",\",\")[:-1].split(\",\") if pd.notnull(x) else \"\")"
   ]
  },
  {
   "cell_type": "code",
   "execution_count": 244,
   "metadata": {},
   "outputs": [],
   "source": [
    "tag_count = {}\n",
    "tag_views = {}\n",
    "tag_answer = {}\n",
    "for index,row in posts.iterrows():\n",
    "    tags_list=row['Tags']\n",
    "    views = row['ViewCount']\n",
    "    answers = row['AnswerCount']\n",
    "    for tag in tags_list:\n",
    "        if(tag in tag_count):\n",
    "            tag_count[tag] += 1\n",
    "            tag_views[tag] += views\n",
    "            tag_answer[tag] += answers\n",
    "        else:\n",
    "            tag_count[tag] = 1\n",
    "            tag_views[tag] = views\n",
    "            tag_answer[tag] = answers    "
   ]
  },
  {
   "cell_type": "code",
   "execution_count": 245,
   "metadata": {},
   "outputs": [],
   "source": [
    "tag_count = pd.DataFrame.from_dict(data=tag_count, orient=\"index\")\n",
    "tag_count.rename(columns={0: \"count\"}, inplace=True)"
   ]
  },
  {
   "cell_type": "code",
   "execution_count": 246,
   "metadata": {},
   "outputs": [],
   "source": [
    "tag_views = pd.DataFrame.from_dict(data=tag_views, orient=\"index\")\n",
    "tag_views.rename(columns={0: \"views\"}, inplace=True)"
   ]
  },
  {
   "cell_type": "code",
   "execution_count": 247,
   "metadata": {},
   "outputs": [],
   "source": [
    "tag_answers = pd.DataFrame.from_dict(data=tag_answer, orient=\"index\")\n",
    "tag_answers.rename(columns={0: \"answers\"}, inplace=True)"
   ]
  },
  {
   "cell_type": "code",
   "execution_count": 248,
   "metadata": {},
   "outputs": [],
   "source": [
    "tags = tag_count.merge(tag_views, how=\"left\", left_index=True, right_index=True)"
   ]
  },
  {
   "cell_type": "code",
   "execution_count": 249,
   "metadata": {},
   "outputs": [],
   "source": [
    "tags = tags.merge(tag_answers, how=\"left\", left_index=True, right_index=True)"
   ]
  },
  {
   "cell_type": "code",
   "execution_count": 250,
   "metadata": {},
   "outputs": [],
   "source": [
    "tags = tags.sort_values(by=[\"count\",\"views\",\"answers\"], ascending=False)"
   ]
  },
  {
   "cell_type": "markdown",
   "metadata": {},
   "source": [
    "### Top 20 tags statistics"
   ]
  },
  {
   "cell_type": "code",
   "execution_count": 251,
   "metadata": {
    "scrolled": false
   },
   "outputs": [
    {
     "data": {
      "text/html": [
       "<div>\n",
       "<style scoped>\n",
       "    .dataframe tbody tr th:only-of-type {\n",
       "        vertical-align: middle;\n",
       "    }\n",
       "\n",
       "    .dataframe tbody tr th {\n",
       "        vertical-align: top;\n",
       "    }\n",
       "\n",
       "    .dataframe thead th {\n",
       "        text-align: right;\n",
       "    }\n",
       "</style>\n",
       "<table border=\"1\" class=\"dataframe\">\n",
       "  <thead>\n",
       "    <tr style=\"text-align: right;\">\n",
       "      <th></th>\n",
       "      <th>count</th>\n",
       "      <th>views</th>\n",
       "      <th>answers</th>\n",
       "    </tr>\n",
       "  </thead>\n",
       "  <tbody>\n",
       "    <tr>\n",
       "      <td>machine-learning</td>\n",
       "      <td>6761</td>\n",
       "      <td>9242925.0</td>\n",
       "      <td>8234.0</td>\n",
       "    </tr>\n",
       "    <tr>\n",
       "      <td>python</td>\n",
       "      <td>3808</td>\n",
       "      <td>9261373.0</td>\n",
       "      <td>4361.0</td>\n",
       "    </tr>\n",
       "    <tr>\n",
       "      <td>neural-network</td>\n",
       "      <td>2868</td>\n",
       "      <td>4434308.0</td>\n",
       "      <td>3198.0</td>\n",
       "    </tr>\n",
       "    <tr>\n",
       "      <td>deep-learning</td>\n",
       "      <td>2699</td>\n",
       "      <td>3996812.0</td>\n",
       "      <td>2859.0</td>\n",
       "    </tr>\n",
       "    <tr>\n",
       "      <td>classification</td>\n",
       "      <td>1853</td>\n",
       "      <td>2058189.0</td>\n",
       "      <td>2286.0</td>\n",
       "    </tr>\n",
       "    <tr>\n",
       "      <td>keras</td>\n",
       "      <td>1690</td>\n",
       "      <td>2884459.0</td>\n",
       "      <td>1554.0</td>\n",
       "    </tr>\n",
       "    <tr>\n",
       "      <td>scikit-learn</td>\n",
       "      <td>1274</td>\n",
       "      <td>3099488.0</td>\n",
       "      <td>1579.0</td>\n",
       "    </tr>\n",
       "    <tr>\n",
       "      <td>tensorflow</td>\n",
       "      <td>1186</td>\n",
       "      <td>1748082.0</td>\n",
       "      <td>1019.0</td>\n",
       "    </tr>\n",
       "    <tr>\n",
       "      <td>nlp</td>\n",
       "      <td>1128</td>\n",
       "      <td>1328617.0</td>\n",
       "      <td>1292.0</td>\n",
       "    </tr>\n",
       "    <tr>\n",
       "      <td>r</td>\n",
       "      <td>1094</td>\n",
       "      <td>2160045.0</td>\n",
       "      <td>1391.0</td>\n",
       "    </tr>\n",
       "    <tr>\n",
       "      <td>time-series</td>\n",
       "      <td>973</td>\n",
       "      <td>925899.0</td>\n",
       "      <td>926.0</td>\n",
       "    </tr>\n",
       "    <tr>\n",
       "      <td>data-mining</td>\n",
       "      <td>927</td>\n",
       "      <td>1353538.0</td>\n",
       "      <td>1198.0</td>\n",
       "    </tr>\n",
       "    <tr>\n",
       "      <td>dataset</td>\n",
       "      <td>867</td>\n",
       "      <td>1116765.0</td>\n",
       "      <td>1084.0</td>\n",
       "    </tr>\n",
       "    <tr>\n",
       "      <td>regression</td>\n",
       "      <td>844</td>\n",
       "      <td>789707.0</td>\n",
       "      <td>951.0</td>\n",
       "    </tr>\n",
       "    <tr>\n",
       "      <td>clustering</td>\n",
       "      <td>836</td>\n",
       "      <td>1187277.0</td>\n",
       "      <td>1187.0</td>\n",
       "    </tr>\n",
       "    <tr>\n",
       "      <td>predictive-modeling</td>\n",
       "      <td>787</td>\n",
       "      <td>694781.0</td>\n",
       "      <td>926.0</td>\n",
       "    </tr>\n",
       "    <tr>\n",
       "      <td>cnn</td>\n",
       "      <td>787</td>\n",
       "      <td>502926.0</td>\n",
       "      <td>740.0</td>\n",
       "    </tr>\n",
       "    <tr>\n",
       "      <td>pandas</td>\n",
       "      <td>714</td>\n",
       "      <td>3641420.0</td>\n",
       "      <td>978.0</td>\n",
       "    </tr>\n",
       "    <tr>\n",
       "      <td>lstm</td>\n",
       "      <td>667</td>\n",
       "      <td>579671.0</td>\n",
       "      <td>573.0</td>\n",
       "    </tr>\n",
       "    <tr>\n",
       "      <td>statistics</td>\n",
       "      <td>621</td>\n",
       "      <td>1020065.0</td>\n",
       "      <td>737.0</td>\n",
       "    </tr>\n",
       "  </tbody>\n",
       "</table>\n",
       "</div>"
      ],
      "text/plain": [
       "                     count      views  answers\n",
       "machine-learning      6761  9242925.0   8234.0\n",
       "python                3808  9261373.0   4361.0\n",
       "neural-network        2868  4434308.0   3198.0\n",
       "deep-learning         2699  3996812.0   2859.0\n",
       "classification        1853  2058189.0   2286.0\n",
       "keras                 1690  2884459.0   1554.0\n",
       "scikit-learn          1274  3099488.0   1579.0\n",
       "tensorflow            1186  1748082.0   1019.0\n",
       "nlp                   1128  1328617.0   1292.0\n",
       "r                     1094  2160045.0   1391.0\n",
       "time-series            973   925899.0    926.0\n",
       "data-mining            927  1353538.0   1198.0\n",
       "dataset                867  1116765.0   1084.0\n",
       "regression             844   789707.0    951.0\n",
       "clustering             836  1187277.0   1187.0\n",
       "predictive-modeling    787   694781.0    926.0\n",
       "cnn                    787   502926.0    740.0\n",
       "pandas                 714  3641420.0    978.0\n",
       "lstm                   667   579671.0    573.0\n",
       "statistics             621  1020065.0    737.0"
      ]
     },
     "execution_count": 251,
     "metadata": {},
     "output_type": "execute_result"
    }
   ],
   "source": [
    "tags.head(20)"
   ]
  },
  {
   "cell_type": "markdown",
   "metadata": {},
   "source": [
    "Most common phrases have been sorted by counts, views and answers. Top 3 tags are\n",
    "- machine-learning\n",
    "- python\n",
    "- deep-learning\n",
    "\n",
    "To have a better feel let's plot the results"
   ]
  },
  {
   "cell_type": "code",
   "execution_count": 252,
   "metadata": {},
   "outputs": [],
   "source": [
    "import matplotlib.pyplot as plt\n",
    "%matplotlib inline"
   ]
  },
  {
   "cell_type": "code",
   "execution_count": 253,
   "metadata": {},
   "outputs": [
    {
     "data": {
      "text/plain": [
       "<matplotlib.axes._subplots.AxesSubplot at 0x1d08700d408>"
      ]
     },
     "execution_count": 253,
     "metadata": {},
     "output_type": "execute_result"
    },
    {
     "data": {
      "image/png": "[encoded data removed]",
      "text/plain": [
       "<Figure size 720x360 with 1 Axes>"
      ]
     },
     "metadata": {
      "needs_background": "light"
     },
     "output_type": "display_data"
    }
   ],
   "source": [
    "tags[:20].plot(kind=\"barh\", y=\"count\", color=\"steelblue\", legend=False, figsize=(10,5), title=\"Top 20 tags\")"
   ]
  },
  {
   "cell_type": "code",
   "execution_count": 254,
   "metadata": {},
   "outputs": [
    {
     "data": {
      "text/plain": [
       "<matplotlib.axes._subplots.AxesSubplot at 0x1d08692e988>"
      ]
     },
     "execution_count": 254,
     "metadata": {},
     "output_type": "execute_result"
    },
    {
     "data": {
      "image/png": "[encoded data removed]",
      "text/plain": [
       "<Figure size 720x360 with 1 Axes>"
      ]
     },
     "metadata": {
      "needs_background": "light"
     },
     "output_type": "display_data"
    }
   ],
   "source": [
    "tags[:20].plot(kind=\"barh\", y=\"answers\", color=\"steelblue\", legend=False, figsize=(10,5), title=\"Top 20 tags: answers\")"
   ]
  },
  {
   "cell_type": "code",
   "execution_count": 255,
   "metadata": {},
   "outputs": [
    {
     "data": {
      "text/plain": [
       "<matplotlib.axes._subplots.AxesSubplot at 0x1d0832f6ac8>"
      ]
     },
     "execution_count": 255,
     "metadata": {},
     "output_type": "execute_result"
    },
    {
     "data": {
      "image/png": "[encoded data removed]",
      "text/plain": [
       "<Figure size 720x360 with 1 Axes>"
      ]
     },
     "metadata": {
      "needs_background": "light"
     },
     "output_type": "display_data"
    }
   ],
   "source": [
    "tags[:20].plot(kind=\"barh\", y=\"views\", color=\"steelblue\", legend=False, figsize=(10,5), title=\"Top 20 tags: views\")"
   ]
  },
  {
   "cell_type": "markdown",
   "metadata": {},
   "source": [
    "Tags were initially sorted by tag frequency therefore the order along the charts were kept. \n",
    "As visible, plot containgin number of answers does not substantially differ from the first one. Therefore eventually we can drop that metric in sake of tag frequency.\n",
    "\n",
    "Tags by number of view does eventually bring some variation. Not only the most frequent tag 'machine learning' has less views than second 'python' but in the latter part of the rank we also encounter differences. This brings some new insight and so views will be used as a second important metric after number of posts within tag."
   ]
  },
  {
   "cell_type": "markdown",
   "metadata": {},
   "source": [
    "## Logical grouping\n",
    "Many of the tags interfer with each other. Enough to say pandas is the library for machine learning that can be used in Python. High score of Python should not suprise.\n",
    "\n",
    "What strikes the most from the obtained statistics is that there is a lot of libraries meant for a use to create neural-networks and perform deep-learning, which is the part of machine learning.\n",
    "\n",
    "What we can do is to prepare a multilevel classification grouping tags into bigger categories. The distinction is fuzzy, some keywords, libraries can be used on multiple purposes. The following classification is to my best knowledge and research\n",
    "1. deep_learning\n",
    "    - \"lstm\",\n",
    "    - \"cnn\", \n",
    "    - \"tensorflow\",\n",
    "    - \"neural-network\",\n",
    "    - \"keras\",\n",
    "    - \"deep-learning\",\n",
    "    - \"time-series\",\n",
    "    - \"nlp\"\n",
    "2. classifictaion\n",
    "    - \"pandas\",\n",
    "    - \"classification\",\n",
    "    - \"scikit-learn\",\n",
    "    - \"regression\",\n",
    "    - \"predictive-modeling\",\n",
    "    - \"clustering\""
   ]
  },
  {
   "cell_type": "code",
   "execution_count": 256,
   "metadata": {},
   "outputs": [],
   "source": [
    "deep_learning = [\"lstm\", \"cnn\", \"tensorflow\", \"neural-network\", \"keras\", \"deep-learning\",\"time-series\",\"nlp\"]\n",
    "classifictaion = [\"pandas\",\"classification\",\"scikit-learn\",\"regression\",\"predictive-modeling\",\"clustering\"]"
   ]
  },
  {
   "cell_type": "code",
   "execution_count": 257,
   "metadata": {},
   "outputs": [],
   "source": [
    "tags['deep learning'] = tags.index.isin(deep_learning)\n",
    "tags['classifictaion'] = tags.index.isin(classifictaion)"
   ]
  },
  {
   "cell_type": "code",
   "execution_count": 258,
   "metadata": {
    "scrolled": true
   },
   "outputs": [
    {
     "data": {
      "text/html": [
       "<div>\n",
       "<style scoped>\n",
       "    .dataframe tbody tr th:only-of-type {\n",
       "        vertical-align: middle;\n",
       "    }\n",
       "\n",
       "    .dataframe tbody tr th {\n",
       "        vertical-align: top;\n",
       "    }\n",
       "\n",
       "    .dataframe thead th {\n",
       "        text-align: right;\n",
       "    }\n",
       "</style>\n",
       "<table border=\"1\" class=\"dataframe\">\n",
       "  <thead>\n",
       "    <tr style=\"text-align: right;\">\n",
       "      <th></th>\n",
       "      <th>count</th>\n",
       "      <th>views</th>\n",
       "      <th>answers</th>\n",
       "      <th>deep learning</th>\n",
       "      <th>classifictaion</th>\n",
       "    </tr>\n",
       "  </thead>\n",
       "  <tbody>\n",
       "    <tr>\n",
       "      <td>machine-learning</td>\n",
       "      <td>6761</td>\n",
       "      <td>9242925.0</td>\n",
       "      <td>8234.0</td>\n",
       "      <td>False</td>\n",
       "      <td>False</td>\n",
       "    </tr>\n",
       "    <tr>\n",
       "      <td>python</td>\n",
       "      <td>3808</td>\n",
       "      <td>9261373.0</td>\n",
       "      <td>4361.0</td>\n",
       "      <td>False</td>\n",
       "      <td>False</td>\n",
       "    </tr>\n",
       "    <tr>\n",
       "      <td>neural-network</td>\n",
       "      <td>2868</td>\n",
       "      <td>4434308.0</td>\n",
       "      <td>3198.0</td>\n",
       "      <td>True</td>\n",
       "      <td>False</td>\n",
       "    </tr>\n",
       "    <tr>\n",
       "      <td>deep-learning</td>\n",
       "      <td>2699</td>\n",
       "      <td>3996812.0</td>\n",
       "      <td>2859.0</td>\n",
       "      <td>True</td>\n",
       "      <td>False</td>\n",
       "    </tr>\n",
       "    <tr>\n",
       "      <td>classification</td>\n",
       "      <td>1853</td>\n",
       "      <td>2058189.0</td>\n",
       "      <td>2286.0</td>\n",
       "      <td>False</td>\n",
       "      <td>True</td>\n",
       "    </tr>\n",
       "    <tr>\n",
       "      <td>keras</td>\n",
       "      <td>1690</td>\n",
       "      <td>2884459.0</td>\n",
       "      <td>1554.0</td>\n",
       "      <td>True</td>\n",
       "      <td>False</td>\n",
       "    </tr>\n",
       "    <tr>\n",
       "      <td>scikit-learn</td>\n",
       "      <td>1274</td>\n",
       "      <td>3099488.0</td>\n",
       "      <td>1579.0</td>\n",
       "      <td>False</td>\n",
       "      <td>True</td>\n",
       "    </tr>\n",
       "    <tr>\n",
       "      <td>tensorflow</td>\n",
       "      <td>1186</td>\n",
       "      <td>1748082.0</td>\n",
       "      <td>1019.0</td>\n",
       "      <td>True</td>\n",
       "      <td>False</td>\n",
       "    </tr>\n",
       "    <tr>\n",
       "      <td>nlp</td>\n",
       "      <td>1128</td>\n",
       "      <td>1328617.0</td>\n",
       "      <td>1292.0</td>\n",
       "      <td>True</td>\n",
       "      <td>False</td>\n",
       "    </tr>\n",
       "    <tr>\n",
       "      <td>r</td>\n",
       "      <td>1094</td>\n",
       "      <td>2160045.0</td>\n",
       "      <td>1391.0</td>\n",
       "      <td>False</td>\n",
       "      <td>False</td>\n",
       "    </tr>\n",
       "    <tr>\n",
       "      <td>time-series</td>\n",
       "      <td>973</td>\n",
       "      <td>925899.0</td>\n",
       "      <td>926.0</td>\n",
       "      <td>True</td>\n",
       "      <td>False</td>\n",
       "    </tr>\n",
       "    <tr>\n",
       "      <td>data-mining</td>\n",
       "      <td>927</td>\n",
       "      <td>1353538.0</td>\n",
       "      <td>1198.0</td>\n",
       "      <td>False</td>\n",
       "      <td>False</td>\n",
       "    </tr>\n",
       "    <tr>\n",
       "      <td>dataset</td>\n",
       "      <td>867</td>\n",
       "      <td>1116765.0</td>\n",
       "      <td>1084.0</td>\n",
       "      <td>False</td>\n",
       "      <td>False</td>\n",
       "    </tr>\n",
       "    <tr>\n",
       "      <td>regression</td>\n",
       "      <td>844</td>\n",
       "      <td>789707.0</td>\n",
       "      <td>951.0</td>\n",
       "      <td>False</td>\n",
       "      <td>True</td>\n",
       "    </tr>\n",
       "    <tr>\n",
       "      <td>clustering</td>\n",
       "      <td>836</td>\n",
       "      <td>1187277.0</td>\n",
       "      <td>1187.0</td>\n",
       "      <td>False</td>\n",
       "      <td>True</td>\n",
       "    </tr>\n",
       "    <tr>\n",
       "      <td>predictive-modeling</td>\n",
       "      <td>787</td>\n",
       "      <td>694781.0</td>\n",
       "      <td>926.0</td>\n",
       "      <td>False</td>\n",
       "      <td>True</td>\n",
       "    </tr>\n",
       "    <tr>\n",
       "      <td>cnn</td>\n",
       "      <td>787</td>\n",
       "      <td>502926.0</td>\n",
       "      <td>740.0</td>\n",
       "      <td>True</td>\n",
       "      <td>False</td>\n",
       "    </tr>\n",
       "    <tr>\n",
       "      <td>pandas</td>\n",
       "      <td>714</td>\n",
       "      <td>3641420.0</td>\n",
       "      <td>978.0</td>\n",
       "      <td>False</td>\n",
       "      <td>True</td>\n",
       "    </tr>\n",
       "    <tr>\n",
       "      <td>lstm</td>\n",
       "      <td>667</td>\n",
       "      <td>579671.0</td>\n",
       "      <td>573.0</td>\n",
       "      <td>True</td>\n",
       "      <td>False</td>\n",
       "    </tr>\n",
       "    <tr>\n",
       "      <td>statistics</td>\n",
       "      <td>621</td>\n",
       "      <td>1020065.0</td>\n",
       "      <td>737.0</td>\n",
       "      <td>False</td>\n",
       "      <td>False</td>\n",
       "    </tr>\n",
       "  </tbody>\n",
       "</table>\n",
       "</div>"
      ],
      "text/plain": [
       "                     count      views  answers  deep learning  classifictaion\n",
       "machine-learning      6761  9242925.0   8234.0          False           False\n",
       "python                3808  9261373.0   4361.0          False           False\n",
       "neural-network        2868  4434308.0   3198.0           True           False\n",
       "deep-learning         2699  3996812.0   2859.0           True           False\n",
       "classification        1853  2058189.0   2286.0          False            True\n",
       "keras                 1690  2884459.0   1554.0           True           False\n",
       "scikit-learn          1274  3099488.0   1579.0          False            True\n",
       "tensorflow            1186  1748082.0   1019.0           True           False\n",
       "nlp                   1128  1328617.0   1292.0           True           False\n",
       "r                     1094  2160045.0   1391.0          False           False\n",
       "time-series            973   925899.0    926.0           True           False\n",
       "data-mining            927  1353538.0   1198.0          False           False\n",
       "dataset                867  1116765.0   1084.0          False           False\n",
       "regression             844   789707.0    951.0          False            True\n",
       "clustering             836  1187277.0   1187.0          False            True\n",
       "predictive-modeling    787   694781.0    926.0          False            True\n",
       "cnn                    787   502926.0    740.0           True           False\n",
       "pandas                 714  3641420.0    978.0          False            True\n",
       "lstm                   667   579671.0    573.0           True           False\n",
       "statistics             621  1020065.0    737.0          False           False"
      ]
     },
     "execution_count": 258,
     "metadata": {},
     "output_type": "execute_result"
    }
   ],
   "source": [
    "tags[:20]"
   ]
  },
  {
   "cell_type": "code",
   "execution_count": 259,
   "metadata": {},
   "outputs": [
    {
     "data": {
      "text/plain": [
       "deep learning     8.0\n",
       "classifictaion    6.0\n",
       "dtype: float64"
      ]
     },
     "execution_count": 259,
     "metadata": {},
     "output_type": "execute_result"
    }
   ],
   "source": [
    "tags[:20].sum()[3:]"
   ]
  },
  {
   "cell_type": "markdown",
   "metadata": {},
   "source": [
    "Seem like deep learning is on lead now. However, to get some more insight I want to eventually analyze the popularity of each in time."
   ]
  },
  {
   "cell_type": "code",
   "execution_count": 260,
   "metadata": {},
   "outputs": [],
   "source": [
    "def category(tags,name):\n",
    "    return any([True for i in tags if i in name])"
   ]
  },
  {
   "cell_type": "code",
   "execution_count": 261,
   "metadata": {},
   "outputs": [],
   "source": [
    "posts['deep learning'] = posts['Tags'].apply(category, args=(deep_learning,))\n",
    "posts['classification'] = posts['Tags'].apply(category, args=(classifictaion,))"
   ]
  },
  {
   "cell_type": "code",
   "execution_count": 262,
   "metadata": {},
   "outputs": [],
   "source": [
    "import datetime as dt\n",
    "posts['YearMonth'] = posts['CreationDate'].apply(lambda x: dt.datetime.strftime(x,\"%Y-%m\"))"
   ]
  },
  {
   "cell_type": "code",
   "execution_count": 263,
   "metadata": {},
   "outputs": [],
   "source": [
    "posts['YearMonth'] = posts['CreationDate'].apply(lambda x: dt.datetime.strftime(x,\"%Y-%m\").replace(\"-\",\"\"))"
   ]
  },
  {
   "cell_type": "code",
   "execution_count": 264,
   "metadata": {},
   "outputs": [],
   "source": [
    "posts['YearQuarter'] = posts['YearMonth'].apply(lambda x: x[:4]+'Q'+str((int(x[4:])-1)/3+1)[0])"
   ]
  },
  {
   "cell_type": "code",
   "execution_count": 265,
   "metadata": {},
   "outputs": [
    {
     "data": {
      "text/html": [
       "<div>\n",
       "<style scoped>\n",
       "    .dataframe tbody tr th:only-of-type {\n",
       "        vertical-align: middle;\n",
       "    }\n",
       "\n",
       "    .dataframe tbody tr th {\n",
       "        vertical-align: top;\n",
       "    }\n",
       "\n",
       "    .dataframe thead th {\n",
       "        text-align: right;\n",
       "    }\n",
       "</style>\n",
       "<table border=\"1\" class=\"dataframe\">\n",
       "  <thead>\n",
       "    <tr style=\"text-align: right;\">\n",
       "      <th></th>\n",
       "      <th>Id</th>\n",
       "      <th>CreationDate</th>\n",
       "      <th>Score</th>\n",
       "      <th>ViewCount</th>\n",
       "      <th>Tags</th>\n",
       "      <th>AnswerCount</th>\n",
       "      <th>deep learning</th>\n",
       "      <th>classification</th>\n",
       "      <th>YearMonth</th>\n",
       "      <th>YearQuarter</th>\n",
       "    </tr>\n",
       "  </thead>\n",
       "  <tbody>\n",
       "    <tr>\n",
       "      <td>0</td>\n",
       "      <td>6643</td>\n",
       "      <td>2015-07-31</td>\n",
       "      <td>5</td>\n",
       "      <td>6048.0</td>\n",
       "      <td>[deep-learning]</td>\n",
       "      <td>3.0</td>\n",
       "      <td>True</td>\n",
       "      <td>False</td>\n",
       "      <td>201507</td>\n",
       "      <td>2015Q3</td>\n",
       "    </tr>\n",
       "    <tr>\n",
       "      <td>2</td>\n",
       "      <td>6645</td>\n",
       "      <td>2015-07-31</td>\n",
       "      <td>2</td>\n",
       "      <td>2667.0</td>\n",
       "      <td>[machine-learning, data-mining, r, classificat...</td>\n",
       "      <td>0.0</td>\n",
       "      <td>False</td>\n",
       "      <td>True</td>\n",
       "      <td>201507</td>\n",
       "      <td>2015Q3</td>\n",
       "    </tr>\n",
       "    <tr>\n",
       "      <td>5</td>\n",
       "      <td>6648</td>\n",
       "      <td>2015-07-27</td>\n",
       "      <td>4</td>\n",
       "      <td>1868.0</td>\n",
       "      <td>[machine-learning, nlp]</td>\n",
       "      <td>1.0</td>\n",
       "      <td>True</td>\n",
       "      <td>False</td>\n",
       "      <td>201507</td>\n",
       "      <td>2015Q3</td>\n",
       "    </tr>\n",
       "    <tr>\n",
       "      <td>6</td>\n",
       "      <td>6649</td>\n",
       "      <td>2015-07-31</td>\n",
       "      <td>4</td>\n",
       "      <td>1738.0</td>\n",
       "      <td>[machine-learning, r, python, statistics]</td>\n",
       "      <td>1.0</td>\n",
       "      <td>False</td>\n",
       "      <td>False</td>\n",
       "      <td>201507</td>\n",
       "      <td>2015Q3</td>\n",
       "    </tr>\n",
       "    <tr>\n",
       "      <td>12</td>\n",
       "      <td>6659</td>\n",
       "      <td>2015-08-02</td>\n",
       "      <td>2</td>\n",
       "      <td>50.0</td>\n",
       "      <td>[data]</td>\n",
       "      <td>0.0</td>\n",
       "      <td>False</td>\n",
       "      <td>False</td>\n",
       "      <td>201508</td>\n",
       "      <td>2015Q3</td>\n",
       "    </tr>\n",
       "  </tbody>\n",
       "</table>\n",
       "</div>"
      ],
      "text/plain": [
       "      Id CreationDate  Score  ViewCount  \\\n",
       "0   6643   2015-07-31      5     6048.0   \n",
       "2   6645   2015-07-31      2     2667.0   \n",
       "5   6648   2015-07-27      4     1868.0   \n",
       "6   6649   2015-07-31      4     1738.0   \n",
       "12  6659   2015-08-02      2       50.0   \n",
       "\n",
       "                                                 Tags  AnswerCount  \\\n",
       "0                                     [deep-learning]          3.0   \n",
       "2   [machine-learning, data-mining, r, classificat...          0.0   \n",
       "5                             [machine-learning, nlp]          1.0   \n",
       "6           [machine-learning, r, python, statistics]          1.0   \n",
       "12                                             [data]          0.0   \n",
       "\n",
       "    deep learning  classification YearMonth YearQuarter  \n",
       "0            True           False    201507      2015Q3  \n",
       "2           False            True    201507      2015Q3  \n",
       "5            True           False    201507      2015Q3  \n",
       "6           False           False    201507      2015Q3  \n",
       "12          False           False    201508      2015Q3  "
      ]
     },
     "execution_count": 265,
     "metadata": {},
     "output_type": "execute_result"
    }
   ],
   "source": [
    "posts.head()"
   ]
  },
  {
   "cell_type": "code",
   "execution_count": 266,
   "metadata": {},
   "outputs": [],
   "source": [
    "tags_by_date = posts[['YearQuarter','Score','ViewCount','AnswerCount','deep learning','classification']].groupby('YearQuarter',as_index=False).sum()\n",
    "tags_by_date['total_posts'] = posts[['YearQuarter','Score','ViewCount','AnswerCount','deep learning','classification']].groupby('YearQuarter',as_index=False).count().iloc[:,1]"
   ]
  },
  {
   "cell_type": "code",
   "execution_count": 267,
   "metadata": {},
   "outputs": [
    {
     "data": {
      "text/html": [
       "<div>\n",
       "<style scoped>\n",
       "    .dataframe tbody tr th:only-of-type {\n",
       "        vertical-align: middle;\n",
       "    }\n",
       "\n",
       "    .dataframe tbody tr th {\n",
       "        vertical-align: top;\n",
       "    }\n",
       "\n",
       "    .dataframe thead th {\n",
       "        text-align: right;\n",
       "    }\n",
       "</style>\n",
       "<table border=\"1\" class=\"dataframe\">\n",
       "  <thead>\n",
       "    <tr style=\"text-align: right;\">\n",
       "      <th></th>\n",
       "      <th>YearQuarter</th>\n",
       "      <th>Score</th>\n",
       "      <th>ViewCount</th>\n",
       "      <th>AnswerCount</th>\n",
       "      <th>deep learning</th>\n",
       "      <th>classification</th>\n",
       "      <th>total_posts</th>\n",
       "    </tr>\n",
       "  </thead>\n",
       "  <tbody>\n",
       "    <tr>\n",
       "      <td>0</td>\n",
       "      <td>2014Q2</td>\n",
       "      <td>2472</td>\n",
       "      <td>988829.0</td>\n",
       "      <td>547.0</td>\n",
       "      <td>19.0</td>\n",
       "      <td>27.0</td>\n",
       "      <td>157</td>\n",
       "    </tr>\n",
       "    <tr>\n",
       "      <td>1</td>\n",
       "      <td>2014Q3</td>\n",
       "      <td>1988</td>\n",
       "      <td>1219829.0</td>\n",
       "      <td>418.0</td>\n",
       "      <td>31.0</td>\n",
       "      <td>46.0</td>\n",
       "      <td>189</td>\n",
       "    </tr>\n",
       "    <tr>\n",
       "      <td>2</td>\n",
       "      <td>2014Q4</td>\n",
       "      <td>1080</td>\n",
       "      <td>435034.0</td>\n",
       "      <td>372.0</td>\n",
       "      <td>39.0</td>\n",
       "      <td>72.0</td>\n",
       "      <td>216</td>\n",
       "    </tr>\n",
       "    <tr>\n",
       "      <td>3</td>\n",
       "      <td>2015Q1</td>\n",
       "      <td>805</td>\n",
       "      <td>645995.0</td>\n",
       "      <td>357.0</td>\n",
       "      <td>22.0</td>\n",
       "      <td>46.0</td>\n",
       "      <td>190</td>\n",
       "    </tr>\n",
       "    <tr>\n",
       "      <td>4</td>\n",
       "      <td>2015Q2</td>\n",
       "      <td>1372</td>\n",
       "      <td>811490.0</td>\n",
       "      <td>465.0</td>\n",
       "      <td>43.0</td>\n",
       "      <td>77.0</td>\n",
       "      <td>284</td>\n",
       "    </tr>\n",
       "  </tbody>\n",
       "</table>\n",
       "</div>"
      ],
      "text/plain": [
       "  YearQuarter  Score  ViewCount  AnswerCount  deep learning  classification  \\\n",
       "0      2014Q2   2472   988829.0        547.0           19.0            27.0   \n",
       "1      2014Q3   1988  1219829.0        418.0           31.0            46.0   \n",
       "2      2014Q4   1080   435034.0        372.0           39.0            72.0   \n",
       "3      2015Q1    805   645995.0        357.0           22.0            46.0   \n",
       "4      2015Q2   1372   811490.0        465.0           43.0            77.0   \n",
       "\n",
       "   total_posts  \n",
       "0          157  \n",
       "1          189  \n",
       "2          216  \n",
       "3          190  \n",
       "4          284  "
      ]
     },
     "execution_count": 267,
     "metadata": {},
     "output_type": "execute_result"
    }
   ],
   "source": [
    "tags_by_date.head()"
   ]
  },
  {
   "cell_type": "code",
   "execution_count": 268,
   "metadata": {},
   "outputs": [],
   "source": [
    "views_by_date = posts[['YearQuarter','Score','ViewCount','deep learning','classification']].groupby(['YearQuarter','deep learning','classification'],as_index=False).sum()\n",
    "views_DL = views_by_date.loc[views_by_date['deep learning'],[\"YearQuarter\",\"ViewCount\"]]\n",
    "views_C = views_by_date.loc[views_by_date['classification'],[\"YearQuarter\",\"ViewCount\"]]\n",
    "views_DL = views_DL.groupby('YearQuarter').sum()\n",
    "views_C = views_C.groupby('YearQuarter').sum()"
   ]
  },
  {
   "cell_type": "code",
   "execution_count": 269,
   "metadata": {},
   "outputs": [],
   "source": [
    "views_by_date = views_DL.merge(views_C, how=\"left\", left_on=\"YearQuarter\", right_on=\"YearQuarter\", suffixes=(\"_DL\",\"_C\"))\n",
    "views_by_date = views_by_date.merge(tags_by_date[['YearQuarter','ViewCount']], how=\"right\", left_on=\"YearQuarter\", right_on=\"YearQuarter\")\n",
    "\n",
    "views_by_date['Deep Learning views rate'] = views_by_date['ViewCount_DL'] / views_by_date['ViewCount']\n",
    "views_by_date['Classification views rate'] = views_by_date['ViewCount_C'] / views_by_date['ViewCount']"
   ]
  },
  {
   "cell_type": "code",
   "execution_count": 270,
   "metadata": {},
   "outputs": [],
   "source": [
    "tags_by_date['Deep Learning posts'] = tags_by_date['deep learning'] / tags_by_date['total_posts']\n",
    "tags_by_date['Classification posts'] = tags_by_date['classification'] / tags_by_date['total_posts']"
   ]
  },
  {
   "cell_type": "markdown",
   "metadata": {},
   "source": [
    "### Tag popularity plots\n",
    "To notice the possible trend I am going to plot two groups in respect to the number of posts and number of views. Data has been normalized to (0,1) range representing share of posts and views in regards to the total number."
   ]
  },
  {
   "cell_type": "code",
   "execution_count": 271,
   "metadata": {},
   "outputs": [
    {
     "data": {
      "text/plain": [
       "<matplotlib.legend.Legend at 0x1d08356a588>"
      ]
     },
     "execution_count": 271,
     "metadata": {},
     "output_type": "execute_result"
    },
    {
     "data": {
      "image/png": "[encoded data removed]",
      "text/plain": [
       "<Figure size 792x432 with 1 Axes>"
      ]
     },
     "metadata": {
      "needs_background": "light"
     },
     "output_type": "display_data"
    }
   ],
   "source": [
    "tags_by_date.plot(kind=\"bar\",x='YearQuarter',y=['Classification posts','Deep Learning posts'], title=\"Number of posts\", figsize=(11,6)).legend(bbox_to_anchor=(1.1, 0.6))"
   ]
  },
  {
   "cell_type": "markdown",
   "metadata": {},
   "source": [
    "- Classification related tags are relatively stable. The are mostly within 20-30% range of all posts with the slight decreasing trend starting in 2016. Since 2018 tha values do not largely exceed 25%.\n",
    "- Deep learning subjects had noted a great continues growth between 2015 and 2017. In 2018 it started to stabilize yet still oscilaiting around 40% of the threads. \n"
   ]
  },
  {
   "cell_type": "code",
   "execution_count": 272,
   "metadata": {},
   "outputs": [
    {
     "data": {
      "text/plain": [
       "<matplotlib.legend.Legend at 0x1d0835d3a08>"
      ]
     },
     "execution_count": 272,
     "metadata": {},
     "output_type": "execute_result"
    },
    {
     "data": {
      "image/png": "[encoded data removed]",
      "text/plain": [
       "<Figure size 792x432 with 1 Axes>"
      ]
     },
     "metadata": {
      "needs_background": "light"
     },
     "output_type": "display_data"
    }
   ],
   "source": [
    "views_by_date.plot(kind=\"bar\", x='YearQuarter',y=['Classification views rate','Deep Learning views rate'], title=\"Number of views\", figsize=(11,6)).legend(bbox_to_anchor=(1.1, 0.6))"
   ]
  },
  {
   "cell_type": "markdown",
   "metadata": {},
   "source": [
    "Deep learning growth is not that vastly reflected in number of views, yet the popularity of the subject in recent years is extensive. Deep learning had outnumbered classification in Q3 2016, although it encountered a slight drop in 2018, it had recovered in the subsequent year."
   ]
  },
  {
   "cell_type": "markdown",
   "metadata": {},
   "source": [
    "## Summary\n",
    "Deep Learning is a relatively new domain gaining popularity due to its usefullness and flexibility. Performing a analysis on posts from Stack Exchange Data Science board has proven that among data scientist the number of problems in a related area constantly grows. \n",
    "Specialists attempting to understand and learn Deep Learning in a wide scope might use online courses or learn from a well written scientific book position that they can always refer to in the future. Considering that, my recommendation is to focus on Deep Learning thematics in a current bookstore offer. "
   ]
  }
 ],
 "metadata": {
  "kernelspec": {
   "display_name": "Python 3",
   "language": "python",
   "name": "python3"
  },
  "language_info": {
   "codemirror_mode": {
    "name": "ipython",
    "version": 3
   },
   "file_extension": ".py",
   "mimetype": "text/x-python",
   "name": "python",
   "nbconvert_exporter": "python",
   "pygments_lexer": "ipython3",
   "version": "3.7.4"
  }
 },
 "nbformat": 4,
 "nbformat_minor": 2
}
